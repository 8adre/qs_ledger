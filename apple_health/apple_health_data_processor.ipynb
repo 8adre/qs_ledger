{
 "cells": [
  {
   "cell_type": "markdown",
   "metadata": {},
   "source": [
    "## Apple Health Processor"
   ]
  },
  {
   "cell_type": "markdown",
   "metadata": {},
   "source": [
    "-----"
   ]
  },
  {
   "cell_type": "markdown",
   "metadata": {},
   "source": [
    "## Dependencies and Libraries"
   ]
  },
  {
   "cell_type": "code",
   "execution_count": 1,
   "metadata": {
    "collapsed": true
   },
   "outputs": [],
   "source": [
    "from datetime import date, datetime, timedelta as td\n",
    "import pytz\n",
    "import numpy as np\n",
    "import pandas as pd\n",
    "import matplotlib.pyplot as plt\n",
    "%matplotlib inline"
   ]
  },
  {
   "cell_type": "markdown",
   "metadata": {},
   "source": [
    "------"
   ]
  },
  {
   "cell_type": "markdown",
   "metadata": {},
   "source": [
    "## Functions for Processing Dates and Timezones"
   ]
  },
  {
   "cell_type": "code",
   "execution_count": 2,
   "metadata": {
    "collapsed": true
   },
   "outputs": [],
   "source": [
    "# functions to convert UTC to Shanghai time zone and extract date/time elements\n",
    "convert_tz = lambda x: x.to_pydatetime().replace(tzinfo=pytz.utc).astimezone(pytz.timezone('Asia/Shanghai'))\n",
    "get_year = lambda x: convert_tz(x).year\n",
    "get_month = lambda x: '{}-{:02}'.format(convert_tz(x).year, convert_tz(x).month) #inefficient\n",
    "get_date = lambda x: '{}-{:02}-{:02}'.format(convert_tz(x).year, convert_tz(x).month, convert_tz(x).day) #inefficient\n",
    "get_day = lambda x: convert_tz(x).day\n",
    "get_hour = lambda x: convert_tz(x).hour\n",
    "get_day_of_week = lambda x: convert_tz(x).weekday()"
   ]
  },
  {
   "cell_type": "markdown",
   "metadata": {},
   "source": [
    "---"
   ]
  },
  {
   "cell_type": "markdown",
   "metadata": {},
   "source": [
    "## Steps"
   ]
  },
  {
   "cell_type": "code",
   "execution_count": 3,
   "metadata": {
    "collapsed": true
   },
   "outputs": [],
   "source": [
    "steps = pd.read_csv(\"data/StepCount.csv\")"
   ]
  },
  {
   "cell_type": "code",
   "execution_count": 4,
   "metadata": {},
   "outputs": [
    {
     "data": {
      "text/html": [
       "<div>\n",
       "<style scoped>\n",
       "    .dataframe tbody tr th:only-of-type {\n",
       "        vertical-align: middle;\n",
       "    }\n",
       "\n",
       "    .dataframe tbody tr th {\n",
       "        vertical-align: top;\n",
       "    }\n",
       "\n",
       "    .dataframe thead th {\n",
       "        text-align: right;\n",
       "    }\n",
       "</style>\n",
       "<table border=\"1\" class=\"dataframe\">\n",
       "  <thead>\n",
       "    <tr style=\"text-align: right;\">\n",
       "      <th></th>\n",
       "      <th>sourceName</th>\n",
       "      <th>sourceVersion</th>\n",
       "      <th>device</th>\n",
       "      <th>type</th>\n",
       "      <th>unit</th>\n",
       "      <th>creationDate</th>\n",
       "      <th>startDate</th>\n",
       "      <th>endDate</th>\n",
       "      <th>value</th>\n",
       "    </tr>\n",
       "  </thead>\n",
       "  <tbody>\n",
       "    <tr>\n",
       "      <th>109498</th>\n",
       "      <td>Mark’s Apple Watch</td>\n",
       "      <td>5.2</td>\n",
       "      <td>&lt;&lt;HKDevice: 0x280ce9720&gt;, name:Apple Watch, ma...</td>\n",
       "      <td>StepCount</td>\n",
       "      <td>count</td>\n",
       "      <td>2019-07-11 15:21:34 +0800</td>\n",
       "      <td>2019-07-11 15:11:22 +0800</td>\n",
       "      <td>2019-07-11 15:13:56 +0800</td>\n",
       "      <td>47</td>\n",
       "    </tr>\n",
       "    <tr>\n",
       "      <th>109499</th>\n",
       "      <td>Mark’s Apple Watch</td>\n",
       "      <td>5.2</td>\n",
       "      <td>&lt;&lt;HKDevice: 0x280ce9680&gt;, name:Apple Watch, ma...</td>\n",
       "      <td>StepCount</td>\n",
       "      <td>count</td>\n",
       "      <td>2019-07-11 15:48:35 +0800</td>\n",
       "      <td>2019-07-11 15:38:21 +0800</td>\n",
       "      <td>2019-07-11 15:38:24 +0800</td>\n",
       "      <td>8</td>\n",
       "    </tr>\n",
       "    <tr>\n",
       "      <th>109500</th>\n",
       "      <td>Mark’s Apple Watch</td>\n",
       "      <td>5.2</td>\n",
       "      <td>&lt;&lt;HKDevice: 0x280ce95e0&gt;, name:Apple Watch, ma...</td>\n",
       "      <td>StepCount</td>\n",
       "      <td>count</td>\n",
       "      <td>2019-07-11 16:16:33 +0800</td>\n",
       "      <td>2019-07-11 15:57:54 +0800</td>\n",
       "      <td>2019-07-11 16:07:36 +0800</td>\n",
       "      <td>136</td>\n",
       "    </tr>\n",
       "    <tr>\n",
       "      <th>109501</th>\n",
       "      <td>Mark’s Apple Watch</td>\n",
       "      <td>5.2</td>\n",
       "      <td>&lt;&lt;HKDevice: 0x280ce9540&gt;, name:Apple Watch, ma...</td>\n",
       "      <td>StepCount</td>\n",
       "      <td>count</td>\n",
       "      <td>2019-07-11 16:18:52 +0800</td>\n",
       "      <td>2019-07-11 16:08:07 +0800</td>\n",
       "      <td>2019-07-11 16:17:37 +0800</td>\n",
       "      <td>349</td>\n",
       "    </tr>\n",
       "    <tr>\n",
       "      <th>109502</th>\n",
       "      <td>Mark’s Apple Watch</td>\n",
       "      <td>5.2</td>\n",
       "      <td>&lt;&lt;HKDevice: 0x280ce94a0&gt;, name:Apple Watch, ma...</td>\n",
       "      <td>StepCount</td>\n",
       "      <td>count</td>\n",
       "      <td>2019-07-11 16:29:21 +0800</td>\n",
       "      <td>2019-07-11 16:18:18 +0800</td>\n",
       "      <td>2019-07-11 16:19:12 +0800</td>\n",
       "      <td>25</td>\n",
       "    </tr>\n",
       "  </tbody>\n",
       "</table>\n",
       "</div>"
      ],
      "text/plain": [
       "                sourceName sourceVersion  \\\n",
       "109498  Mark’s Apple Watch           5.2   \n",
       "109499  Mark’s Apple Watch           5.2   \n",
       "109500  Mark’s Apple Watch           5.2   \n",
       "109501  Mark’s Apple Watch           5.2   \n",
       "109502  Mark’s Apple Watch           5.2   \n",
       "\n",
       "                                                   device       type   unit  \\\n",
       "109498  <<HKDevice: 0x280ce9720>, name:Apple Watch, ma...  StepCount  count   \n",
       "109499  <<HKDevice: 0x280ce9680>, name:Apple Watch, ma...  StepCount  count   \n",
       "109500  <<HKDevice: 0x280ce95e0>, name:Apple Watch, ma...  StepCount  count   \n",
       "109501  <<HKDevice: 0x280ce9540>, name:Apple Watch, ma...  StepCount  count   \n",
       "109502  <<HKDevice: 0x280ce94a0>, name:Apple Watch, ma...  StepCount  count   \n",
       "\n",
       "                     creationDate                  startDate  \\\n",
       "109498  2019-07-11 15:21:34 +0800  2019-07-11 15:11:22 +0800   \n",
       "109499  2019-07-11 15:48:35 +0800  2019-07-11 15:38:21 +0800   \n",
       "109500  2019-07-11 16:16:33 +0800  2019-07-11 15:57:54 +0800   \n",
       "109501  2019-07-11 16:18:52 +0800  2019-07-11 16:08:07 +0800   \n",
       "109502  2019-07-11 16:29:21 +0800  2019-07-11 16:18:18 +0800   \n",
       "\n",
       "                          endDate  value  \n",
       "109498  2019-07-11 15:13:56 +0800     47  \n",
       "109499  2019-07-11 15:38:24 +0800      8  \n",
       "109500  2019-07-11 16:07:36 +0800    136  \n",
       "109501  2019-07-11 16:17:37 +0800    349  \n",
       "109502  2019-07-11 16:19:12 +0800     25  "
      ]
     },
     "execution_count": 4,
     "metadata": {},
     "output_type": "execute_result"
    }
   ],
   "source": [
    "steps.tail()"
   ]
  },
  {
   "cell_type": "code",
   "execution_count": 5,
   "metadata": {
    "collapsed": true
   },
   "outputs": [],
   "source": [
    "# parse out date and time elements as Shanghai time\n",
    "steps['startDate'] = pd.to_datetime(steps['startDate'])\n",
    "steps['year'] = steps['startDate'].map(get_year)\n",
    "steps['month'] = steps['startDate'].map(get_month)\n",
    "steps['date'] = steps['startDate'].map(get_date)\n",
    "steps['day'] = steps['startDate'].map(get_day)\n",
    "steps['hour'] = steps['startDate'].map(get_hour)\n",
    "steps['dow'] = steps['startDate'].map(get_day_of_week)"
   ]
  },
  {
   "cell_type": "code",
   "execution_count": 6,
   "metadata": {},
   "outputs": [
    {
     "data": {
      "text/html": [
       "<div>\n",
       "<style scoped>\n",
       "    .dataframe tbody tr th:only-of-type {\n",
       "        vertical-align: middle;\n",
       "    }\n",
       "\n",
       "    .dataframe tbody tr th {\n",
       "        vertical-align: top;\n",
       "    }\n",
       "\n",
       "    .dataframe thead th {\n",
       "        text-align: right;\n",
       "    }\n",
       "</style>\n",
       "<table border=\"1\" class=\"dataframe\">\n",
       "  <thead>\n",
       "    <tr style=\"text-align: right;\">\n",
       "      <th></th>\n",
       "      <th>sourceName</th>\n",
       "      <th>sourceVersion</th>\n",
       "      <th>device</th>\n",
       "      <th>type</th>\n",
       "      <th>unit</th>\n",
       "      <th>creationDate</th>\n",
       "      <th>startDate</th>\n",
       "      <th>endDate</th>\n",
       "      <th>value</th>\n",
       "      <th>year</th>\n",
       "      <th>month</th>\n",
       "      <th>date</th>\n",
       "      <th>day</th>\n",
       "      <th>hour</th>\n",
       "      <th>dow</th>\n",
       "    </tr>\n",
       "  </thead>\n",
       "  <tbody>\n",
       "    <tr>\n",
       "      <th>0</th>\n",
       "      <td>Mark’s Apple Watch</td>\n",
       "      <td>3.1.3</td>\n",
       "      <td>&lt;&lt;HKDevice: 0x280cb8320&gt;, name:Apple Watch, ma...</td>\n",
       "      <td>StepCount</td>\n",
       "      <td>count</td>\n",
       "      <td>2017-04-12 13:17:21 +0800</td>\n",
       "      <td>2017-04-12 12:59:26+08:00</td>\n",
       "      <td>2017-04-12 13:05:31 +0800</td>\n",
       "      <td>8</td>\n",
       "      <td>2017</td>\n",
       "      <td>2017-04</td>\n",
       "      <td>2017-04-12</td>\n",
       "      <td>12</td>\n",
       "      <td>20</td>\n",
       "      <td>2</td>\n",
       "    </tr>\n",
       "    <tr>\n",
       "      <th>1</th>\n",
       "      <td>Mark’s Apple Watch</td>\n",
       "      <td>3.1.3</td>\n",
       "      <td>&lt;&lt;HKDevice: 0x280cb83c0&gt;, name:Apple Watch, ma...</td>\n",
       "      <td>StepCount</td>\n",
       "      <td>count</td>\n",
       "      <td>2017-04-12 13:50:23 +0800</td>\n",
       "      <td>2017-04-12 13:43:54+08:00</td>\n",
       "      <td>2017-04-12 13:44:55 +0800</td>\n",
       "      <td>29</td>\n",
       "      <td>2017</td>\n",
       "      <td>2017-04</td>\n",
       "      <td>2017-04-12</td>\n",
       "      <td>12</td>\n",
       "      <td>21</td>\n",
       "      <td>2</td>\n",
       "    </tr>\n",
       "    <tr>\n",
       "      <th>2</th>\n",
       "      <td>“马克\\的 iPhone\"</td>\n",
       "      <td>10.3.1</td>\n",
       "      <td>&lt;&lt;HKDevice: 0x280cb8000&gt;, name:iPhone, manufac...</td>\n",
       "      <td>StepCount</td>\n",
       "      <td>count</td>\n",
       "      <td>2017-04-12 13:52:49 +0800</td>\n",
       "      <td>2017-04-12 13:43:54+08:00</td>\n",
       "      <td>2017-04-12 13:44:48 +0800</td>\n",
       "      <td>25</td>\n",
       "      <td>2017</td>\n",
       "      <td>2017-04</td>\n",
       "      <td>2017-04-12</td>\n",
       "      <td>12</td>\n",
       "      <td>21</td>\n",
       "      <td>2</td>\n",
       "    </tr>\n",
       "    <tr>\n",
       "      <th>3</th>\n",
       "      <td>“马克\\的 iPhone\"</td>\n",
       "      <td>10.3.1</td>\n",
       "      <td>&lt;&lt;HKDevice: 0x280cb8410&gt;, name:iPhone, manufac...</td>\n",
       "      <td>StepCount</td>\n",
       "      <td>count</td>\n",
       "      <td>2017-04-12 13:52:49 +0800</td>\n",
       "      <td>2017-04-12 13:51:44+08:00</td>\n",
       "      <td>2017-04-12 13:52:21 +0800</td>\n",
       "      <td>37</td>\n",
       "      <td>2017</td>\n",
       "      <td>2017-04</td>\n",
       "      <td>2017-04-12</td>\n",
       "      <td>12</td>\n",
       "      <td>21</td>\n",
       "      <td>2</td>\n",
       "    </tr>\n",
       "    <tr>\n",
       "      <th>4</th>\n",
       "      <td>Mark’s Apple Watch</td>\n",
       "      <td>3.1.3</td>\n",
       "      <td>&lt;&lt;HKDevice: 0x280cb84b0&gt;, name:Apple Watch, ma...</td>\n",
       "      <td>StepCount</td>\n",
       "      <td>count</td>\n",
       "      <td>2017-04-12 13:59:45 +0800</td>\n",
       "      <td>2017-04-12 13:50:01+08:00</td>\n",
       "      <td>2017-04-12 13:51:41 +0800</td>\n",
       "      <td>34</td>\n",
       "      <td>2017</td>\n",
       "      <td>2017-04</td>\n",
       "      <td>2017-04-12</td>\n",
       "      <td>12</td>\n",
       "      <td>21</td>\n",
       "      <td>2</td>\n",
       "    </tr>\n",
       "  </tbody>\n",
       "</table>\n",
       "</div>"
      ],
      "text/plain": [
       "           sourceName sourceVersion  \\\n",
       "0  Mark’s Apple Watch         3.1.3   \n",
       "1  Mark’s Apple Watch         3.1.3   \n",
       "2       “马克\\的 iPhone\"        10.3.1   \n",
       "3       “马克\\的 iPhone\"        10.3.1   \n",
       "4  Mark’s Apple Watch         3.1.3   \n",
       "\n",
       "                                              device       type   unit  \\\n",
       "0  <<HKDevice: 0x280cb8320>, name:Apple Watch, ma...  StepCount  count   \n",
       "1  <<HKDevice: 0x280cb83c0>, name:Apple Watch, ma...  StepCount  count   \n",
       "2  <<HKDevice: 0x280cb8000>, name:iPhone, manufac...  StepCount  count   \n",
       "3  <<HKDevice: 0x280cb8410>, name:iPhone, manufac...  StepCount  count   \n",
       "4  <<HKDevice: 0x280cb84b0>, name:Apple Watch, ma...  StepCount  count   \n",
       "\n",
       "                creationDate                 startDate  \\\n",
       "0  2017-04-12 13:17:21 +0800 2017-04-12 12:59:26+08:00   \n",
       "1  2017-04-12 13:50:23 +0800 2017-04-12 13:43:54+08:00   \n",
       "2  2017-04-12 13:52:49 +0800 2017-04-12 13:43:54+08:00   \n",
       "3  2017-04-12 13:52:49 +0800 2017-04-12 13:51:44+08:00   \n",
       "4  2017-04-12 13:59:45 +0800 2017-04-12 13:50:01+08:00   \n",
       "\n",
       "                     endDate  value  year    month        date  day  hour  dow  \n",
       "0  2017-04-12 13:05:31 +0800      8  2017  2017-04  2017-04-12   12    20    2  \n",
       "1  2017-04-12 13:44:55 +0800     29  2017  2017-04  2017-04-12   12    21    2  \n",
       "2  2017-04-12 13:44:48 +0800     25  2017  2017-04  2017-04-12   12    21    2  \n",
       "3  2017-04-12 13:52:21 +0800     37  2017  2017-04  2017-04-12   12    21    2  \n",
       "4  2017-04-12 13:51:41 +0800     34  2017  2017-04  2017-04-12   12    21    2  "
      ]
     },
     "execution_count": 6,
     "metadata": {},
     "output_type": "execute_result"
    }
   ],
   "source": [
    "steps.head()"
   ]
  },
  {
   "cell_type": "code",
   "execution_count": 7,
   "metadata": {},
   "outputs": [
    {
     "data": {
      "text/plain": [
       "Index(['sourceName', 'sourceVersion', 'device', 'type', 'unit', 'creationDate',\n",
       "       'startDate', 'endDate', 'value', 'year', 'month', 'date', 'day', 'hour',\n",
       "       'dow'],\n",
       "      dtype='object')"
      ]
     },
     "execution_count": 7,
     "metadata": {},
     "output_type": "execute_result"
    }
   ],
   "source": [
    "steps.columns"
   ]
  },
  {
   "cell_type": "code",
   "execution_count": 8,
   "metadata": {},
   "outputs": [],
   "source": [
    "steps_by_date = steps.groupby(['date'])['value'].sum().reset_index(name='Steps')"
   ]
  },
  {
   "cell_type": "code",
   "execution_count": 9,
   "metadata": {},
   "outputs": [
    {
     "data": {
      "text/html": [
       "<div>\n",
       "<style scoped>\n",
       "    .dataframe tbody tr th:only-of-type {\n",
       "        vertical-align: middle;\n",
       "    }\n",
       "\n",
       "    .dataframe tbody tr th {\n",
       "        vertical-align: top;\n",
       "    }\n",
       "\n",
       "    .dataframe thead th {\n",
       "        text-align: right;\n",
       "    }\n",
       "</style>\n",
       "<table border=\"1\" class=\"dataframe\">\n",
       "  <thead>\n",
       "    <tr style=\"text-align: right;\">\n",
       "      <th></th>\n",
       "      <th>date</th>\n",
       "      <th>Steps</th>\n",
       "    </tr>\n",
       "  </thead>\n",
       "  <tbody>\n",
       "    <tr>\n",
       "      <th>817</th>\n",
       "      <td>2019-07-08</td>\n",
       "      <td>18749</td>\n",
       "    </tr>\n",
       "    <tr>\n",
       "      <th>818</th>\n",
       "      <td>2019-07-09</td>\n",
       "      <td>9626</td>\n",
       "    </tr>\n",
       "    <tr>\n",
       "      <th>819</th>\n",
       "      <td>2019-07-10</td>\n",
       "      <td>3951</td>\n",
       "    </tr>\n",
       "    <tr>\n",
       "      <th>820</th>\n",
       "      <td>2019-07-11</td>\n",
       "      <td>5645</td>\n",
       "    </tr>\n",
       "    <tr>\n",
       "      <th>821</th>\n",
       "      <td>2019-07-12</td>\n",
       "      <td>374</td>\n",
       "    </tr>\n",
       "  </tbody>\n",
       "</table>\n",
       "</div>"
      ],
      "text/plain": [
       "           date  Steps\n",
       "817  2019-07-08  18749\n",
       "818  2019-07-09   9626\n",
       "819  2019-07-10   3951\n",
       "820  2019-07-11   5645\n",
       "821  2019-07-12    374"
      ]
     },
     "execution_count": 9,
     "metadata": {},
     "output_type": "execute_result"
    }
   ],
   "source": [
    "steps_by_date.tail()"
   ]
  },
  {
   "cell_type": "code",
   "execution_count": 10,
   "metadata": {
    "collapsed": true
   },
   "outputs": [],
   "source": [
    "# steps_by_date.tail(10)\n",
    "steps_by_date.to_csv(\"data/steps_per_day.csv\", index=False)"
   ]
  },
  {
   "cell_type": "markdown",
   "metadata": {},
   "source": [
    "-----"
   ]
  },
  {
   "cell_type": "markdown",
   "metadata": {},
   "source": [
    "### Use Only Watch Steps, Remove Phone Steps"
   ]
  },
  {
   "cell_type": "code",
   "execution_count": 11,
   "metadata": {
    "collapsed": true
   },
   "outputs": [],
   "source": [
    "steps_device_by_year = steps.groupby(['year', 'sourceName'])['value'].sum().reset_index(name='Steps')"
   ]
  },
  {
   "cell_type": "code",
   "execution_count": 12,
   "metadata": {},
   "outputs": [
    {
     "data": {
      "text/html": [
       "<div>\n",
       "<style scoped>\n",
       "    .dataframe tbody tr th:only-of-type {\n",
       "        vertical-align: middle;\n",
       "    }\n",
       "\n",
       "    .dataframe tbody tr th {\n",
       "        vertical-align: top;\n",
       "    }\n",
       "\n",
       "    .dataframe thead th {\n",
       "        text-align: right;\n",
       "    }\n",
       "</style>\n",
       "<table border=\"1\" class=\"dataframe\">\n",
       "  <thead>\n",
       "    <tr style=\"text-align: right;\">\n",
       "      <th></th>\n",
       "      <th>year</th>\n",
       "      <th>sourceName</th>\n",
       "      <th>Steps</th>\n",
       "    </tr>\n",
       "  </thead>\n",
       "  <tbody>\n",
       "    <tr>\n",
       "      <th>0</th>\n",
       "      <td>2017</td>\n",
       "      <td>Mark’s Apple Watch</td>\n",
       "      <td>3212141</td>\n",
       "    </tr>\n",
       "    <tr>\n",
       "      <th>1</th>\n",
       "      <td>2017</td>\n",
       "      <td>“马克\\的 iPhone\"</td>\n",
       "      <td>2261173</td>\n",
       "    </tr>\n",
       "    <tr>\n",
       "      <th>2</th>\n",
       "      <td>2018</td>\n",
       "      <td>Mark’s Apple Watch</td>\n",
       "      <td>3849766</td>\n",
       "    </tr>\n",
       "    <tr>\n",
       "      <th>3</th>\n",
       "      <td>2018</td>\n",
       "      <td>Mi Fit</td>\n",
       "      <td>1125700</td>\n",
       "    </tr>\n",
       "    <tr>\n",
       "      <th>4</th>\n",
       "      <td>2018</td>\n",
       "      <td>“马克\\的 iPhone\"</td>\n",
       "      <td>2691972</td>\n",
       "    </tr>\n",
       "    <tr>\n",
       "      <th>5</th>\n",
       "      <td>2019</td>\n",
       "      <td>Mark’s Apple Watch</td>\n",
       "      <td>1748191</td>\n",
       "    </tr>\n",
       "    <tr>\n",
       "      <th>6</th>\n",
       "      <td>2019</td>\n",
       "      <td>Mi Fit</td>\n",
       "      <td>320258</td>\n",
       "    </tr>\n",
       "    <tr>\n",
       "      <th>7</th>\n",
       "      <td>2019</td>\n",
       "      <td>“马克\\的 iPhone\"</td>\n",
       "      <td>1097233</td>\n",
       "    </tr>\n",
       "  </tbody>\n",
       "</table>\n",
       "</div>"
      ],
      "text/plain": [
       "   year          sourceName    Steps\n",
       "0  2017  Mark’s Apple Watch  3212141\n",
       "1  2017       “马克\\的 iPhone\"  2261173\n",
       "2  2018  Mark’s Apple Watch  3849766\n",
       "3  2018              Mi Fit  1125700\n",
       "4  2018       “马克\\的 iPhone\"  2691972\n",
       "5  2019  Mark’s Apple Watch  1748191\n",
       "6  2019              Mi Fit   320258\n",
       "7  2019       “马克\\的 iPhone\"  1097233"
      ]
     },
     "execution_count": 12,
     "metadata": {},
     "output_type": "execute_result"
    }
   ],
   "source": [
    "steps_device_by_year"
   ]
  },
  {
   "cell_type": "code",
   "execution_count": 13,
   "metadata": {},
   "outputs": [
    {
     "data": {
      "text/plain": [
       "array(['Mark’s Apple\\xa0Watch', '“马克\\\\的 iPhone\"', 'Mi Fit'], dtype=object)"
      ]
     },
     "execution_count": 13,
     "metadata": {},
     "output_type": "execute_result"
    }
   ],
   "source": [
    "steps.sourceName.unique()"
   ]
  },
  {
   "cell_type": "code",
   "execution_count": 14,
   "metadata": {
    "collapsed": true
   },
   "outputs": [],
   "source": [
    "# drop phone steps\n",
    "steps = steps[steps.sourceName == 'Mark’s Apple\\xa0Watch']\n",
    "# steps.head()"
   ]
  },
  {
   "cell_type": "markdown",
   "metadata": {},
   "source": [
    "## Rolling Average"
   ]
  },
  {
   "cell_type": "code",
   "execution_count": 15,
   "metadata": {},
   "outputs": [
    {
     "data": {
      "text/plain": [
       "<matplotlib.axes._subplots.AxesSubplot at 0x11f2ed080>"
      ]
     },
     "execution_count": 15,
     "metadata": {},
     "output_type": "execute_result"
    },
    {
     "data": {
      "image/png": "[encoded data removed]",
      "text/plain": [
       "<Figure size 720x432 with 1 Axes>"
      ]
     },
     "metadata": {
      "needs_background": "light"
     },
     "output_type": "display_data"
    }
   ],
   "source": [
    "steps_by_date['RollingMeanSteps'] = steps_by_date.Steps.rolling(window=10, center=True).mean()\n",
    "steps_by_date.plot(x='date', y='RollingMeanSteps', title= 'Daily step counts rolling mean over 10 days', figsize=[10, 6])"
   ]
  },
  {
   "cell_type": "markdown",
   "metadata": {},
   "source": [
    "## Steps by Day of Week"
   ]
  },
  {
   "cell_type": "code",
   "execution_count": 16,
   "metadata": {},
   "outputs": [],
   "source": [
    "steps_by_date['date'] = pd.to_datetime(steps_by_date['date'])\n",
    "steps_by_date['dow'] = steps_by_date['date'].dt.weekday"
   ]
  },
  {
   "cell_type": "code",
   "execution_count": 17,
   "metadata": {},
   "outputs": [
    {
     "data": {
      "text/plain": [
       "Text(0.5, 0, 'Day of Week')"
      ]
     },
     "execution_count": 17,
     "metadata": {},
     "output_type": "execute_result"
    },
    {
     "data": {
      "image/png": "[encoded data removed]",
      "text/plain": [
       "<Figure size 720x432 with 1 Axes>"
      ]
     },
     "metadata": {
      "needs_background": "light"
     },
     "output_type": "display_data"
    }
   ],
   "source": [
    "data = steps_by_date.groupby(['dow'])['Steps'].mean()\n",
    "\n",
    "fig, ax = plt.subplots(figsize=[10, 6])\n",
    "ax = data.plot(kind='bar', x='day_of_week')\n",
    "\n",
    "n_groups = len(data)\n",
    "index = np.arange(n_groups)\n",
    "opacity = 0.75\n",
    "\n",
    "#fig, ax = plt.subplots(figsize=[10, 6])\n",
    "ax.yaxis.grid(True)\n",
    "\n",
    "plt.suptitle('Average Steps by Day of the Week', fontsize=16)\n",
    "dow_labels = ['Monday', 'Tuesday', 'Wednesday', 'Thursday', 'Friday', 'Saturday', 'Sunday']\n",
    "plt.xticks(index, dow_labels, rotation=45)\n",
    "plt.xlabel('Day of Week', fontsize=12, color='red')"
   ]
  },
  {
   "cell_type": "markdown",
   "metadata": {},
   "source": [
    "------"
   ]
  },
  {
   "cell_type": "markdown",
   "metadata": {},
   "source": [
    "## Monthly Steps"
   ]
  },
  {
   "cell_type": "code",
   "execution_count": 18,
   "metadata": {
    "collapsed": true
   },
   "outputs": [],
   "source": [
    "total_steps_by_month = steps.groupby(['month'])['value'].sum().reset_index(name='Steps')"
   ]
  },
  {
   "cell_type": "code",
   "execution_count": 19,
   "metadata": {},
   "outputs": [
    {
     "data": {
      "text/html": [
       "<div>\n",
       "<style scoped>\n",
       "    .dataframe tbody tr th:only-of-type {\n",
       "        vertical-align: middle;\n",
       "    }\n",
       "\n",
       "    .dataframe tbody tr th {\n",
       "        vertical-align: top;\n",
       "    }\n",
       "\n",
       "    .dataframe thead th {\n",
       "        text-align: right;\n",
       "    }\n",
       "</style>\n",
       "<table border=\"1\" class=\"dataframe\">\n",
       "  <thead>\n",
       "    <tr style=\"text-align: right;\">\n",
       "      <th></th>\n",
       "      <th>month</th>\n",
       "      <th>Steps</th>\n",
       "    </tr>\n",
       "  </thead>\n",
       "  <tbody>\n",
       "    <tr>\n",
       "      <th>0</th>\n",
       "      <td>2017-04</td>\n",
       "      <td>204787</td>\n",
       "    </tr>\n",
       "    <tr>\n",
       "      <th>1</th>\n",
       "      <td>2017-05</td>\n",
       "      <td>339449</td>\n",
       "    </tr>\n",
       "    <tr>\n",
       "      <th>2</th>\n",
       "      <td>2017-06</td>\n",
       "      <td>373261</td>\n",
       "    </tr>\n",
       "    <tr>\n",
       "      <th>3</th>\n",
       "      <td>2017-07</td>\n",
       "      <td>333885</td>\n",
       "    </tr>\n",
       "    <tr>\n",
       "      <th>4</th>\n",
       "      <td>2017-08</td>\n",
       "      <td>364221</td>\n",
       "    </tr>\n",
       "    <tr>\n",
       "      <th>5</th>\n",
       "      <td>2017-09</td>\n",
       "      <td>400836</td>\n",
       "    </tr>\n",
       "    <tr>\n",
       "      <th>6</th>\n",
       "      <td>2017-10</td>\n",
       "      <td>436496</td>\n",
       "    </tr>\n",
       "    <tr>\n",
       "      <th>7</th>\n",
       "      <td>2017-11</td>\n",
       "      <td>331955</td>\n",
       "    </tr>\n",
       "    <tr>\n",
       "      <th>8</th>\n",
       "      <td>2017-12</td>\n",
       "      <td>427251</td>\n",
       "    </tr>\n",
       "    <tr>\n",
       "      <th>9</th>\n",
       "      <td>2018-01</td>\n",
       "      <td>435929</td>\n",
       "    </tr>\n",
       "    <tr>\n",
       "      <th>10</th>\n",
       "      <td>2018-02</td>\n",
       "      <td>272435</td>\n",
       "    </tr>\n",
       "    <tr>\n",
       "      <th>11</th>\n",
       "      <td>2018-03</td>\n",
       "      <td>308249</td>\n",
       "    </tr>\n",
       "    <tr>\n",
       "      <th>12</th>\n",
       "      <td>2018-04</td>\n",
       "      <td>309398</td>\n",
       "    </tr>\n",
       "    <tr>\n",
       "      <th>13</th>\n",
       "      <td>2018-05</td>\n",
       "      <td>269765</td>\n",
       "    </tr>\n",
       "    <tr>\n",
       "      <th>14</th>\n",
       "      <td>2018-06</td>\n",
       "      <td>283954</td>\n",
       "    </tr>\n",
       "    <tr>\n",
       "      <th>15</th>\n",
       "      <td>2018-07</td>\n",
       "      <td>342733</td>\n",
       "    </tr>\n",
       "    <tr>\n",
       "      <th>16</th>\n",
       "      <td>2018-08</td>\n",
       "      <td>397392</td>\n",
       "    </tr>\n",
       "    <tr>\n",
       "      <th>17</th>\n",
       "      <td>2018-09</td>\n",
       "      <td>338755</td>\n",
       "    </tr>\n",
       "    <tr>\n",
       "      <th>18</th>\n",
       "      <td>2018-10</td>\n",
       "      <td>341768</td>\n",
       "    </tr>\n",
       "    <tr>\n",
       "      <th>19</th>\n",
       "      <td>2018-11</td>\n",
       "      <td>260837</td>\n",
       "    </tr>\n",
       "    <tr>\n",
       "      <th>20</th>\n",
       "      <td>2018-12</td>\n",
       "      <td>288551</td>\n",
       "    </tr>\n",
       "    <tr>\n",
       "      <th>21</th>\n",
       "      <td>2019-01</td>\n",
       "      <td>298633</td>\n",
       "    </tr>\n",
       "    <tr>\n",
       "      <th>22</th>\n",
       "      <td>2019-02</td>\n",
       "      <td>260930</td>\n",
       "    </tr>\n",
       "    <tr>\n",
       "      <th>23</th>\n",
       "      <td>2019-03</td>\n",
       "      <td>305882</td>\n",
       "    </tr>\n",
       "    <tr>\n",
       "      <th>24</th>\n",
       "      <td>2019-04</td>\n",
       "      <td>265062</td>\n",
       "    </tr>\n",
       "    <tr>\n",
       "      <th>25</th>\n",
       "      <td>2019-05</td>\n",
       "      <td>286011</td>\n",
       "    </tr>\n",
       "    <tr>\n",
       "      <th>26</th>\n",
       "      <td>2019-06</td>\n",
       "      <td>244419</td>\n",
       "    </tr>\n",
       "    <tr>\n",
       "      <th>27</th>\n",
       "      <td>2019-07</td>\n",
       "      <td>87254</td>\n",
       "    </tr>\n",
       "  </tbody>\n",
       "</table>\n",
       "</div>"
      ],
      "text/plain": [
       "      month   Steps\n",
       "0   2017-04  204787\n",
       "1   2017-05  339449\n",
       "2   2017-06  373261\n",
       "3   2017-07  333885\n",
       "4   2017-08  364221\n",
       "5   2017-09  400836\n",
       "6   2017-10  436496\n",
       "7   2017-11  331955\n",
       "8   2017-12  427251\n",
       "9   2018-01  435929\n",
       "10  2018-02  272435\n",
       "11  2018-03  308249\n",
       "12  2018-04  309398\n",
       "13  2018-05  269765\n",
       "14  2018-06  283954\n",
       "15  2018-07  342733\n",
       "16  2018-08  397392\n",
       "17  2018-09  338755\n",
       "18  2018-10  341768\n",
       "19  2018-11  260837\n",
       "20  2018-12  288551\n",
       "21  2019-01  298633\n",
       "22  2019-02  260930\n",
       "23  2019-03  305882\n",
       "24  2019-04  265062\n",
       "25  2019-05  286011\n",
       "26  2019-06  244419\n",
       "27  2019-07   87254"
      ]
     },
     "execution_count": 19,
     "metadata": {},
     "output_type": "execute_result"
    }
   ],
   "source": [
    "total_steps_by_month"
   ]
  },
  {
   "cell_type": "code",
   "execution_count": 20,
   "metadata": {},
   "outputs": [
    {
     "data": {
      "image/png": "[encoded data removed]",
      "text/plain": [
       "<Figure size 864x360 with 1 Axes>"
      ]
     },
     "metadata": {
      "needs_background": "light"
     },
     "output_type": "display_data"
    }
   ],
   "source": [
    "# a bit of a hackish solution, could use improvement\n",
    "dataset = total_steps_by_month\n",
    "chart_title = 'Number of Steps per month'\n",
    "\n",
    "n_groups = len(dataset)\n",
    "index = np.arange(n_groups)\n",
    "\n",
    "ax = dataset.plot(kind='line', figsize=[12, 5], linewidth=4, alpha=1, marker='o', color='#6684c1', \n",
    "                      markeredgecolor='#6684c1', markerfacecolor='w', markersize=8, markeredgewidth=2)\n",
    "\n",
    "# ax.set_xlim((year_counts.index[0], year_counts.index[-1]))\n",
    "\n",
    "ax.yaxis.grid(True)\n",
    "ax.xaxis.grid(True)\n",
    "# ax.set_ylim(0, 1000)\n",
    "ax.set_xticks(index)\n",
    "ax.set_ylabel('Step Count')\n",
    "# ax.set_xlabel('')\n",
    "plt.xticks(index, dataset.month, rotation=90)\n",
    "ax.set_title(chart_title)\n",
    "\n",
    "plt.show()"
   ]
  },
  {
   "cell_type": "markdown",
   "metadata": {},
   "source": [
    "----"
   ]
  },
  {
   "cell_type": "markdown",
   "metadata": {},
   "source": [
    "## Steps Per Year"
   ]
  },
  {
   "cell_type": "code",
   "execution_count": 21,
   "metadata": {
    "collapsed": true
   },
   "outputs": [],
   "source": [
    "total_steps_by_years = steps.groupby(['year'])['value'].sum().reset_index(name='Steps')"
   ]
  },
  {
   "cell_type": "code",
   "execution_count": 22,
   "metadata": {},
   "outputs": [
    {
     "data": {
      "text/html": [
       "<div>\n",
       "<style scoped>\n",
       "    .dataframe tbody tr th:only-of-type {\n",
       "        vertical-align: middle;\n",
       "    }\n",
       "\n",
       "    .dataframe tbody tr th {\n",
       "        vertical-align: top;\n",
       "    }\n",
       "\n",
       "    .dataframe thead th {\n",
       "        text-align: right;\n",
       "    }\n",
       "</style>\n",
       "<table border=\"1\" class=\"dataframe\">\n",
       "  <thead>\n",
       "    <tr style=\"text-align: right;\">\n",
       "      <th></th>\n",
       "      <th>year</th>\n",
       "      <th>Steps</th>\n",
       "    </tr>\n",
       "  </thead>\n",
       "  <tbody>\n",
       "    <tr>\n",
       "      <th>0</th>\n",
       "      <td>2017</td>\n",
       "      <td>3212141</td>\n",
       "    </tr>\n",
       "    <tr>\n",
       "      <th>1</th>\n",
       "      <td>2018</td>\n",
       "      <td>3849766</td>\n",
       "    </tr>\n",
       "    <tr>\n",
       "      <th>2</th>\n",
       "      <td>2019</td>\n",
       "      <td>1748191</td>\n",
       "    </tr>\n",
       "  </tbody>\n",
       "</table>\n",
       "</div>"
      ],
      "text/plain": [
       "   year    Steps\n",
       "0  2017  3212141\n",
       "1  2018  3849766\n",
       "2  2019  1748191"
      ]
     },
     "execution_count": 22,
     "metadata": {},
     "output_type": "execute_result"
    }
   ],
   "source": [
    "total_steps_by_years"
   ]
  },
  {
   "cell_type": "code",
   "execution_count": 23,
   "metadata": {},
   "outputs": [
    {
     "data": {
      "image/png": "[encoded data removed]",
      "text/plain": [
       "<Figure size 720x432 with 1 Axes>"
      ]
     },
     "metadata": {
      "needs_background": "light"
     },
     "output_type": "display_data"
    }
   ],
   "source": [
    "dataset = total_steps_by_years\n",
    "\n",
    "n_groups = len(dataset)\n",
    "opacity = 0.5\n",
    "fig, ax = plt.subplots(figsize=[10, 6])\n",
    "ax.yaxis.grid(True)\n",
    "index = np.arange(n_groups)\n",
    "bar_width = 0.4\n",
    "\n",
    "data = plt.bar(index, dataset.Steps, bar_width,\n",
    "                 alpha=opacity,\n",
    "                 color='c',\n",
    "                 label='Steps')\n",
    "\n",
    "data[-1].set_color('r')\n",
    "\n",
    "plt.ylabel('Steps')\n",
    "plt.title('Total Steps Per Year')\n",
    "plt.xticks(index, dataset.year, rotation=45)\n",
    "plt.legend()\n",
    "\n",
    "plt.tight_layout()\n",
    "plt.show()"
   ]
  },
  {
   "cell_type": "markdown",
   "metadata": {},
   "source": [
    "-----"
   ]
  },
  {
   "cell_type": "markdown",
   "metadata": {},
   "source": [
    "## Steps by Hour of Day"
   ]
  },
  {
   "cell_type": "code",
   "execution_count": 24,
   "metadata": {
    "collapsed": true
   },
   "outputs": [],
   "source": [
    "hour_steps = steps.groupby(['hour'])['value'].sum().reset_index(name='Steps')"
   ]
  },
  {
   "cell_type": "code",
   "execution_count": 25,
   "metadata": {
    "collapsed": true
   },
   "outputs": [],
   "source": [
    "# hour_steps"
   ]
  },
  {
   "cell_type": "code",
   "execution_count": 26,
   "metadata": {},
   "outputs": [
    {
     "data": {
      "image/png": "[encoded data removed]",
      "text/plain": [
       "<Figure size 720x360 with 1 Axes>"
      ]
     },
     "metadata": {
      "needs_background": "light"
     },
     "output_type": "display_data"
    }
   ],
   "source": [
    "ax = hour_steps.Steps.plot(kind='line', figsize=[10, 5], linewidth=4, alpha=1, marker='o', color='#6684c1', \n",
    "                      markeredgecolor='#6684c1', markerfacecolor='w', markersize=8, markeredgewidth=2)\n",
    "\n",
    "xlabels = hour_steps.index.map(lambda x: '{:02}:00'.format(x))\n",
    "ax.set_xticks(range(len(xlabels)))\n",
    "ax.set_xticklabels(xlabels, rotation=45, rotation_mode='anchor', ha='right')\n",
    "\n",
    "# ax.set_xlim((hour_steps.index[0], hour_steps.index[-1]))\n",
    "\n",
    "ax.yaxis.grid(True)\n",
    "# ax.set_ylim((0, 1300))\n",
    "ax.set_ylabel('Steps')\n",
    "ax.set_xlabel('')\n",
    "ax.set_title('Steps by hour the day')\n",
    "\n",
    "plt.show()"
   ]
  },
  {
   "cell_type": "markdown",
   "metadata": {},
   "source": [
    "-----"
   ]
  },
  {
   "cell_type": "code",
   "execution_count": 27,
   "metadata": {},
   "outputs": [],
   "source": [
    "weight = pd.read_csv(\"data/BodyMass.csv\")"
   ]
  },
  {
   "cell_type": "code",
   "execution_count": 28,
   "metadata": {},
   "outputs": [],
   "source": [
    "# weight.columns"
   ]
  },
  {
   "cell_type": "code",
   "execution_count": 29,
   "metadata": {},
   "outputs": [],
   "source": [
    "# parse out date and time elements as Shanghai time\n",
    "weight['startDate'] = pd.to_datetime(weight['startDate'])\n",
    "weight['year'] = weight['startDate'].map(get_year)\n",
    "weight['month'] = weight['startDate'].map(get_month)\n",
    "weight['date'] = weight['startDate'].map(get_date)"
   ]
  },
  {
   "cell_type": "code",
   "execution_count": 30,
   "metadata": {},
   "outputs": [
    {
     "data": {
      "text/html": [
       "<div>\n",
       "<style scoped>\n",
       "    .dataframe tbody tr th:only-of-type {\n",
       "        vertical-align: middle;\n",
       "    }\n",
       "\n",
       "    .dataframe tbody tr th {\n",
       "        vertical-align: top;\n",
       "    }\n",
       "\n",
       "    .dataframe thead th {\n",
       "        text-align: right;\n",
       "    }\n",
       "</style>\n",
       "<table border=\"1\" class=\"dataframe\">\n",
       "  <thead>\n",
       "    <tr style=\"text-align: right;\">\n",
       "      <th></th>\n",
       "      <th>sourceName</th>\n",
       "      <th>sourceVersion</th>\n",
       "      <th>device</th>\n",
       "      <th>type</th>\n",
       "      <th>unit</th>\n",
       "      <th>creationDate</th>\n",
       "      <th>startDate</th>\n",
       "      <th>endDate</th>\n",
       "      <th>value</th>\n",
       "      <th>year</th>\n",
       "      <th>month</th>\n",
       "      <th>date</th>\n",
       "    </tr>\n",
       "  </thead>\n",
       "  <tbody>\n",
       "    <tr>\n",
       "      <th>131</th>\n",
       "      <td>Shortcuts</td>\n",
       "      <td>784</td>\n",
       "      <td>NaN</td>\n",
       "      <td>BodyMass</td>\n",
       "      <td>kg</td>\n",
       "      <td>2019-06-21 10:00:46 +0800</td>\n",
       "      <td>2019-06-21 10:00:46+08:00</td>\n",
       "      <td>2019-06-21 10:00:46 +0800</td>\n",
       "      <td>80.5</td>\n",
       "      <td>2019</td>\n",
       "      <td>2019-06</td>\n",
       "      <td>2019-06-21</td>\n",
       "    </tr>\n",
       "    <tr>\n",
       "      <th>132</th>\n",
       "      <td>Fitbod</td>\n",
       "      <td>2</td>\n",
       "      <td>NaN</td>\n",
       "      <td>BodyMass</td>\n",
       "      <td>kg</td>\n",
       "      <td>2019-06-23 12:32:38 +0800</td>\n",
       "      <td>2019-06-23 12:32:38+08:00</td>\n",
       "      <td>2019-06-23 12:32:38 +0800</td>\n",
       "      <td>80.5</td>\n",
       "      <td>2019</td>\n",
       "      <td>2019-06</td>\n",
       "      <td>2019-06-23</td>\n",
       "    </tr>\n",
       "    <tr>\n",
       "      <th>133</th>\n",
       "      <td>Shortcuts</td>\n",
       "      <td>784</td>\n",
       "      <td>NaN</td>\n",
       "      <td>BodyMass</td>\n",
       "      <td>kg</td>\n",
       "      <td>2019-06-26 21:26:41 +0800</td>\n",
       "      <td>2019-06-26 21:26:41+08:00</td>\n",
       "      <td>2019-06-26 21:26:41 +0800</td>\n",
       "      <td>80.3</td>\n",
       "      <td>2019</td>\n",
       "      <td>2019-06</td>\n",
       "      <td>2019-06-27</td>\n",
       "    </tr>\n",
       "    <tr>\n",
       "      <th>134</th>\n",
       "      <td>Fitbod</td>\n",
       "      <td>2</td>\n",
       "      <td>NaN</td>\n",
       "      <td>BodyMass</td>\n",
       "      <td>kg</td>\n",
       "      <td>2019-06-28 20:00:37 +0800</td>\n",
       "      <td>2019-06-28 20:00:37+08:00</td>\n",
       "      <td>2019-06-28 20:00:37 +0800</td>\n",
       "      <td>80.3</td>\n",
       "      <td>2019</td>\n",
       "      <td>2019-06</td>\n",
       "      <td>2019-06-29</td>\n",
       "    </tr>\n",
       "    <tr>\n",
       "      <th>135</th>\n",
       "      <td>Shortcuts</td>\n",
       "      <td>784</td>\n",
       "      <td>NaN</td>\n",
       "      <td>BodyMass</td>\n",
       "      <td>kg</td>\n",
       "      <td>2019-07-08 17:10:07 +0800</td>\n",
       "      <td>2019-07-08 17:10:07+08:00</td>\n",
       "      <td>2019-07-08 17:10:07 +0800</td>\n",
       "      <td>81.0</td>\n",
       "      <td>2019</td>\n",
       "      <td>2019-07</td>\n",
       "      <td>2019-07-09</td>\n",
       "    </tr>\n",
       "  </tbody>\n",
       "</table>\n",
       "</div>"
      ],
      "text/plain": [
       "    sourceName sourceVersion device      type unit               creationDate  \\\n",
       "131  Shortcuts           784    NaN  BodyMass   kg  2019-06-21 10:00:46 +0800   \n",
       "132     Fitbod             2    NaN  BodyMass   kg  2019-06-23 12:32:38 +0800   \n",
       "133  Shortcuts           784    NaN  BodyMass   kg  2019-06-26 21:26:41 +0800   \n",
       "134     Fitbod             2    NaN  BodyMass   kg  2019-06-28 20:00:37 +0800   \n",
       "135  Shortcuts           784    NaN  BodyMass   kg  2019-07-08 17:10:07 +0800   \n",
       "\n",
       "                    startDate                    endDate  value  year  \\\n",
       "131 2019-06-21 10:00:46+08:00  2019-06-21 10:00:46 +0800   80.5  2019   \n",
       "132 2019-06-23 12:32:38+08:00  2019-06-23 12:32:38 +0800   80.5  2019   \n",
       "133 2019-06-26 21:26:41+08:00  2019-06-26 21:26:41 +0800   80.3  2019   \n",
       "134 2019-06-28 20:00:37+08:00  2019-06-28 20:00:37 +0800   80.3  2019   \n",
       "135 2019-07-08 17:10:07+08:00  2019-07-08 17:10:07 +0800   81.0  2019   \n",
       "\n",
       "       month        date  \n",
       "131  2019-06  2019-06-21  \n",
       "132  2019-06  2019-06-23  \n",
       "133  2019-06  2019-06-27  \n",
       "134  2019-06  2019-06-29  \n",
       "135  2019-07  2019-07-09  "
      ]
     },
     "execution_count": 30,
     "metadata": {},
     "output_type": "execute_result"
    }
   ],
   "source": [
    "weight.tail()"
   ]
  },
  {
   "cell_type": "code",
   "execution_count": 31,
   "metadata": {},
   "outputs": [],
   "source": [
    "month_weight = weight.groupby(['month'])['value'].mean().reset_index(name='Weight')"
   ]
  },
  {
   "cell_type": "code",
   "execution_count": 32,
   "metadata": {},
   "outputs": [],
   "source": [
    "# month_weight"
   ]
  },
  {
   "cell_type": "code",
   "execution_count": 33,
   "metadata": {},
   "outputs": [
    {
     "data": {
      "image/png": "[encoded data removed]",
      "text/plain": [
       "<Figure size 864x360 with 1 Axes>"
      ]
     },
     "metadata": {
      "needs_background": "light"
     },
     "output_type": "display_data"
    }
   ],
   "source": [
    "# a bit of a hackish solution, could use improvement\n",
    "dataset = month_weight\n",
    "chart_title = 'Monthly Weight'\n",
    "\n",
    "n_groups = len(dataset)\n",
    "index = np.arange(n_groups)\n",
    "\n",
    "ax = dataset.plot(kind='line', figsize=[12, 5], linewidth=4, alpha=1, marker='o', color='#6684c1', \n",
    "                      markeredgecolor='#6684c1', markerfacecolor='w', markersize=8, markeredgewidth=2)\n",
    "\n",
    "# ax.set_xlim((year_counts.index[0], year_counts.index[-1]))\n",
    "\n",
    "ax.yaxis.grid(True)\n",
    "ax.xaxis.grid(True)\n",
    "# ax.set_ylim(0, 1000)\n",
    "ax.set_xticks(index)\n",
    "ax.set_ylabel('Weight (lbs)')\n",
    "plt.xticks(index, dataset.month, rotation=90)\n",
    "ax.set_title(chart_title)\n",
    "\n",
    "plt.show()"
   ]
  },
  {
   "cell_type": "code",
   "execution_count": 34,
   "metadata": {},
   "outputs": [],
   "source": [
    "# convert to kg\n",
    "month_weight['kg'] = round(month_weight['Weight'] / 2.205, 2)"
   ]
  },
  {
   "cell_type": "code",
   "execution_count": 35,
   "metadata": {},
   "outputs": [
    {
     "data": {
      "text/plain": [
       "Index(['month', 'Weight', 'kg'], dtype='object')"
      ]
     },
     "execution_count": 35,
     "metadata": {},
     "output_type": "execute_result"
    }
   ],
   "source": [
    "month_weight.columns"
   ]
  },
  {
   "cell_type": "code",
   "execution_count": null,
   "metadata": {},
   "outputs": [],
   "source": []
  },
  {
   "cell_type": "code",
   "execution_count": 36,
   "metadata": {},
   "outputs": [
    {
     "data": {
      "image/png": "[encoded data removed]",
      "text/plain": [
       "<Figure size 864x360 with 1 Axes>"
      ]
     },
     "metadata": {
      "needs_background": "light"
     },
     "output_type": "display_data"
    }
   ],
   "source": [
    "# a bit of a hackish solution, could use improvement\n",
    "dataset = month_weight[['month', 'kg']]\n",
    "chart_title = 'Monthly Weight'\n",
    "\n",
    "n_groups = len(dataset)\n",
    "index = np.arange(n_groups)\n",
    "\n",
    "ax = dataset.plot(kind='line', figsize=[12, 5], linewidth=4, alpha=1, marker='o', color='#6684c1', \n",
    "                      markeredgecolor='#6684c1', markerfacecolor='w', markersize=8, markeredgewidth=2)\n",
    "\n",
    "# ax.set_xlim((year_counts.index[0], year_counts.index[-1]))\n",
    "\n",
    "ax.yaxis.grid(True)\n",
    "ax.xaxis.grid(True)\n",
    "# ax.set_ylim(0, 1000)\n",
    "ax.set_xticks(index)\n",
    "ax.set_ylabel('Weight (kg)')\n",
    "plt.xticks(index, dataset.month, rotation=90)\n",
    "ax.set_title(chart_title)\n",
    "\n",
    "plt.show()"
   ]
  },
  {
   "cell_type": "markdown",
   "metadata": {},
   "source": [
    "## TODO: Heart Rate"
   ]
  },
  {
   "cell_type": "code",
   "execution_count": null,
   "metadata": {
    "collapsed": true
   },
   "outputs": [],
   "source": []
  },
  {
   "cell_type": "code",
   "execution_count": null,
   "metadata": {
    "collapsed": true
   },
   "outputs": [],
   "source": []
  },
  {
   "cell_type": "markdown",
   "metadata": {},
   "source": [
    "------"
   ]
  },
  {
   "cell_type": "markdown",
   "metadata": {},
   "source": [
    "# Sleep"
   ]
  },
  {
   "cell_type": "code",
   "execution_count": 37,
   "metadata": {
    "collapsed": true
   },
   "outputs": [],
   "source": [
    "sleep_raw = pd.read_csv(\"data/SleepAnalysis.csv\")"
   ]
  },
  {
   "cell_type": "code",
   "execution_count": 38,
   "metadata": {},
   "outputs": [
    {
     "data": {
      "text/html": [
       "<div>\n",
       "<style scoped>\n",
       "    .dataframe tbody tr th:only-of-type {\n",
       "        vertical-align: middle;\n",
       "    }\n",
       "\n",
       "    .dataframe tbody tr th {\n",
       "        vertical-align: top;\n",
       "    }\n",
       "\n",
       "    .dataframe thead th {\n",
       "        text-align: right;\n",
       "    }\n",
       "</style>\n",
       "<table border=\"1\" class=\"dataframe\">\n",
       "  <thead>\n",
       "    <tr style=\"text-align: right;\">\n",
       "      <th></th>\n",
       "      <th>sourceName</th>\n",
       "      <th>sourceVersion</th>\n",
       "      <th>device</th>\n",
       "      <th>type</th>\n",
       "      <th>unit</th>\n",
       "      <th>creationDate</th>\n",
       "      <th>startDate</th>\n",
       "      <th>endDate</th>\n",
       "      <th>value</th>\n",
       "    </tr>\n",
       "  </thead>\n",
       "  <tbody>\n",
       "    <tr>\n",
       "      <th>6131</th>\n",
       "      <td>AutoSleep</td>\n",
       "      <td>6.2.9</td>\n",
       "      <td>NaN</td>\n",
       "      <td>SleepAnalysis</td>\n",
       "      <td>NaN</td>\n",
       "      <td>2019-07-10 09:33:11 +0800</td>\n",
       "      <td>2019-07-10 01:30:00 +0800</td>\n",
       "      <td>2019-07-10 08:34:00 +0800</td>\n",
       "      <td>HKCategoryValueSleepAnalysisAsleep</td>\n",
       "    </tr>\n",
       "    <tr>\n",
       "      <th>6132</th>\n",
       "      <td>AutoSleep</td>\n",
       "      <td>6.2.9</td>\n",
       "      <td>NaN</td>\n",
       "      <td>SleepAnalysis</td>\n",
       "      <td>NaN</td>\n",
       "      <td>2019-07-10 09:33:11 +0800</td>\n",
       "      <td>2019-07-10 01:30:00 +0800</td>\n",
       "      <td>2019-07-10 09:19:00 +0800</td>\n",
       "      <td>HKCategoryValueSleepAnalysisInBed</td>\n",
       "    </tr>\n",
       "    <tr>\n",
       "      <th>6133</th>\n",
       "      <td>AutoSleep</td>\n",
       "      <td>6.2.9</td>\n",
       "      <td>NaN</td>\n",
       "      <td>SleepAnalysis</td>\n",
       "      <td>NaN</td>\n",
       "      <td>2019-07-10 09:33:11 +0800</td>\n",
       "      <td>2019-07-10 08:45:00 +0800</td>\n",
       "      <td>2019-07-10 09:19:00 +0800</td>\n",
       "      <td>HKCategoryValueSleepAnalysisAsleep</td>\n",
       "    </tr>\n",
       "    <tr>\n",
       "      <th>6134</th>\n",
       "      <td>AutoSleep</td>\n",
       "      <td>6.2.9</td>\n",
       "      <td>NaN</td>\n",
       "      <td>SleepAnalysis</td>\n",
       "      <td>NaN</td>\n",
       "      <td>2019-07-11 10:04:51 +0800</td>\n",
       "      <td>2019-07-11 00:45:00 +0800</td>\n",
       "      <td>2019-07-11 10:03:00 +0800</td>\n",
       "      <td>HKCategoryValueSleepAnalysisInBed</td>\n",
       "    </tr>\n",
       "    <tr>\n",
       "      <th>6135</th>\n",
       "      <td>AutoSleep</td>\n",
       "      <td>6.2.9</td>\n",
       "      <td>NaN</td>\n",
       "      <td>SleepAnalysis</td>\n",
       "      <td>NaN</td>\n",
       "      <td>2019-07-11 10:04:51 +0800</td>\n",
       "      <td>2019-07-11 00:45:00 +0800</td>\n",
       "      <td>2019-07-11 10:03:00 +0800</td>\n",
       "      <td>HKCategoryValueSleepAnalysisAsleep</td>\n",
       "    </tr>\n",
       "  </tbody>\n",
       "</table>\n",
       "</div>"
      ],
      "text/plain": [
       "     sourceName sourceVersion  device           type  unit  \\\n",
       "6131  AutoSleep         6.2.9     NaN  SleepAnalysis   NaN   \n",
       "6132  AutoSleep         6.2.9     NaN  SleepAnalysis   NaN   \n",
       "6133  AutoSleep         6.2.9     NaN  SleepAnalysis   NaN   \n",
       "6134  AutoSleep         6.2.9     NaN  SleepAnalysis   NaN   \n",
       "6135  AutoSleep         6.2.9     NaN  SleepAnalysis   NaN   \n",
       "\n",
       "                   creationDate                  startDate  \\\n",
       "6131  2019-07-10 09:33:11 +0800  2019-07-10 01:30:00 +0800   \n",
       "6132  2019-07-10 09:33:11 +0800  2019-07-10 01:30:00 +0800   \n",
       "6133  2019-07-10 09:33:11 +0800  2019-07-10 08:45:00 +0800   \n",
       "6134  2019-07-11 10:04:51 +0800  2019-07-11 00:45:00 +0800   \n",
       "6135  2019-07-11 10:04:51 +0800  2019-07-11 00:45:00 +0800   \n",
       "\n",
       "                        endDate                               value  \n",
       "6131  2019-07-10 08:34:00 +0800  HKCategoryValueSleepAnalysisAsleep  \n",
       "6132  2019-07-10 09:19:00 +0800   HKCategoryValueSleepAnalysisInBed  \n",
       "6133  2019-07-10 09:19:00 +0800  HKCategoryValueSleepAnalysisAsleep  \n",
       "6134  2019-07-11 10:03:00 +0800   HKCategoryValueSleepAnalysisInBed  \n",
       "6135  2019-07-11 10:03:00 +0800  HKCategoryValueSleepAnalysisAsleep  "
      ]
     },
     "execution_count": 38,
     "metadata": {},
     "output_type": "execute_result"
    }
   ],
   "source": [
    "sleep_raw.tail()"
   ]
  },
  {
   "cell_type": "code",
   "execution_count": 39,
   "metadata": {
    "collapsed": true
   },
   "outputs": [],
   "source": [
    "# parse out date and time elements as Shanghai time\n",
    "steps['startDate'] = pd.to_datetime(steps['startDate'])\n",
    "steps['year'] = steps['startDate'].map(get_year)\n",
    "steps['month'] = steps['startDate'].map(get_month)\n",
    "steps['date'] = steps['startDate'].map(get_date)\n",
    "steps['day'] = steps['startDate'].map(get_day)\n",
    "steps['hour'] = steps['startDate'].map(get_hour)\n",
    "steps['dow'] = steps['startDate'].map(get_day_of_week)"
   ]
  }
 ],
 "metadata": {
  "kernelspec": {
   "display_name": "Python 3",
   "language": "python",
   "name": "python3"
  },
  "language_info": {
   "codemirror_mode": {
    "name": "ipython",
    "version": 3
   },
   "file_extension": ".py",
   "mimetype": "text/x-python",
   "name": "python",
   "nbconvert_exporter": "python",
   "pygments_lexer": "ipython3",
   "version": "3.7.3"
  }
 },
 "nbformat": 4,
 "nbformat_minor": 2
}
