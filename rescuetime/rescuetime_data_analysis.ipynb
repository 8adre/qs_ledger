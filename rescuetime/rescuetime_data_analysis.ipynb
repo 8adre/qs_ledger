{
 "cells": [
  {
   "cell_type": "markdown",
   "metadata": {},
   "source": [
    "# RescueTime: \n",
    "## Data Import, Data Visualization, Data Analysis"
   ]
  },
  {
   "cell_type": "markdown",
   "metadata": {},
   "source": [
    "NOTE: Run RescueTime Downloader to Get your info"
   ]
  },
  {
   "cell_type": "markdown",
   "metadata": {},
   "source": [
    "-----------"
   ]
  },
  {
   "cell_type": "markdown",
   "metadata": {},
   "source": [
    "### Libraries and Dependencies"
   ]
  },
  {
   "cell_type": "code",
   "execution_count": 5,
   "metadata": {},
   "outputs": [],
   "source": [
    "# Add Data Science Python Dependencies\n",
    "import numpy as np\n",
    "import pandas as pd\n",
    "# from matplotlib import matplotlib.plot as plt\n",
    "import seaborn as sns"
   ]
  },
  {
   "cell_type": "markdown",
   "metadata": {},
   "source": [
    "## Import Data"
   ]
  },
  {
   "cell_type": "code",
   "execution_count": 62,
   "metadata": {},
   "outputs": [],
   "source": [
    "activities = pd.read_csv(\"data/rescuetime-full-data-export.csv\")\n",
    "# if exists remove old index columns\n",
    "activities.drop(['Unnamed: 0'], axis=1, inplace=True)\n",
    "# relabel date to timestamp\n",
    "activities.columns = ['Timestamp', 'Seconds', 'NumberPeople', 'Actitivity', 'Document', 'Category',\n",
    "       'Productivity']"
   ]
  },
  {
   "cell_type": "code",
   "execution_count": 78,
   "metadata": {},
   "outputs": [],
   "source": [
    "# activities.tail()"
   ]
  },
  {
   "cell_type": "code",
   "execution_count": 42,
   "metadata": {
    "collapsed": true
   },
   "outputs": [
    {
     "data": {
      "text/plain": [
       "795418"
      ]
     },
     "execution_count": 42,
     "metadata": {},
     "output_type": "execute_result"
    }
   ],
   "source": [
    "len(activities)"
   ]
  },
  {
   "cell_type": "code",
   "execution_count": 67,
   "metadata": {
    "collapsed": true
   },
   "outputs": [
    {
     "name": "stdout",
     "output_type": "stream",
     "text": [
      "<class 'pandas.core.frame.DataFrame'>\n",
      "RangeIndex: 795418 entries, 0 to 795417\n",
      "Data columns (total 7 columns):\n",
      "Timestamp       795418 non-null object\n",
      "Seconds         795418 non-null int64\n",
      "NumberPeople    795418 non-null int64\n",
      "Actitivity      795418 non-null object\n",
      "Document        795408 non-null object\n",
      "Category        795418 non-null object\n",
      "Productivity    795418 non-null int64\n",
      "dtypes: int64(3), object(4)\n",
      "memory usage: 42.5+ MB\n"
     ]
    }
   ],
   "source": [
    "activities.info()"
   ]
  },
  {
   "cell_type": "code",
   "execution_count": 79,
   "metadata": {},
   "outputs": [],
   "source": [
    "# activities.describe()"
   ]
  },
  {
   "cell_type": "markdown",
   "metadata": {},
   "source": [
    "------"
   ]
  },
  {
   "cell_type": "markdown",
   "metadata": {},
   "source": [
    "## Data Processing"
   ]
  },
  {
   "cell_type": "code",
   "execution_count": 94,
   "metadata": {},
   "outputs": [
    {
     "data": {
      "text/plain": [
       "array(['neutral', 'productive', 'very productive', 'very distracting',\n",
       "       'distracting'], dtype=object)"
      ]
     },
     "execution_count": 94,
     "metadata": {},
     "output_type": "execute_result"
    }
   ],
   "source": [
    "# new column for productivitity level \n",
    "# as very productive, productive, neutral, distracted, very distracted\n",
    "activities['Productive'] = activities['Productivity']\n",
    "\n",
    "activities['Productive'] = activities['Productive'].map({-2: 'very distracting', \n",
    "                                                        -1: 'distracting',\n",
    "                                                       0: 'neutral',\n",
    "                                                       1: 'productive',\n",
    "                                                       2: 'very productive'})\n",
    "activities.Productive.unique()"
   ]
  },
  {
   "cell_type": "code",
   "execution_count": 68,
   "metadata": {},
   "outputs": [],
   "source": [
    "activities['Timestamp'] = pd.to_datetime(activities['Timestamp'])"
   ]
  },
  {
   "cell_type": "code",
   "execution_count": 70,
   "metadata": {},
   "outputs": [],
   "source": [
    "# reorder and reindex based on date\n",
    "activities = activities.sort_values(by='Timestamp').reset_index(drop=True)\n",
    "# activities.reset_index(drop=True)"
   ]
  },
  {
   "cell_type": "code",
   "execution_count": 69,
   "metadata": {},
   "outputs": [],
   "source": [
    "# date additions of Date timestamp\n",
    "activities['Date'] = activities['Timestamp'].apply(lambda x: x.strftime('%Y-%m-%d')) # note: not very efficient\n",
    "activities['Year'] = activities['Timestamp'].dt.year\n",
    "activities['Month'] = activities['Timestamp'].dt.month\n",
    "activities['Mnth_yr'] = activities['Timestamp'].apply(lambda x: x.strftime('%Y-%m')) # note: not very efficient\n",
    "activities['Day'] = activities['Timestamp'].dt.day\n",
    "activities['Dow'] = activities['Timestamp'].dt.weekday\n",
    "activities['Hour'] = activities['Timestamp'].dt.hour"
   ]
  },
  {
   "cell_type": "code",
   "execution_count": 86,
   "metadata": {},
   "outputs": [
    {
     "data": {
      "text/html": [
       "<div>\n",
       "<style scoped>\n",
       "    .dataframe tbody tr th:only-of-type {\n",
       "        vertical-align: middle;\n",
       "    }\n",
       "\n",
       "    .dataframe tbody tr th {\n",
       "        vertical-align: top;\n",
       "    }\n",
       "\n",
       "    .dataframe thead th {\n",
       "        text-align: right;\n",
       "    }\n",
       "</style>\n",
       "<table border=\"1\" class=\"dataframe\">\n",
       "  <thead>\n",
       "    <tr style=\"text-align: right;\">\n",
       "      <th></th>\n",
       "      <th>Timestamp</th>\n",
       "      <th>Seconds</th>\n",
       "      <th>NumberPeople</th>\n",
       "      <th>Actitivity</th>\n",
       "      <th>Document</th>\n",
       "      <th>Category</th>\n",
       "      <th>Productivity</th>\n",
       "      <th>Date</th>\n",
       "      <th>Year</th>\n",
       "      <th>Month</th>\n",
       "      <th>Mnth_yr</th>\n",
       "      <th>Day</th>\n",
       "      <th>Dow</th>\n",
       "      <th>Hour</th>\n",
       "      <th>Productive</th>\n",
       "    </tr>\n",
       "  </thead>\n",
       "  <tbody>\n",
       "    <tr>\n",
       "      <th>795413</th>\n",
       "      <td>2018-09-19 23:00:00</td>\n",
       "      <td>42</td>\n",
       "      <td>1</td>\n",
       "      <td>issues.int3c.com</td>\n",
       "      <td>No Details</td>\n",
       "      <td>General Software Development</td>\n",
       "      <td>2</td>\n",
       "      <td>2018-09-19</td>\n",
       "      <td>2018</td>\n",
       "      <td>9</td>\n",
       "      <td>2018-09</td>\n",
       "      <td>19</td>\n",
       "      <td>2</td>\n",
       "      <td>23</td>\n",
       "      <td>very productive</td>\n",
       "    </tr>\n",
       "    <tr>\n",
       "      <th>795414</th>\n",
       "      <td>2018-09-19 23:00:00</td>\n",
       "      <td>111</td>\n",
       "      <td>1</td>\n",
       "      <td>drupal.org</td>\n",
       "      <td>No Details</td>\n",
       "      <td>General Software Development</td>\n",
       "      <td>2</td>\n",
       "      <td>2018-09-19</td>\n",
       "      <td>2018</td>\n",
       "      <td>9</td>\n",
       "      <td>2018-09</td>\n",
       "      <td>19</td>\n",
       "      <td>2</td>\n",
       "      <td>23</td>\n",
       "      <td>very productive</td>\n",
       "    </tr>\n",
       "    <tr>\n",
       "      <th>795415</th>\n",
       "      <td>2018-09-19 23:00:00</td>\n",
       "      <td>576</td>\n",
       "      <td>1</td>\n",
       "      <td>promos.testing.bookloverscon.com</td>\n",
       "      <td>No Details</td>\n",
       "      <td>General Software Development</td>\n",
       "      <td>2</td>\n",
       "      <td>2018-09-19</td>\n",
       "      <td>2018</td>\n",
       "      <td>9</td>\n",
       "      <td>2018-09</td>\n",
       "      <td>19</td>\n",
       "      <td>2</td>\n",
       "      <td>23</td>\n",
       "      <td>very productive</td>\n",
       "    </tr>\n",
       "    <tr>\n",
       "      <th>795416</th>\n",
       "      <td>2018-09-19 23:00:00</td>\n",
       "      <td>1</td>\n",
       "      <td>1</td>\n",
       "      <td>loginwindow</td>\n",
       "      <td>No Details</td>\n",
       "      <td>General Utilities</td>\n",
       "      <td>1</td>\n",
       "      <td>2018-09-19</td>\n",
       "      <td>2018</td>\n",
       "      <td>9</td>\n",
       "      <td>2018-09</td>\n",
       "      <td>19</td>\n",
       "      <td>2</td>\n",
       "      <td>23</td>\n",
       "      <td>productive</td>\n",
       "    </tr>\n",
       "    <tr>\n",
       "      <th>795417</th>\n",
       "      <td>2018-09-19 23:00:00</td>\n",
       "      <td>11</td>\n",
       "      <td>1</td>\n",
       "      <td>todoist</td>\n",
       "      <td>No Details</td>\n",
       "      <td>Project Management</td>\n",
       "      <td>2</td>\n",
       "      <td>2018-09-19</td>\n",
       "      <td>2018</td>\n",
       "      <td>9</td>\n",
       "      <td>2018-09</td>\n",
       "      <td>19</td>\n",
       "      <td>2</td>\n",
       "      <td>23</td>\n",
       "      <td>very productive</td>\n",
       "    </tr>\n",
       "  </tbody>\n",
       "</table>\n",
       "</div>"
      ],
      "text/plain": [
       "                 Timestamp  Seconds  NumberPeople  \\\n",
       "795413 2018-09-19 23:00:00       42             1   \n",
       "795414 2018-09-19 23:00:00      111             1   \n",
       "795415 2018-09-19 23:00:00      576             1   \n",
       "795416 2018-09-19 23:00:00        1             1   \n",
       "795417 2018-09-19 23:00:00       11             1   \n",
       "\n",
       "                              Actitivity    Document  \\\n",
       "795413                  issues.int3c.com  No Details   \n",
       "795414                        drupal.org  No Details   \n",
       "795415  promos.testing.bookloverscon.com  No Details   \n",
       "795416                       loginwindow  No Details   \n",
       "795417                           todoist  No Details   \n",
       "\n",
       "                            Category  Productivity        Date  Year  Month  \\\n",
       "795413  General Software Development             2  2018-09-19  2018      9   \n",
       "795414  General Software Development             2  2018-09-19  2018      9   \n",
       "795415  General Software Development             2  2018-09-19  2018      9   \n",
       "795416             General Utilities             1  2018-09-19  2018      9   \n",
       "795417            Project Management             2  2018-09-19  2018      9   \n",
       "\n",
       "        Mnth_yr  Day  Dow  Hour       Productive  \n",
       "795413  2018-09   19    2    23  very productive  \n",
       "795414  2018-09   19    2    23  very productive  \n",
       "795415  2018-09   19    2    23  very productive  \n",
       "795416  2018-09   19    2    23       productive  \n",
       "795417  2018-09   19    2    23  very productive  "
      ]
     },
     "execution_count": 86,
     "metadata": {},
     "output_type": "execute_result"
    }
   ],
   "source": [
    "activities.tail()"
   ]
  },
  {
   "cell_type": "markdown",
   "metadata": {},
   "source": [
    "-----"
   ]
  },
  {
   "cell_type": "markdown",
   "metadata": {},
   "source": [
    "# Total Computer Time per Day"
   ]
  },
  {
   "cell_type": "code",
   "execution_count": 72,
   "metadata": {},
   "outputs": [],
   "source": [
    "total_computer_time_by_date = activities.groupby(['Date'])['Seconds'].sum().reset_index(name='Seconds')"
   ]
  },
  {
   "cell_type": "code",
   "execution_count": 73,
   "metadata": {},
   "outputs": [],
   "source": [
    "total_computer_time_by_date['Minutes'] = round(total_computer_time_by_date['Seconds'] / 60, 2)\n",
    "total_computer_time_by_date['Hours'] = round(total_computer_time_by_date['Seconds'] / 60 / 60, 2)"
   ]
  },
  {
   "cell_type": "code",
   "execution_count": 74,
   "metadata": {},
   "outputs": [
    {
     "data": {
      "text/html": [
       "<div>\n",
       "<style scoped>\n",
       "    .dataframe tbody tr th:only-of-type {\n",
       "        vertical-align: middle;\n",
       "    }\n",
       "\n",
       "    .dataframe tbody tr th {\n",
       "        vertical-align: top;\n",
       "    }\n",
       "\n",
       "    .dataframe thead th {\n",
       "        text-align: right;\n",
       "    }\n",
       "</style>\n",
       "<table border=\"1\" class=\"dataframe\">\n",
       "  <thead>\n",
       "    <tr style=\"text-align: right;\">\n",
       "      <th></th>\n",
       "      <th>Date</th>\n",
       "      <th>Seconds</th>\n",
       "      <th>Minutes</th>\n",
       "      <th>Hours</th>\n",
       "    </tr>\n",
       "  </thead>\n",
       "  <tbody>\n",
       "    <tr>\n",
       "      <th>2191</th>\n",
       "      <td>2018-09-15</td>\n",
       "      <td>28097</td>\n",
       "      <td>468.28</td>\n",
       "      <td>7.80</td>\n",
       "    </tr>\n",
       "    <tr>\n",
       "      <th>2192</th>\n",
       "      <td>2018-09-16</td>\n",
       "      <td>31573</td>\n",
       "      <td>526.22</td>\n",
       "      <td>8.77</td>\n",
       "    </tr>\n",
       "    <tr>\n",
       "      <th>2193</th>\n",
       "      <td>2018-09-17</td>\n",
       "      <td>27662</td>\n",
       "      <td>461.03</td>\n",
       "      <td>7.68</td>\n",
       "    </tr>\n",
       "    <tr>\n",
       "      <th>2194</th>\n",
       "      <td>2018-09-18</td>\n",
       "      <td>31094</td>\n",
       "      <td>518.23</td>\n",
       "      <td>8.64</td>\n",
       "    </tr>\n",
       "    <tr>\n",
       "      <th>2195</th>\n",
       "      <td>2018-09-19</td>\n",
       "      <td>39104</td>\n",
       "      <td>651.73</td>\n",
       "      <td>10.86</td>\n",
       "    </tr>\n",
       "  </tbody>\n",
       "</table>\n",
       "</div>"
      ],
      "text/plain": [
       "            Date  Seconds  Minutes  Hours\n",
       "2191  2018-09-15    28097   468.28   7.80\n",
       "2192  2018-09-16    31573   526.22   8.77\n",
       "2193  2018-09-17    27662   461.03   7.68\n",
       "2194  2018-09-18    31094   518.23   8.64\n",
       "2195  2018-09-19    39104   651.73  10.86"
      ]
     },
     "execution_count": 74,
     "metadata": {},
     "output_type": "execute_result"
    }
   ],
   "source": [
    "total_computer_time_by_date.tail()"
   ]
  },
  {
   "cell_type": "code",
   "execution_count": 114,
   "metadata": {},
   "outputs": [],
   "source": [
    "total_computer_time_by_date.to_csv(\"data/dates_computer_time.csv\")"
   ]
  },
  {
   "cell_type": "markdown",
   "metadata": {},
   "source": [
    "----"
   ]
  },
  {
   "cell_type": "markdown",
   "metadata": {},
   "source": [
    "## Daily Productivity"
   ]
  },
  {
   "cell_type": "code",
   "execution_count": 96,
   "metadata": {},
   "outputs": [],
   "source": [
    "total_by_date_productivity = activities.groupby(['Date', 'Productive'])['Seconds'].sum().reset_index(name='Seconds')"
   ]
  },
  {
   "cell_type": "code",
   "execution_count": 97,
   "metadata": {},
   "outputs": [],
   "source": [
    "total_by_date_productivity['Minutes'] = round((total_by_date_productivity['Seconds'] / 60), 2)"
   ]
  },
  {
   "cell_type": "code",
   "execution_count": 98,
   "metadata": {},
   "outputs": [],
   "source": [
    "# total_by_date_productivity\n",
    "table = total_by_date_productivity.pivot_table(index='Date', columns='Productive', values='Seconds', aggfunc=np.sum)"
   ]
  },
  {
   "cell_type": "code",
   "execution_count": 99,
   "metadata": {},
   "outputs": [
    {
     "data": {
      "text/html": [
       "<div>\n",
       "<style scoped>\n",
       "    .dataframe tbody tr th:only-of-type {\n",
       "        vertical-align: middle;\n",
       "    }\n",
       "\n",
       "    .dataframe tbody tr th {\n",
       "        vertical-align: top;\n",
       "    }\n",
       "\n",
       "    .dataframe thead th {\n",
       "        text-align: right;\n",
       "    }\n",
       "</style>\n",
       "<table border=\"1\" class=\"dataframe\">\n",
       "  <thead>\n",
       "    <tr style=\"text-align: right;\">\n",
       "      <th>Productive</th>\n",
       "      <th>distracting</th>\n",
       "      <th>neutral</th>\n",
       "      <th>productive</th>\n",
       "      <th>very distracting</th>\n",
       "      <th>very productive</th>\n",
       "    </tr>\n",
       "    <tr>\n",
       "      <th>Date</th>\n",
       "      <th></th>\n",
       "      <th></th>\n",
       "      <th></th>\n",
       "      <th></th>\n",
       "      <th></th>\n",
       "    </tr>\n",
       "  </thead>\n",
       "  <tbody>\n",
       "    <tr>\n",
       "      <th>2018-09-10</th>\n",
       "      <td>NaN</td>\n",
       "      <td>39.12</td>\n",
       "      <td>54.23</td>\n",
       "      <td>5.72</td>\n",
       "      <td>367.37</td>\n",
       "    </tr>\n",
       "    <tr>\n",
       "      <th>2018-09-11</th>\n",
       "      <td>0.23</td>\n",
       "      <td>61.60</td>\n",
       "      <td>35.42</td>\n",
       "      <td>21.27</td>\n",
       "      <td>351.30</td>\n",
       "    </tr>\n",
       "    <tr>\n",
       "      <th>2018-09-12</th>\n",
       "      <td>1.68</td>\n",
       "      <td>44.88</td>\n",
       "      <td>20.12</td>\n",
       "      <td>2.02</td>\n",
       "      <td>348.03</td>\n",
       "    </tr>\n",
       "    <tr>\n",
       "      <th>2018-09-13</th>\n",
       "      <td>0.42</td>\n",
       "      <td>60.47</td>\n",
       "      <td>55.63</td>\n",
       "      <td>7.35</td>\n",
       "      <td>410.18</td>\n",
       "    </tr>\n",
       "    <tr>\n",
       "      <th>2018-09-14</th>\n",
       "      <td>0.47</td>\n",
       "      <td>72.77</td>\n",
       "      <td>26.57</td>\n",
       "      <td>32.27</td>\n",
       "      <td>470.47</td>\n",
       "    </tr>\n",
       "    <tr>\n",
       "      <th>2018-09-15</th>\n",
       "      <td>3.20</td>\n",
       "      <td>23.92</td>\n",
       "      <td>7.10</td>\n",
       "      <td>19.70</td>\n",
       "      <td>414.37</td>\n",
       "    </tr>\n",
       "    <tr>\n",
       "      <th>2018-09-16</th>\n",
       "      <td>0.10</td>\n",
       "      <td>58.72</td>\n",
       "      <td>40.20</td>\n",
       "      <td>20.52</td>\n",
       "      <td>406.68</td>\n",
       "    </tr>\n",
       "    <tr>\n",
       "      <th>2018-09-17</th>\n",
       "      <td>NaN</td>\n",
       "      <td>95.68</td>\n",
       "      <td>15.82</td>\n",
       "      <td>1.35</td>\n",
       "      <td>348.18</td>\n",
       "    </tr>\n",
       "    <tr>\n",
       "      <th>2018-09-18</th>\n",
       "      <td>0.65</td>\n",
       "      <td>12.97</td>\n",
       "      <td>56.85</td>\n",
       "      <td>NaN</td>\n",
       "      <td>447.77</td>\n",
       "    </tr>\n",
       "    <tr>\n",
       "      <th>2018-09-19</th>\n",
       "      <td>6.85</td>\n",
       "      <td>34.87</td>\n",
       "      <td>120.37</td>\n",
       "      <td>7.02</td>\n",
       "      <td>482.63</td>\n",
       "    </tr>\n",
       "  </tbody>\n",
       "</table>\n",
       "</div>"
      ],
      "text/plain": [
       "Productive  distracting  neutral  productive  very distracting  \\\n",
       "Date                                                             \n",
       "2018-09-10          NaN    39.12       54.23              5.72   \n",
       "2018-09-11         0.23    61.60       35.42             21.27   \n",
       "2018-09-12         1.68    44.88       20.12              2.02   \n",
       "2018-09-13         0.42    60.47       55.63              7.35   \n",
       "2018-09-14         0.47    72.77       26.57             32.27   \n",
       "2018-09-15         3.20    23.92        7.10             19.70   \n",
       "2018-09-16         0.10    58.72       40.20             20.52   \n",
       "2018-09-17          NaN    95.68       15.82              1.35   \n",
       "2018-09-18         0.65    12.97       56.85               NaN   \n",
       "2018-09-19         6.85    34.87      120.37              7.02   \n",
       "\n",
       "Productive  very productive  \n",
       "Date                         \n",
       "2018-09-10           367.37  \n",
       "2018-09-11           351.30  \n",
       "2018-09-12           348.03  \n",
       "2018-09-13           410.18  \n",
       "2018-09-14           470.47  \n",
       "2018-09-15           414.37  \n",
       "2018-09-16           406.68  \n",
       "2018-09-17           348.18  \n",
       "2018-09-18           447.77  \n",
       "2018-09-19           482.63  "
      ]
     },
     "execution_count": 99,
     "metadata": {},
     "output_type": "execute_result"
    }
   ],
   "source": [
    "# total_by_date_productivity\n",
    "table = total_by_date_productivity.pivot_table(index='Date', columns='Productive', values='Minutes', aggfunc=np.sum)\n",
    "table.tail(10)"
   ]
  },
  {
   "cell_type": "code",
   "execution_count": 102,
   "metadata": {},
   "outputs": [],
   "source": [
    "days_productive_time = table.copy()"
   ]
  },
  {
   "cell_type": "code",
   "execution_count": 105,
   "metadata": {},
   "outputs": [],
   "source": [
    "days_productive_time['productive_simple'] = days_productive_time['productive'] + days_productive_time['very productive']\n",
    "days_productive_time.drop(['productive', 'very productive'], axis=1, inplace=True)\n",
    "days_productive_time['distracting_simple'] = days_productive_time['distracting'] + days_productive_time['very distracting']\n",
    "days_productive_time.drop(['distracting', 'very distracting'], axis=1, inplace=True)"
   ]
  },
  {
   "cell_type": "code",
   "execution_count": 107,
   "metadata": {},
   "outputs": [],
   "source": [
    "days_productive_time.columns = ['Neutral', 'Productive', 'Distracting']"
   ]
  },
  {
   "cell_type": "code",
   "execution_count": 108,
   "metadata": {},
   "outputs": [
    {
     "data": {
      "text/html": [
       "<div>\n",
       "<style scoped>\n",
       "    .dataframe tbody tr th:only-of-type {\n",
       "        vertical-align: middle;\n",
       "    }\n",
       "\n",
       "    .dataframe tbody tr th {\n",
       "        vertical-align: top;\n",
       "    }\n",
       "\n",
       "    .dataframe thead th {\n",
       "        text-align: right;\n",
       "    }\n",
       "</style>\n",
       "<table border=\"1\" class=\"dataframe\">\n",
       "  <thead>\n",
       "    <tr style=\"text-align: right;\">\n",
       "      <th></th>\n",
       "      <th>Neutral</th>\n",
       "      <th>Productive</th>\n",
       "      <th>Distracting</th>\n",
       "    </tr>\n",
       "    <tr>\n",
       "      <th>Date</th>\n",
       "      <th></th>\n",
       "      <th></th>\n",
       "      <th></th>\n",
       "    </tr>\n",
       "  </thead>\n",
       "  <tbody>\n",
       "    <tr>\n",
       "      <th>2018-09-15</th>\n",
       "      <td>23.92</td>\n",
       "      <td>421.47</td>\n",
       "      <td>22.90</td>\n",
       "    </tr>\n",
       "    <tr>\n",
       "      <th>2018-09-16</th>\n",
       "      <td>58.72</td>\n",
       "      <td>446.88</td>\n",
       "      <td>20.62</td>\n",
       "    </tr>\n",
       "    <tr>\n",
       "      <th>2018-09-17</th>\n",
       "      <td>95.68</td>\n",
       "      <td>364.00</td>\n",
       "      <td>NaN</td>\n",
       "    </tr>\n",
       "    <tr>\n",
       "      <th>2018-09-18</th>\n",
       "      <td>12.97</td>\n",
       "      <td>504.62</td>\n",
       "      <td>NaN</td>\n",
       "    </tr>\n",
       "    <tr>\n",
       "      <th>2018-09-19</th>\n",
       "      <td>34.87</td>\n",
       "      <td>603.00</td>\n",
       "      <td>13.87</td>\n",
       "    </tr>\n",
       "  </tbody>\n",
       "</table>\n",
       "</div>"
      ],
      "text/plain": [
       "            Neutral  Productive  Distracting\n",
       "Date                                        \n",
       "2018-09-15    23.92      421.47        22.90\n",
       "2018-09-16    58.72      446.88        20.62\n",
       "2018-09-17    95.68      364.00          NaN\n",
       "2018-09-18    12.97      504.62          NaN\n",
       "2018-09-19    34.87      603.00        13.87"
      ]
     },
     "execution_count": 108,
     "metadata": {},
     "output_type": "execute_result"
    }
   ],
   "source": [
    "days_productive_time.tail()"
   ]
  },
  {
   "cell_type": "code",
   "execution_count": 109,
   "metadata": {},
   "outputs": [],
   "source": [
    "days_productive_time.to_csv(\"data/days_productive_time.csv\")"
   ]
  },
  {
   "cell_type": "markdown",
   "metadata": {},
   "source": [
    "---"
   ]
  },
  {
   "cell_type": "markdown",
   "metadata": {},
   "source": [
    "# Productive Hours"
   ]
  },
  {
   "cell_type": "code",
   "execution_count": 110,
   "metadata": {},
   "outputs": [],
   "source": [
    "hourly = activities.groupby(['Date', 'Hour', 'Productive'])['Seconds'].sum().reset_index(name='Seconds')\n"
   ]
  },
  {
   "cell_type": "code",
   "execution_count": 111,
   "metadata": {},
   "outputs": [
    {
     "data": {
      "text/html": [
       "<div>\n",
       "<style scoped>\n",
       "    .dataframe tbody tr th:only-of-type {\n",
       "        vertical-align: middle;\n",
       "    }\n",
       "\n",
       "    .dataframe tbody tr th {\n",
       "        vertical-align: top;\n",
       "    }\n",
       "\n",
       "    .dataframe thead th {\n",
       "        text-align: right;\n",
       "    }\n",
       "</style>\n",
       "<table border=\"1\" class=\"dataframe\">\n",
       "  <thead>\n",
       "    <tr style=\"text-align: right;\">\n",
       "      <th></th>\n",
       "      <th>Date</th>\n",
       "      <th>Hour</th>\n",
       "      <th>Productive</th>\n",
       "      <th>Seconds</th>\n",
       "    </tr>\n",
       "  </thead>\n",
       "  <tbody>\n",
       "    <tr>\n",
       "      <th>87071</th>\n",
       "      <td>2018-09-19</td>\n",
       "      <td>22</td>\n",
       "      <td>neutral</td>\n",
       "      <td>9</td>\n",
       "    </tr>\n",
       "    <tr>\n",
       "      <th>87072</th>\n",
       "      <td>2018-09-19</td>\n",
       "      <td>22</td>\n",
       "      <td>productive</td>\n",
       "      <td>476</td>\n",
       "    </tr>\n",
       "    <tr>\n",
       "      <th>87073</th>\n",
       "      <td>2018-09-19</td>\n",
       "      <td>22</td>\n",
       "      <td>very productive</td>\n",
       "      <td>3114</td>\n",
       "    </tr>\n",
       "    <tr>\n",
       "      <th>87074</th>\n",
       "      <td>2018-09-19</td>\n",
       "      <td>23</td>\n",
       "      <td>productive</td>\n",
       "      <td>1</td>\n",
       "    </tr>\n",
       "    <tr>\n",
       "      <th>87075</th>\n",
       "      <td>2018-09-19</td>\n",
       "      <td>23</td>\n",
       "      <td>very productive</td>\n",
       "      <td>745</td>\n",
       "    </tr>\n",
       "  </tbody>\n",
       "</table>\n",
       "</div>"
      ],
      "text/plain": [
       "             Date  Hour       Productive  Seconds\n",
       "87071  2018-09-19    22          neutral        9\n",
       "87072  2018-09-19    22       productive      476\n",
       "87073  2018-09-19    22  very productive     3114\n",
       "87074  2018-09-19    23       productive        1\n",
       "87075  2018-09-19    23  very productive      745"
      ]
     },
     "execution_count": 111,
     "metadata": {},
     "output_type": "execute_result"
    }
   ],
   "source": [
    "hourly.tail()"
   ]
  },
  {
   "cell_type": "code",
   "execution_count": 113,
   "metadata": {},
   "outputs": [],
   "source": [
    "hourly.to_csv(\"data/dates_hourly_productive_time.csv\")"
   ]
  },
  {
   "cell_type": "markdown",
   "metadata": {},
   "source": [
    "---------------------"
   ]
  },
  {
   "cell_type": "markdown",
   "metadata": {},
   "source": [
    "## Data Exploration and Data Visualization"
   ]
  },
  {
   "cell_type": "code",
   "execution_count": null,
   "metadata": {
    "collapsed": true
   },
   "outputs": [],
   "source": []
  },
  {
   "cell_type": "code",
   "execution_count": null,
   "metadata": {
    "collapsed": true
   },
   "outputs": [],
   "source": []
  },
  {
   "cell_type": "code",
   "execution_count": null,
   "metadata": {
    "collapsed": true
   },
   "outputs": [],
   "source": []
  },
  {
   "cell_type": "code",
   "execution_count": null,
   "metadata": {
    "collapsed": true
   },
   "outputs": [],
   "source": []
  },
  {
   "cell_type": "code",
   "execution_count": null,
   "metadata": {
    "collapsed": true
   },
   "outputs": [],
   "source": []
  },
  {
   "cell_type": "code",
   "execution_count": null,
   "metadata": {
    "collapsed": true
   },
   "outputs": [],
   "source": []
  }
 ],
 "metadata": {
  "kernelspec": {
   "display_name": "Python 3",
   "language": "python",
   "name": "python3"
  },
  "language_info": {
   "codemirror_mode": {
    "name": "ipython",
    "version": 3
   },
   "file_extension": ".py",
   "mimetype": "text/x-python",
   "name": "python",
   "nbconvert_exporter": "python",
   "pygments_lexer": "ipython3",
   "version": "3.6.2"
  }
 },
 "nbformat": 4,
 "nbformat_minor": 2
}
