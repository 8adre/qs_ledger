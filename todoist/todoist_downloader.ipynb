{
 "cells": [
  {
   "cell_type": "markdown",
   "metadata": {},
   "source": [
    "# Todoist Completed Tasks Downloader"
   ]
  },
  {
   "cell_type": "markdown",
   "metadata": {},
   "source": [
    "This project will collect and aggregate all of your completed task data from Todoist. "
   ]
  },
  {
   "cell_type": "markdown",
   "metadata": {},
   "source": [
    "-------"
   ]
  },
  {
   "cell_type": "markdown",
   "metadata": {},
   "source": [
    "## Installation and Setup\n",
    "\n",
    "#### Download and Install Todoist Python Library\n",
    "\n",
    "`$ pip install python-todoist`\n",
    "\n",
    "#### Signup and Create a Todoist App\n",
    "\n",
    "* Signup at https://developer.todoist.com/appconsole.html\n",
    "* Once app is created, generate and copy a \"Test token,\" which provides access to API as your user.\n",
    "* Copy sample-credentials.json and create credentials.json\n",
    "* Add and Save your Test Token to credentials.json\n"
   ]
  },
  {
   "cell_type": "markdown",
   "metadata": {},
   "source": [
    "-----"
   ]
  },
  {
   "cell_type": "markdown",
   "metadata": {},
   "source": [
    "## Dependencies"
   ]
  },
  {
   "cell_type": "code",
   "execution_count": 1,
   "metadata": {
    "collapsed": true
   },
   "outputs": [],
   "source": [
    "from todoist.api import TodoistAPI\n",
    "import pandas as pd\n",
    "\n",
    "import matplotlib.pyplot as plt\n",
    "from datetime import datetime\n",
    "%matplotlib inline"
   ]
  },
  {
   "cell_type": "markdown",
   "metadata": {},
   "source": [
    "### Credentials and Authentification"
   ]
  },
  {
   "cell_type": "code",
   "execution_count": 2,
   "metadata": {
    "collapsed": true
   },
   "outputs": [],
   "source": [
    "import json\n",
    "\n",
    "with open(\"credentials.json\", \"r\") as file:\n",
    "    credentials = json.load(file)\n",
    "    todoist_cr = credentials['todoist']\n",
    "    TOKEN = todoist_cr['TOKEN']"
   ]
  },
  {
   "cell_type": "code",
   "execution_count": 65,
   "metadata": {},
   "outputs": [],
   "source": [
    "api = TodoistAPI(TOKEN)\n",
    "# api.sync()"
   ]
  },
  {
   "cell_type": "markdown",
   "metadata": {},
   "source": [
    "----------"
   ]
  },
  {
   "cell_type": "markdown",
   "metadata": {},
   "source": [
    "## Check Basic User Info"
   ]
  },
  {
   "cell_type": "code",
   "execution_count": 4,
   "metadata": {
    "collapsed": true
   },
   "outputs": [],
   "source": [
    "user = api.state['user']"
   ]
  },
  {
   "cell_type": "code",
   "execution_count": 5,
   "metadata": {},
   "outputs": [
    {
     "data": {
      "text/plain": [
       "'Mark Koester'"
      ]
     },
     "execution_count": 5,
     "metadata": {},
     "output_type": "execute_result"
    }
   ],
   "source": [
    "user['full_name']"
   ]
  },
  {
   "cell_type": "code",
   "execution_count": 6,
   "metadata": {},
   "outputs": [
    {
     "data": {
      "text/plain": [
       "1"
      ]
     },
     "execution_count": 6,
     "metadata": {},
     "output_type": "execute_result"
    }
   ],
   "source": [
    "# Tasks Completed Today\n",
    "user['completed_today']"
   ]
  },
  {
   "cell_type": "code",
   "execution_count": 7,
   "metadata": {},
   "outputs": [
    {
     "data": {
      "text/plain": [
       "3869"
      ]
     },
     "execution_count": 7,
     "metadata": {},
     "output_type": "execute_result"
    }
   ],
   "source": [
    "# total completed tasks\n",
    "user_completed_count = user['completed_count']\n",
    "user_completed_count"
   ]
  },
  {
   "cell_type": "markdown",
   "metadata": {},
   "source": [
    "-------"
   ]
  },
  {
   "cell_type": "markdown",
   "metadata": {},
   "source": [
    "# List and Export of Current Projects"
   ]
  },
  {
   "cell_type": "markdown",
   "metadata": {},
   "source": [
    "### API Call: api.state['projects']\n",
    "\n",
    "https://developer.todoist.com/sync/v7/#get-all-projects\n",
    "\n",
    "NOTE: This only gets info on your existing projects and exludes archived projects. "
   ]
  },
  {
   "cell_type": "code",
   "execution_count": 8,
   "metadata": {
    "collapsed": true
   },
   "outputs": [],
   "source": [
    "user_projects  = api.state['projects']"
   ]
  },
  {
   "cell_type": "code",
   "execution_count": 66,
   "metadata": {},
   "outputs": [],
   "source": [
    "# user_projects"
   ]
  },
  {
   "cell_type": "code",
   "execution_count": 10,
   "metadata": {},
   "outputs": [
    {
     "data": {
      "text/plain": [
       "41"
      ]
     },
     "execution_count": 10,
     "metadata": {},
     "output_type": "execute_result"
    }
   ],
   "source": [
    "len(user_projects)"
   ]
  },
  {
   "cell_type": "code",
   "execution_count": 11,
   "metadata": {
    "collapsed": true
   },
   "outputs": [],
   "source": [
    "with open('data/todoist-projects.csv', 'w') as file:\n",
    "    file.write(\"Id\" + \",\" + \"Project\" + \"\\n\")\n",
    "    for i in range(0, len(user_projects)):\n",
    "        file.write('\\\"' + str(user_projects[i]['id']) + '\\\"' + \",\" + '\\\"' + str(user_projects[i]['name']) + '\\\"' + \"\\n\")"
   ]
  },
  {
   "cell_type": "code",
   "execution_count": 12,
   "metadata": {
    "collapsed": true
   },
   "outputs": [],
   "source": [
    "projects = pd.read_csv(\"data/todoist-projects.csv\")"
   ]
  },
  {
   "cell_type": "code",
   "execution_count": 13,
   "metadata": {},
   "outputs": [],
   "source": [
    "# projects"
   ]
  },
  {
   "cell_type": "markdown",
   "metadata": {},
   "source": [
    "-----"
   ]
  },
  {
   "cell_type": "markdown",
   "metadata": {},
   "source": [
    "## User Completed Tasks Stats Info"
   ]
  },
  {
   "cell_type": "markdown",
   "metadata": {},
   "source": [
    "API Call: `api.completed.get_stats()` https://developer.todoist.com/sync/v7/#get-productivity-stats"
   ]
  },
  {
   "cell_type": "code",
   "execution_count": 14,
   "metadata": {
    "collapsed": true
   },
   "outputs": [],
   "source": [
    "stats = api.completed.get_stats()"
   ]
  },
  {
   "cell_type": "code",
   "execution_count": 15,
   "metadata": {},
   "outputs": [
    {
     "data": {
      "text/plain": [
       "3869"
      ]
     },
     "execution_count": 15,
     "metadata": {},
     "output_type": "execute_result"
    }
   ],
   "source": [
    "# total completed tasks from stats\n",
    "user_completed_stats = stats['completed_count']\n",
    "user_completed_stats"
   ]
  },
  {
   "cell_type": "markdown",
   "metadata": {},
   "source": [
    "-------"
   ]
  },
  {
   "cell_type": "markdown",
   "metadata": {},
   "source": [
    "# Collect Raw List of All Completed Items from Todoist"
   ]
  },
  {
   "cell_type": "markdown",
   "metadata": {
    "collapsed": true
   },
   "source": [
    "### API Call: api.completed.get_all() \n",
    "\n",
    "https://developer.todoist.com/sync/v7/#get-all-completed-items"
   ]
  },
  {
   "cell_type": "code",
   "execution_count": 16,
   "metadata": {
    "collapsed": true
   },
   "outputs": [],
   "source": [
    "def get_completed_todoist_items():\n",
    "    # create df from initial 50 completed tasks\n",
    "    print(\"Collecting Initial 50 Completed Todoist Tasks...\")\n",
    "    temp_tasks_dict = (api.completed.get_all(limit=50))\n",
    "    past_tasks = pd.DataFrame.from_dict(temp_tasks_dict['items'])\n",
    "    # get the remaining items\n",
    "    pager = list(range(50,user_completed_count,50))\n",
    "    for count, item in enumerate(pager):\n",
    "        tmp_tasks = (api.completed.get_all(limit=50, offset=item))\n",
    "        tmp_tasks_df = pd.DataFrame.from_dict(tmp_tasks['items'])\n",
    "        past_tasks = pd.concat([past_tasks, tmp_tasks_df])\n",
    "        print(\"Collecting Additional Todoist Tasks \" + str(item) + \" of \" + str(user_completed_count))\n",
    "    # save to CSV\n",
    "    print(\"...Generating CSV Export\")\n",
    "    past_tasks.to_csv(\"data/todost-raw-tasks-completed.csv\", index=False)"
   ]
  },
  {
   "cell_type": "code",
   "execution_count": 17,
   "metadata": {},
   "outputs": [
    {
     "name": "stdout",
     "output_type": "stream",
     "text": [
      "Collecting Initial 50 Completed Todoist Tasks...\n",
      "Collecting Additional Todoist Tasks 50 of 3869\n",
      "Collecting Additional Todoist Tasks 100 of 3869\n",
      "Collecting Additional Todoist Tasks 150 of 3869\n",
      "Collecting Additional Todoist Tasks 200 of 3869\n",
      "Collecting Additional Todoist Tasks 250 of 3869\n",
      "Collecting Additional Todoist Tasks 300 of 3869\n",
      "Collecting Additional Todoist Tasks 350 of 3869\n",
      "Collecting Additional Todoist Tasks 400 of 3869\n",
      "Collecting Additional Todoist Tasks 450 of 3869\n",
      "Collecting Additional Todoist Tasks 500 of 3869\n",
      "Collecting Additional Todoist Tasks 550 of 3869\n",
      "Collecting Additional Todoist Tasks 600 of 3869\n",
      "Collecting Additional Todoist Tasks 650 of 3869\n",
      "Collecting Additional Todoist Tasks 700 of 3869\n",
      "Collecting Additional Todoist Tasks 750 of 3869\n",
      "Collecting Additional Todoist Tasks 800 of 3869\n",
      "Collecting Additional Todoist Tasks 850 of 3869\n",
      "Collecting Additional Todoist Tasks 900 of 3869\n",
      "Collecting Additional Todoist Tasks 950 of 3869\n",
      "Collecting Additional Todoist Tasks 1000 of 3869\n",
      "Collecting Additional Todoist Tasks 1050 of 3869\n",
      "Collecting Additional Todoist Tasks 1100 of 3869\n",
      "Collecting Additional Todoist Tasks 1150 of 3869\n",
      "Collecting Additional Todoist Tasks 1200 of 3869\n",
      "Collecting Additional Todoist Tasks 1250 of 3869\n",
      "Collecting Additional Todoist Tasks 1300 of 3869\n",
      "Collecting Additional Todoist Tasks 1350 of 3869\n",
      "Collecting Additional Todoist Tasks 1400 of 3869\n",
      "Collecting Additional Todoist Tasks 1450 of 3869\n",
      "Collecting Additional Todoist Tasks 1500 of 3869\n",
      "Collecting Additional Todoist Tasks 1550 of 3869\n",
      "Collecting Additional Todoist Tasks 1600 of 3869\n",
      "Collecting Additional Todoist Tasks 1650 of 3869\n",
      "Collecting Additional Todoist Tasks 1700 of 3869\n",
      "Collecting Additional Todoist Tasks 1750 of 3869\n",
      "Collecting Additional Todoist Tasks 1800 of 3869\n",
      "Collecting Additional Todoist Tasks 1850 of 3869\n",
      "Collecting Additional Todoist Tasks 1900 of 3869\n",
      "Collecting Additional Todoist Tasks 1950 of 3869\n",
      "Collecting Additional Todoist Tasks 2000 of 3869\n",
      "Collecting Additional Todoist Tasks 2050 of 3869\n",
      "Collecting Additional Todoist Tasks 2100 of 3869\n",
      "Collecting Additional Todoist Tasks 2150 of 3869\n",
      "Collecting Additional Todoist Tasks 2200 of 3869\n",
      "Collecting Additional Todoist Tasks 2250 of 3869\n",
      "Collecting Additional Todoist Tasks 2300 of 3869\n",
      "Collecting Additional Todoist Tasks 2350 of 3869\n",
      "Collecting Additional Todoist Tasks 2400 of 3869\n",
      "Collecting Additional Todoist Tasks 2450 of 3869\n",
      "Collecting Additional Todoist Tasks 2500 of 3869\n",
      "Collecting Additional Todoist Tasks 2550 of 3869\n",
      "Collecting Additional Todoist Tasks 2600 of 3869\n",
      "Collecting Additional Todoist Tasks 2650 of 3869\n",
      "Collecting Additional Todoist Tasks 2700 of 3869\n",
      "Collecting Additional Todoist Tasks 2750 of 3869\n",
      "Collecting Additional Todoist Tasks 2800 of 3869\n",
      "Collecting Additional Todoist Tasks 2850 of 3869\n",
      "Collecting Additional Todoist Tasks 2900 of 3869\n",
      "Collecting Additional Todoist Tasks 2950 of 3869\n",
      "Collecting Additional Todoist Tasks 3000 of 3869\n",
      "Collecting Additional Todoist Tasks 3050 of 3869\n",
      "Collecting Additional Todoist Tasks 3100 of 3869\n",
      "Collecting Additional Todoist Tasks 3150 of 3869\n",
      "Collecting Additional Todoist Tasks 3200 of 3869\n",
      "Collecting Additional Todoist Tasks 3250 of 3869\n",
      "Collecting Additional Todoist Tasks 3300 of 3869\n",
      "Collecting Additional Todoist Tasks 3350 of 3869\n",
      "Collecting Additional Todoist Tasks 3400 of 3869\n",
      "Collecting Additional Todoist Tasks 3450 of 3869\n",
      "Collecting Additional Todoist Tasks 3500 of 3869\n",
      "Collecting Additional Todoist Tasks 3550 of 3869\n",
      "Collecting Additional Todoist Tasks 3600 of 3869\n",
      "Collecting Additional Todoist Tasks 3650 of 3869\n",
      "Collecting Additional Todoist Tasks 3700 of 3869\n",
      "Collecting Additional Todoist Tasks 3750 of 3869\n",
      "Collecting Additional Todoist Tasks 3800 of 3869\n",
      "Collecting Additional Todoist Tasks 3850 of 3869\n",
      "...Generating CSV Export\n"
     ]
    }
   ],
   "source": [
    "get_completed_todoist_items()"
   ]
  },
  {
   "cell_type": "code",
   "execution_count": 18,
   "metadata": {
    "collapsed": true
   },
   "outputs": [],
   "source": [
    "past_tasks = pd.read_csv(\"data/todost-raw-tasks-completed.csv\")"
   ]
  },
  {
   "cell_type": "code",
   "execution_count": 19,
   "metadata": {},
   "outputs": [
    {
     "data": {
      "text/html": [
       "<div>\n",
       "<style>\n",
       "    .dataframe thead tr:only-child th {\n",
       "        text-align: right;\n",
       "    }\n",
       "\n",
       "    .dataframe thead th {\n",
       "        text-align: left;\n",
       "    }\n",
       "\n",
       "    .dataframe tbody tr th {\n",
       "        vertical-align: top;\n",
       "    }\n",
       "</style>\n",
       "<table border=\"1\" class=\"dataframe\">\n",
       "  <thead>\n",
       "    <tr style=\"text-align: right;\">\n",
       "      <th></th>\n",
       "      <th>completed_date</th>\n",
       "      <th>content</th>\n",
       "      <th>id</th>\n",
       "      <th>meta_data</th>\n",
       "      <th>project_id</th>\n",
       "      <th>task_id</th>\n",
       "      <th>user_id</th>\n",
       "    </tr>\n",
       "  </thead>\n",
       "  <tbody>\n",
       "    <tr>\n",
       "      <th>0</th>\n",
       "      <td>Thu 24 May 2018 02:07:14 +0000</td>\n",
       "      <td>META: My Studies Check-in</td>\n",
       "      <td>2526803206</td>\n",
       "      <td>NaN</td>\n",
       "      <td>1252539539</td>\n",
       "      <td>2526803206</td>\n",
       "      <td>4288657</td>\n",
       "    </tr>\n",
       "    <tr>\n",
       "      <th>1</th>\n",
       "      <td>Wed 23 May 2018 14:29:25 +0000</td>\n",
       "      <td>Shareable Code for Downloading Completed Todoi...</td>\n",
       "      <td>2663068168</td>\n",
       "      <td>NaN</td>\n",
       "      <td>2165379308</td>\n",
       "      <td>2663068168</td>\n",
       "      <td>4288657</td>\n",
       "    </tr>\n",
       "    <tr>\n",
       "      <th>2</th>\n",
       "      <td>Wed 23 May 2018 11:26:24 +0000</td>\n",
       "      <td>Initial Code for Exporting Todoist Completed T...</td>\n",
       "      <td>2662789071</td>\n",
       "      <td>NaN</td>\n",
       "      <td>2165379308</td>\n",
       "      <td>2662789071</td>\n",
       "      <td>4288657</td>\n",
       "    </tr>\n",
       "    <tr>\n",
       "      <th>3</th>\n",
       "      <td>Wed 23 May 2018 11:26:24 +0000</td>\n",
       "      <td>Edit and Share Last.fm Code for QS Ledger</td>\n",
       "      <td>2662788785</td>\n",
       "      <td>NaN</td>\n",
       "      <td>2165379308</td>\n",
       "      <td>2662788785</td>\n",
       "      <td>4288657</td>\n",
       "    </tr>\n",
       "    <tr>\n",
       "      <th>4</th>\n",
       "      <td>Wed 23 May 2018 11:26:21 +0000</td>\n",
       "      <td>Edit and Share Fitbit Code for QS Ledger</td>\n",
       "      <td>2662788601</td>\n",
       "      <td>NaN</td>\n",
       "      <td>2165379308</td>\n",
       "      <td>2662788601</td>\n",
       "      <td>4288657</td>\n",
       "    </tr>\n",
       "  </tbody>\n",
       "</table>\n",
       "</div>"
      ],
      "text/plain": [
       "                   completed_date  \\\n",
       "0  Thu 24 May 2018 02:07:14 +0000   \n",
       "1  Wed 23 May 2018 14:29:25 +0000   \n",
       "2  Wed 23 May 2018 11:26:24 +0000   \n",
       "3  Wed 23 May 2018 11:26:24 +0000   \n",
       "4  Wed 23 May 2018 11:26:21 +0000   \n",
       "\n",
       "                                             content          id  meta_data  \\\n",
       "0                          META: My Studies Check-in  2526803206        NaN   \n",
       "1  Shareable Code for Downloading Completed Todoi...  2663068168        NaN   \n",
       "2  Initial Code for Exporting Todoist Completed T...  2662789071        NaN   \n",
       "3          Edit and Share Last.fm Code for QS Ledger  2662788785        NaN   \n",
       "4           Edit and Share Fitbit Code for QS Ledger  2662788601        NaN   \n",
       "\n",
       "   project_id     task_id  user_id  \n",
       "0  1252539539  2526803206  4288657  \n",
       "1  2165379308  2663068168  4288657  \n",
       "2  2165379308  2662789071  4288657  \n",
       "3  2165379308  2662788785  4288657  \n",
       "4  2165379308  2662788601  4288657  "
      ]
     },
     "execution_count": 19,
     "metadata": {},
     "output_type": "execute_result"
    }
   ],
   "source": [
    "past_tasks.head()"
   ]
  },
  {
   "cell_type": "code",
   "execution_count": 20,
   "metadata": {},
   "outputs": [
    {
     "data": {
      "text/plain": [
       "3869"
      ]
     },
     "execution_count": 20,
     "metadata": {},
     "output_type": "execute_result"
    }
   ],
   "source": [
    "# generated count \n",
    "collected_total = len(past_tasks)\n",
    "collected_total"
   ]
  },
  {
   "cell_type": "code",
   "execution_count": 21,
   "metadata": {},
   "outputs": [
    {
     "data": {
      "text/plain": [
       "True"
      ]
     },
     "execution_count": 21,
     "metadata": {},
     "output_type": "execute_result"
    }
   ],
   "source": [
    "# Does our collected total tasks match stat of completed count on user\n",
    "collected_total == user_completed_count"
   ]
  },
  {
   "cell_type": "code",
   "execution_count": 22,
   "metadata": {
    "collapsed": true
   },
   "outputs": [],
   "source": [
    "past_tasks['project_id'] = past_tasks.project_id.astype('category')"
   ]
  },
  {
   "cell_type": "code",
   "execution_count": 23,
   "metadata": {},
   "outputs": [
    {
     "name": "stdout",
     "output_type": "stream",
     "text": [
      "<class 'pandas.core.frame.DataFrame'>\n",
      "RangeIndex: 3869 entries, 0 to 3868\n",
      "Data columns (total 7 columns):\n",
      "completed_date    3869 non-null object\n",
      "content           3869 non-null object\n",
      "id                3869 non-null int64\n",
      "meta_data         0 non-null float64\n",
      "project_id        3869 non-null category\n",
      "task_id           3869 non-null int64\n",
      "user_id           3869 non-null int64\n",
      "dtypes: category(1), float64(1), int64(3), object(2)\n",
      "memory usage: 188.2+ KB\n"
     ]
    }
   ],
   "source": [
    "past_tasks.info()"
   ]
  },
  {
   "cell_type": "code",
   "execution_count": 24,
   "metadata": {},
   "outputs": [
    {
     "data": {
      "text/plain": [
       "59"
      ]
     },
     "execution_count": 24,
     "metadata": {},
     "output_type": "execute_result"
    }
   ],
   "source": [
    "len(past_tasks.project_id.unique())"
   ]
  },
  {
   "cell_type": "markdown",
   "metadata": {},
   "source": [
    "---------"
   ]
  },
  {
   "cell_type": "markdown",
   "metadata": {},
   "source": [
    "## Get All Current and Previous Projects"
   ]
  },
  {
   "cell_type": "code",
   "execution_count": 25,
   "metadata": {},
   "outputs": [],
   "source": [
    "# Extract all project ids used on tasks\n",
    "project_ids = past_tasks.project_id.unique()\n",
    "# project_ids"
   ]
  },
  {
   "cell_type": "code",
   "execution_count": 26,
   "metadata": {},
   "outputs": [
    {
     "data": {
      "text/plain": [
       "59"
      ]
     },
     "execution_count": 26,
     "metadata": {},
     "output_type": "execute_result"
    }
   ],
   "source": [
    "# total all-time projects\n",
    "len(project_ids)"
   ]
  },
  {
   "cell_type": "code",
   "execution_count": 27,
   "metadata": {
    "collapsed": true
   },
   "outputs": [],
   "source": [
    "# get project info from Todoist API\n",
    "def get_todoist_project_name(project_id):\n",
    "    item = api.projects.get_by_id(project_id)\n",
    "    if item: \n",
    "        try:\n",
    "            return item['name']\n",
    "        except:\n",
    "            return item['project']['name']"
   ]
  },
  {
   "cell_type": "code",
   "execution_count": 28,
   "metadata": {},
   "outputs": [
    {
     "data": {
      "text/plain": [
       "'Math'"
      ]
     },
     "execution_count": 28,
     "metadata": {},
     "output_type": "execute_result"
    }
   ],
   "source": [
    "# Testing with a Sample Archived Project\n",
    "get_todoist_project_name(183682060)"
   ]
  },
  {
   "cell_type": "code",
   "execution_count": 29,
   "metadata": {},
   "outputs": [
    {
     "data": {
      "text/plain": [
       "'Writing'"
      ]
     },
     "execution_count": 29,
     "metadata": {},
     "output_type": "execute_result"
    }
   ],
   "source": [
    "# Testing with a Sample Current Project\n",
    "get_todoist_project_name(1252539618)"
   ]
  },
  {
   "cell_type": "code",
   "execution_count": 30,
   "metadata": {
    "collapsed": true
   },
   "outputs": [],
   "source": [
    "# Get Info on All User Projects\n",
    "project_names = []\n",
    "for i in project_ids:\n",
    "    project_names.append(get_todoist_project_name(i))"
   ]
  },
  {
   "cell_type": "code",
   "execution_count": 31,
   "metadata": {},
   "outputs": [],
   "source": [
    "# project_names"
   ]
  },
  {
   "cell_type": "markdown",
   "metadata": {},
   "source": [
    "-----"
   ]
  },
  {
   "cell_type": "markdown",
   "metadata": {},
   "source": [
    "## Match Project Id Name on Completed Tasks, Add Day of Week"
   ]
  },
  {
   "cell_type": "code",
   "execution_count": 32,
   "metadata": {},
   "outputs": [
    {
     "data": {
      "text/html": [
       "<div>\n",
       "<style>\n",
       "    .dataframe thead tr:only-child th {\n",
       "        text-align: right;\n",
       "    }\n",
       "\n",
       "    .dataframe thead th {\n",
       "        text-align: left;\n",
       "    }\n",
       "\n",
       "    .dataframe tbody tr th {\n",
       "        vertical-align: top;\n",
       "    }\n",
       "</style>\n",
       "<table border=\"1\" class=\"dataframe\">\n",
       "  <thead>\n",
       "    <tr style=\"text-align: right;\">\n",
       "      <th></th>\n",
       "      <th>completed_date</th>\n",
       "      <th>content</th>\n",
       "      <th>id</th>\n",
       "      <th>meta_data</th>\n",
       "      <th>project_id</th>\n",
       "      <th>task_id</th>\n",
       "      <th>user_id</th>\n",
       "    </tr>\n",
       "  </thead>\n",
       "  <tbody>\n",
       "    <tr>\n",
       "      <th>3864</th>\n",
       "      <td>Sun 28 Aug 2016 12:07:13 +0000</td>\n",
       "      <td>Read Checklist from MASTER THE GAME</td>\n",
       "      <td>53281331</td>\n",
       "      <td>NaN</td>\n",
       "      <td>178797715</td>\n",
       "      <td>53281331</td>\n",
       "      <td>4288657</td>\n",
       "    </tr>\n",
       "    <tr>\n",
       "      <th>3865</th>\n",
       "      <td>Sun 28 Aug 2016 10:40:51 +0000</td>\n",
       "      <td>Weekly Review</td>\n",
       "      <td>53277061</td>\n",
       "      <td>NaN</td>\n",
       "      <td>142200795</td>\n",
       "      <td>53277061</td>\n",
       "      <td>4288657</td>\n",
       "    </tr>\n",
       "    <tr>\n",
       "      <th>3866</th>\n",
       "      <td>Sun 28 Aug 2016 10:24:01 +0000</td>\n",
       "      <td>Financial Reflection Writing</td>\n",
       "      <td>53275224</td>\n",
       "      <td>NaN</td>\n",
       "      <td>142200795</td>\n",
       "      <td>53275224</td>\n",
       "      <td>4288657</td>\n",
       "    </tr>\n",
       "    <tr>\n",
       "      <th>3867</th>\n",
       "      <td>Sun 28 Aug 2016 10:17:51 +0000</td>\n",
       "      <td>Study Todoist Shortcuts</td>\n",
       "      <td>53273289</td>\n",
       "      <td>NaN</td>\n",
       "      <td>142200795</td>\n",
       "      <td>53273289</td>\n",
       "      <td>4288657</td>\n",
       "    </tr>\n",
       "    <tr>\n",
       "      <th>3868</th>\n",
       "      <td>Sun 28 Aug 2016 06:39:21 +0000</td>\n",
       "      <td>Review &amp; Setup Tasks on TODOIST</td>\n",
       "      <td>53265021</td>\n",
       "      <td>NaN</td>\n",
       "      <td>142200795</td>\n",
       "      <td>53265021</td>\n",
       "      <td>4288657</td>\n",
       "    </tr>\n",
       "  </tbody>\n",
       "</table>\n",
       "</div>"
      ],
      "text/plain": [
       "                      completed_date                              content  \\\n",
       "3864  Sun 28 Aug 2016 12:07:13 +0000  Read Checklist from MASTER THE GAME   \n",
       "3865  Sun 28 Aug 2016 10:40:51 +0000                        Weekly Review   \n",
       "3866  Sun 28 Aug 2016 10:24:01 +0000         Financial Reflection Writing   \n",
       "3867  Sun 28 Aug 2016 10:17:51 +0000              Study Todoist Shortcuts   \n",
       "3868  Sun 28 Aug 2016 06:39:21 +0000      Review & Setup Tasks on TODOIST   \n",
       "\n",
       "            id  meta_data project_id   task_id  user_id  \n",
       "3864  53281331        NaN  178797715  53281331  4288657  \n",
       "3865  53277061        NaN  142200795  53277061  4288657  \n",
       "3866  53275224        NaN  142200795  53275224  4288657  \n",
       "3867  53273289        NaN  142200795  53273289  4288657  \n",
       "3868  53265021        NaN  142200795  53265021  4288657  "
      ]
     },
     "execution_count": 32,
     "metadata": {},
     "output_type": "execute_result"
    }
   ],
   "source": [
    "past_tasks.tail()"
   ]
  },
  {
   "cell_type": "code",
   "execution_count": 33,
   "metadata": {
    "collapsed": true
   },
   "outputs": [],
   "source": [
    "# Probably a more effecient way to do this\n",
    "project_lookup = lambda x: get_todoist_project_name(x)"
   ]
  },
  {
   "cell_type": "code",
   "execution_count": 34,
   "metadata": {
    "collapsed": true
   },
   "outputs": [],
   "source": [
    "past_tasks['project_name'] = past_tasks['project_id'].apply(project_lookup)"
   ]
  },
  {
   "cell_type": "code",
   "execution_count": 35,
   "metadata": {},
   "outputs": [
    {
     "data": {
      "text/plain": [
       "41"
      ]
     },
     "execution_count": 35,
     "metadata": {},
     "output_type": "execute_result"
    }
   ],
   "source": [
    "len(past_tasks.project_name.unique())"
   ]
  },
  {
   "cell_type": "code",
   "execution_count": 36,
   "metadata": {},
   "outputs": [
    {
     "data": {
      "text/plain": [
       "3869"
      ]
     },
     "execution_count": 36,
     "metadata": {},
     "output_type": "execute_result"
    }
   ],
   "source": [
    "len(past_tasks)"
   ]
  },
  {
   "cell_type": "code",
   "execution_count": 39,
   "metadata": {},
   "outputs": [],
   "source": [
    "# Add Day of Week Completed\n",
    "past_tasks['completed_date'] = pd.to_datetime(past_tasks['completed_date'])\n",
    "past_tasks['dow'] = past_tasks['completed_date'].dt.weekday\n",
    "past_tasks['day_of_week'] = past_tasks['completed_date'].dt.weekday_name"
   ]
  },
  {
   "cell_type": "code",
   "execution_count": 40,
   "metadata": {},
   "outputs": [
    {
     "data": {
      "text/html": [
       "<div>\n",
       "<style>\n",
       "    .dataframe thead tr:only-child th {\n",
       "        text-align: right;\n",
       "    }\n",
       "\n",
       "    .dataframe thead th {\n",
       "        text-align: left;\n",
       "    }\n",
       "\n",
       "    .dataframe tbody tr th {\n",
       "        vertical-align: top;\n",
       "    }\n",
       "</style>\n",
       "<table border=\"1\" class=\"dataframe\">\n",
       "  <thead>\n",
       "    <tr style=\"text-align: right;\">\n",
       "      <th></th>\n",
       "      <th>completed_date</th>\n",
       "      <th>content</th>\n",
       "      <th>id</th>\n",
       "      <th>meta_data</th>\n",
       "      <th>project_id</th>\n",
       "      <th>task_id</th>\n",
       "      <th>user_id</th>\n",
       "      <th>project_name</th>\n",
       "      <th>dow</th>\n",
       "      <th>day_of_week</th>\n",
       "    </tr>\n",
       "  </thead>\n",
       "  <tbody>\n",
       "    <tr>\n",
       "      <th>3864</th>\n",
       "      <td>2016-08-28 12:07:13</td>\n",
       "      <td>Read Checklist from MASTER THE GAME</td>\n",
       "      <td>53281331</td>\n",
       "      <td>NaN</td>\n",
       "      <td>178797715</td>\n",
       "      <td>53281331</td>\n",
       "      <td>4288657</td>\n",
       "      <td>Studies: General</td>\n",
       "      <td>6</td>\n",
       "      <td>Sunday</td>\n",
       "    </tr>\n",
       "    <tr>\n",
       "      <th>3865</th>\n",
       "      <td>2016-08-28 10:40:51</td>\n",
       "      <td>Weekly Review</td>\n",
       "      <td>53277061</td>\n",
       "      <td>NaN</td>\n",
       "      <td>142200795</td>\n",
       "      <td>53277061</td>\n",
       "      <td>4288657</td>\n",
       "      <td>Personal</td>\n",
       "      <td>6</td>\n",
       "      <td>Sunday</td>\n",
       "    </tr>\n",
       "    <tr>\n",
       "      <th>3866</th>\n",
       "      <td>2016-08-28 10:24:01</td>\n",
       "      <td>Financial Reflection Writing</td>\n",
       "      <td>53275224</td>\n",
       "      <td>NaN</td>\n",
       "      <td>142200795</td>\n",
       "      <td>53275224</td>\n",
       "      <td>4288657</td>\n",
       "      <td>Personal</td>\n",
       "      <td>6</td>\n",
       "      <td>Sunday</td>\n",
       "    </tr>\n",
       "    <tr>\n",
       "      <th>3867</th>\n",
       "      <td>2016-08-28 10:17:51</td>\n",
       "      <td>Study Todoist Shortcuts</td>\n",
       "      <td>53273289</td>\n",
       "      <td>NaN</td>\n",
       "      <td>142200795</td>\n",
       "      <td>53273289</td>\n",
       "      <td>4288657</td>\n",
       "      <td>Personal</td>\n",
       "      <td>6</td>\n",
       "      <td>Sunday</td>\n",
       "    </tr>\n",
       "    <tr>\n",
       "      <th>3868</th>\n",
       "      <td>2016-08-28 06:39:21</td>\n",
       "      <td>Review &amp; Setup Tasks on TODOIST</td>\n",
       "      <td>53265021</td>\n",
       "      <td>NaN</td>\n",
       "      <td>142200795</td>\n",
       "      <td>53265021</td>\n",
       "      <td>4288657</td>\n",
       "      <td>Personal</td>\n",
       "      <td>6</td>\n",
       "      <td>Sunday</td>\n",
       "    </tr>\n",
       "  </tbody>\n",
       "</table>\n",
       "</div>"
      ],
      "text/plain": [
       "          completed_date                              content        id  \\\n",
       "3864 2016-08-28 12:07:13  Read Checklist from MASTER THE GAME  53281331   \n",
       "3865 2016-08-28 10:40:51                        Weekly Review  53277061   \n",
       "3866 2016-08-28 10:24:01         Financial Reflection Writing  53275224   \n",
       "3867 2016-08-28 10:17:51              Study Todoist Shortcuts  53273289   \n",
       "3868 2016-08-28 06:39:21      Review & Setup Tasks on TODOIST  53265021   \n",
       "\n",
       "      meta_data project_id   task_id  user_id      project_name  dow  \\\n",
       "3864        NaN  178797715  53281331  4288657  Studies: General    6   \n",
       "3865        NaN  142200795  53277061  4288657          Personal    6   \n",
       "3866        NaN  142200795  53275224  4288657          Personal    6   \n",
       "3867        NaN  142200795  53273289  4288657          Personal    6   \n",
       "3868        NaN  142200795  53265021  4288657          Personal    6   \n",
       "\n",
       "     day_of_week  \n",
       "3864      Sunday  \n",
       "3865      Sunday  \n",
       "3866      Sunday  \n",
       "3867      Sunday  \n",
       "3868      Sunday  "
      ]
     },
     "execution_count": 40,
     "metadata": {},
     "output_type": "execute_result"
    }
   ],
   "source": [
    "past_tasks.tail()"
   ]
  },
  {
   "cell_type": "code",
   "execution_count": 41,
   "metadata": {
    "collapsed": true
   },
   "outputs": [],
   "source": [
    "# save to CSV\n",
    "past_tasks.to_csv(\"data/todost-tasks-completed.csv\", index=False)"
   ]
  },
  {
   "cell_type": "markdown",
   "metadata": {},
   "source": [
    "------"
   ]
  },
  {
   "cell_type": "markdown",
   "metadata": {},
   "source": [
    "## Get and Export Current Tasks List"
   ]
  },
  {
   "cell_type": "code",
   "execution_count": null,
   "metadata": {},
   "outputs": [],
   "source": []
  },
  {
   "cell_type": "code",
   "execution_count": 42,
   "metadata": {},
   "outputs": [],
   "source": [
    "available_task_items = api.state['items']"
   ]
  },
  {
   "cell_type": "code",
   "execution_count": 43,
   "metadata": {
    "scrolled": false
   },
   "outputs": [
    {
     "data": {
      "text/plain": [
       "1409"
      ]
     },
     "execution_count": 43,
     "metadata": {},
     "output_type": "execute_result"
    }
   ],
   "source": [
    "len(available_task_items)"
   ]
  },
  {
   "cell_type": "code",
   "execution_count": 44,
   "metadata": {},
   "outputs": [
    {
     "data": {
      "text/plain": [
       "182358694"
      ]
     },
     "execution_count": 44,
     "metadata": {},
     "output_type": "execute_result"
    }
   ],
   "source": [
    "# Check a Sample Item\n",
    "available_task_items[150]['project_id']"
   ]
  },
  {
   "cell_type": "code",
   "execution_count": 45,
   "metadata": {},
   "outputs": [],
   "source": [
    "# Hackish Solution, Needs Improvement\n",
    "with open('data/current-tasks-raw.csv', 'w') as file:\n",
    "    file.write(\"id,content,checked,date_string,project_id,date_added,due_date_utc,date_completed \\n\")\n",
    "    for i in list(range(0, len(available_task_items))): \n",
    "        if (available_task_items[i]['checked'] == 0):\n",
    "            id = available_task_items[i]['id']\n",
    "            content = available_task_items[i]['content']\n",
    "            checked = available_task_items[i]['checked']\n",
    "            date_string = available_task_items[i]['date_string']\n",
    "            date_added = available_task_items[i]['date_added']\n",
    "            project_id = available_task_items[i]['project_id']\n",
    "            due_date_utc = available_task_items[i]['due_date_utc']\n",
    "            date_completed = available_task_items[i]['date_completed']\n",
    "            # print(\"id + \",\" + str(due_date_utc))\n",
    "            file.write(str(id) \n",
    "                       + \",\" + '\\\"' + content + '\\\"' + \",\" \n",
    "                       + str(checked) + \",\" \n",
    "                       # + str(date_string) + \",\" \n",
    "                       + str(date_added)  + \",\" \n",
    "                       + str(project_id)  + \",\" \n",
    "                       + str(due_date_utc)  + \",\" \n",
    "                       + str(date_completed)                   \n",
    "                       + \"\\n\")"
   ]
  },
  {
   "cell_type": "code",
   "execution_count": 46,
   "metadata": {},
   "outputs": [],
   "source": [
    "# df of current tasks\n",
    "currents_task = pd.read_csv('data/current-tasks-raw.csv')"
   ]
  },
  {
   "cell_type": "code",
   "execution_count": 47,
   "metadata": {},
   "outputs": [
    {
     "data": {
      "text/plain": [
       "988"
      ]
     },
     "execution_count": 47,
     "metadata": {},
     "output_type": "execute_result"
    }
   ],
   "source": [
    "# total of current tasks (i.e. not archived or completed)\n",
    "len(currents_task)"
   ]
  },
  {
   "cell_type": "code",
   "execution_count": 56,
   "metadata": {},
   "outputs": [
    {
     "data": {
      "text/html": [
       "<div>\n",
       "<style>\n",
       "    .dataframe thead tr:only-child th {\n",
       "        text-align: right;\n",
       "    }\n",
       "\n",
       "    .dataframe thead th {\n",
       "        text-align: left;\n",
       "    }\n",
       "\n",
       "    .dataframe tbody tr th {\n",
       "        vertical-align: top;\n",
       "    }\n",
       "</style>\n",
       "<table border=\"1\" class=\"dataframe\">\n",
       "  <thead>\n",
       "    <tr style=\"text-align: right;\">\n",
       "      <th></th>\n",
       "      <th>id</th>\n",
       "      <th>content</th>\n",
       "      <th>checked</th>\n",
       "      <th>date_string</th>\n",
       "      <th>project_id</th>\n",
       "      <th>date_added</th>\n",
       "      <th>due_date_utc</th>\n",
       "      <th>date_completed</th>\n",
       "      <th>project_name</th>\n",
       "    </tr>\n",
       "  </thead>\n",
       "  <tbody>\n",
       "    <tr>\n",
       "      <th>983</th>\n",
       "      <td>2658526051</td>\n",
       "      <td>Python Data Analysis and Code for Apple Health</td>\n",
       "      <td>0</td>\n",
       "      <td>Sun 20 May 2018 13:39:23 +0000</td>\n",
       "      <td>2165379308</td>\n",
       "      <td>None</td>\n",
       "      <td>None</td>\n",
       "      <td>NaN</td>\n",
       "      <td>Data-Driven You</td>\n",
       "    </tr>\n",
       "    <tr>\n",
       "      <th>984</th>\n",
       "      <td>2659830780</td>\n",
       "      <td>Complete Exercises 95 to 100</td>\n",
       "      <td>0</td>\n",
       "      <td>Mon 21 May 2018 14:27:57 +0000</td>\n",
       "      <td>181654076</td>\n",
       "      <td>Thu 24 May 2018 09:00:00 +0000</td>\n",
       "      <td>None</td>\n",
       "      <td>NaN</td>\n",
       "      <td>Code Studies</td>\n",
       "    </tr>\n",
       "    <tr>\n",
       "      <th>985</th>\n",
       "      <td>2661018388</td>\n",
       "      <td>SSL Certificate Review</td>\n",
       "      <td>0</td>\n",
       "      <td>Tue 22 May 2018 09:18:54 +0000</td>\n",
       "      <td>178885806</td>\n",
       "      <td>Thu 24 May 2018 06:30:00 +0000</td>\n",
       "      <td>None</td>\n",
       "      <td>NaN</td>\n",
       "      <td>RTBookReviews</td>\n",
       "    </tr>\n",
       "    <tr>\n",
       "      <th>986</th>\n",
       "      <td>2661364491</td>\n",
       "      <td>Pandas: SF Salaries Exercise</td>\n",
       "      <td>0</td>\n",
       "      <td>Tue 22 May 2018 13:28:43 +0000</td>\n",
       "      <td>181654076</td>\n",
       "      <td>None</td>\n",
       "      <td>None</td>\n",
       "      <td>NaN</td>\n",
       "      <td>Code Studies</td>\n",
       "    </tr>\n",
       "    <tr>\n",
       "      <th>987</th>\n",
       "      <td>2662234986</td>\n",
       "      <td>Altered Traits</td>\n",
       "      <td>0</td>\n",
       "      <td>Wed 23 May 2018 01:52:52 +0000</td>\n",
       "      <td>2158267786</td>\n",
       "      <td>None</td>\n",
       "      <td>None</td>\n",
       "      <td>NaN</td>\n",
       "      <td>Health</td>\n",
       "    </tr>\n",
       "  </tbody>\n",
       "</table>\n",
       "</div>"
      ],
      "text/plain": [
       "             id                                         content  checked  \\\n",
       "983  2658526051  Python Data Analysis and Code for Apple Health        0   \n",
       "984  2659830780                    Complete Exercises 95 to 100        0   \n",
       "985  2661018388                          SSL Certificate Review        0   \n",
       "986  2661364491                    Pandas: SF Salaries Exercise        0   \n",
       "987  2662234986                                  Altered Traits        0   \n",
       "\n",
       "                        date_string  project_id  \\\n",
       "983  Sun 20 May 2018 13:39:23 +0000  2165379308   \n",
       "984  Mon 21 May 2018 14:27:57 +0000   181654076   \n",
       "985  Tue 22 May 2018 09:18:54 +0000   178885806   \n",
       "986  Tue 22 May 2018 13:28:43 +0000   181654076   \n",
       "987  Wed 23 May 2018 01:52:52 +0000  2158267786   \n",
       "\n",
       "                         date_added due_date_utc  date_completed   \\\n",
       "983                            None         None              NaN   \n",
       "984  Thu 24 May 2018 09:00:00 +0000         None              NaN   \n",
       "985  Thu 24 May 2018 06:30:00 +0000         None              NaN   \n",
       "986                            None         None              NaN   \n",
       "987                            None         None              NaN   \n",
       "\n",
       "        project_name  \n",
       "983  Data-Driven You  \n",
       "984     Code Studies  \n",
       "985    RTBookReviews  \n",
       "986     Code Studies  \n",
       "987           Health  "
      ]
     },
     "execution_count": 56,
     "metadata": {},
     "output_type": "execute_result"
    }
   ],
   "source": [
    "currents_task.tail()"
   ]
  },
  {
   "cell_type": "code",
   "execution_count": 49,
   "metadata": {},
   "outputs": [
    {
     "name": "stdout",
     "output_type": "stream",
     "text": [
      "<class 'pandas.core.frame.DataFrame'>\n",
      "RangeIndex: 988 entries, 0 to 987\n",
      "Data columns (total 8 columns):\n",
      "id                 988 non-null int64\n",
      "content            988 non-null object\n",
      "checked            988 non-null int64\n",
      "date_string        988 non-null object\n",
      "project_id         988 non-null int64\n",
      "date_added         988 non-null object\n",
      "due_date_utc       988 non-null object\n",
      "date_completed     0 non-null float64\n",
      "dtypes: float64(1), int64(3), object(4)\n",
      "memory usage: 61.8+ KB\n"
     ]
    }
   ],
   "source": [
    "currents_task.info()"
   ]
  },
  {
   "cell_type": "code",
   "execution_count": 50,
   "metadata": {},
   "outputs": [],
   "source": [
    "currents_task['project_name'] = currents_task['project_id'].apply(project_lookup)"
   ]
  },
  {
   "cell_type": "code",
   "execution_count": 59,
   "metadata": {},
   "outputs": [],
   "source": [
    "# Date Added Cleanup\n",
    "currents_task['date_added'] = currents_task['date_added'].replace(to_replace=\"None\", value='')"
   ]
  },
  {
   "cell_type": "code",
   "execution_count": 61,
   "metadata": {},
   "outputs": [],
   "source": [
    "# Add Day of Week Added\n",
    "currents_task['date_added'] = pd.to_datetime(currents_task['date_added'])\n",
    "currents_task['dow_added'] = currents_task['date_added'].dt.weekday\n",
    "currents_task['day_of_week_added'] = currents_task['date_added'].dt.weekday_name"
   ]
  },
  {
   "cell_type": "code",
   "execution_count": 63,
   "metadata": {},
   "outputs": [],
   "source": [
    "# currents_task.tail()"
   ]
  },
  {
   "cell_type": "code",
   "execution_count": 64,
   "metadata": {},
   "outputs": [],
   "source": [
    "currents_task.to_csv('data/current-tasks.csv', index=False)"
   ]
  },
  {
   "cell_type": "markdown",
   "metadata": {},
   "source": [
    "---"
   ]
  },
  {
   "cell_type": "markdown",
   "metadata": {},
   "source": [
    "# TODO: Simple Data Analysis"
   ]
  },
  {
   "cell_type": "code",
   "execution_count": 53,
   "metadata": {
    "collapsed": true
   },
   "outputs": [],
   "source": [
    "# UNCOMMMENT TO VIEW: Report by Projects\n",
    "# past_tasks.groupby(['project_name']).count()\n",
    "# currents_task.groupby(['project_name']).count()"
   ]
  },
  {
   "cell_type": "code",
   "execution_count": 54,
   "metadata": {
    "collapsed": true
   },
   "outputs": [],
   "source": [
    "# ax = tasks.groupby(['project_name']).count().plot(kind='bar')\n",
    "#plt.suptitle('Tasks Completed of Top Projects', fontsize=16)\n",
    "#plt.xlabel('Projects', fontsize=12, color='red')"
   ]
  },
  {
   "cell_type": "code",
   "execution_count": null,
   "metadata": {
    "collapsed": true
   },
   "outputs": [],
   "source": []
  }
 ],
 "metadata": {
  "kernelspec": {
   "display_name": "Python 3",
   "language": "python",
   "name": "python3"
  }
 },
 "nbformat": 4,
 "nbformat_minor": 2
}
