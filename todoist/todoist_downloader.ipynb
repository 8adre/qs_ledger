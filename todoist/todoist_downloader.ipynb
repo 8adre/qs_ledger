{
 "cells": [
  {
   "cell_type": "markdown",
   "metadata": {},
   "source": [
    "# Todoist Completed Tasks Downloader"
   ]
  },
  {
   "cell_type": "markdown",
   "metadata": {},
   "source": [
    "This project will collect and aggregate all of your completed task data from Todoist. "
   ]
  },
  {
   "cell_type": "markdown",
   "metadata": {},
   "source": [
    "-------"
   ]
  },
  {
   "cell_type": "markdown",
   "metadata": {},
   "source": [
    "## Installation and Setup\n",
    "\n",
    "#### Download and Install Todoist Python Library\n",
    "\n",
    "`$ pip install python-todoist`\n",
    "\n",
    "#### Signup and Create a Todoist App\n",
    "\n",
    "* Signup at https://developer.todoist.com/appconsole.html\n",
    "* Once app is created, generate and copy a \"Test token,\" which provides access to API as your user.\n",
    "* Copy sample-credentials.json and create credentials.json\n",
    "* Add and Save your Test Token to credentials.json\n"
   ]
  },
  {
   "cell_type": "markdown",
   "metadata": {},
   "source": [
    "-----"
   ]
  },
  {
   "cell_type": "markdown",
   "metadata": {},
   "source": [
    "## Dependencies"
   ]
  },
  {
   "cell_type": "code",
   "execution_count": 55,
   "metadata": {
    "collapsed": true
   },
   "outputs": [],
   "source": [
    "from todoist.api import TodoistAPI\n",
    "import pandas as pd\n",
    "\n",
    "import matplotlib.pyplot as plt\n",
    "from datetime import datetime\n",
    "%matplotlib inline"
   ]
  },
  {
   "cell_type": "markdown",
   "metadata": {},
   "source": [
    "### Credentials and Authentification"
   ]
  },
  {
   "cell_type": "code",
   "execution_count": 2,
   "metadata": {
    "collapsed": true
   },
   "outputs": [],
   "source": [
    "import json\n",
    "\n",
    "with open(\"credentials.json\", \"r\") as file:\n",
    "    credentials = json.load(file)\n",
    "    todoist_cr = credentials['todoist']\n",
    "    TOKEN = todoist_cr['TOKEN']"
   ]
  },
  {
   "cell_type": "code",
   "execution_count": 47,
   "metadata": {},
   "outputs": [],
   "source": [
    "api = TodoistAPI(TOKEN)\n",
    "api.sync()"
   ]
  },
  {
   "cell_type": "markdown",
   "metadata": {},
   "source": [
    "----------"
   ]
  },
  {
   "cell_type": "markdown",
   "metadata": {},
   "source": [
    "## Check Basic User Info"
   ]
  },
  {
   "cell_type": "code",
   "execution_count": 4,
   "metadata": {
    "collapsed": true
   },
   "outputs": [],
   "source": [
    "user = api.state['user']"
   ]
  },
  {
   "cell_type": "code",
   "execution_count": 5,
   "metadata": {},
   "outputs": [
    {
     "data": {
      "text/plain": [
       "'Mark Koester'"
      ]
     },
     "execution_count": 5,
     "metadata": {},
     "output_type": "execute_result"
    }
   ],
   "source": [
    "user['full_name']"
   ]
  },
  {
   "cell_type": "code",
   "execution_count": 6,
   "metadata": {},
   "outputs": [
    {
     "data": {
      "text/plain": [
       "6"
      ]
     },
     "execution_count": 6,
     "metadata": {},
     "output_type": "execute_result"
    }
   ],
   "source": [
    "# Tasks Completed Today\n",
    "user['completed_today']"
   ]
  },
  {
   "cell_type": "code",
   "execution_count": 7,
   "metadata": {},
   "outputs": [
    {
     "data": {
      "text/plain": [
       "3867"
      ]
     },
     "execution_count": 7,
     "metadata": {},
     "output_type": "execute_result"
    }
   ],
   "source": [
    "# total completed tasks\n",
    "user_completed_count = user['completed_count']\n",
    "user_completed_count"
   ]
  },
  {
   "cell_type": "markdown",
   "metadata": {},
   "source": [
    "-------"
   ]
  },
  {
   "cell_type": "markdown",
   "metadata": {},
   "source": [
    "# List and Export of Current Projects"
   ]
  },
  {
   "cell_type": "code",
   "execution_count": 8,
   "metadata": {
    "collapsed": true
   },
   "outputs": [],
   "source": [
    "user_projects  = api.state['projects']"
   ]
  },
  {
   "cell_type": "code",
   "execution_count": null,
   "metadata": {
    "collapsed": true
   },
   "outputs": [],
   "source": [
    "user_projects"
   ]
  },
  {
   "cell_type": "code",
   "execution_count": 9,
   "metadata": {},
   "outputs": [
    {
     "data": {
      "text/plain": [
       "41"
      ]
     },
     "execution_count": 9,
     "metadata": {},
     "output_type": "execute_result"
    }
   ],
   "source": [
    "len(user_projects)"
   ]
  },
  {
   "cell_type": "code",
   "execution_count": 10,
   "metadata": {
    "collapsed": true
   },
   "outputs": [],
   "source": [
    "with open('data/todoist-projects.csv', 'w') as file:\n",
    "    file.write(\"Id\" + \",\" + \"Project\" + \"\\n\")\n",
    "    for i in range(0, len(user_projects)):\n",
    "        file.write('\\\"' + str(user_projects[i]['id']) + '\\\"' + \",\" + '\\\"' + str(user_projects[i]['name']) + '\\\"' + \"\\n\")"
   ]
  },
  {
   "cell_type": "code",
   "execution_count": 11,
   "metadata": {
    "collapsed": true
   },
   "outputs": [],
   "source": [
    "projects = pd.read_csv(\"data/todoist-projects.csv\")"
   ]
  },
  {
   "cell_type": "code",
   "execution_count": 12,
   "metadata": {
    "collapsed": true
   },
   "outputs": [],
   "source": [
    "# projects"
   ]
  },
  {
   "cell_type": "markdown",
   "metadata": {},
   "source": [
    "-----"
   ]
  },
  {
   "cell_type": "markdown",
   "metadata": {},
   "source": [
    "## User Stats Info"
   ]
  },
  {
   "cell_type": "code",
   "execution_count": 13,
   "metadata": {
    "collapsed": true
   },
   "outputs": [],
   "source": [
    "stats = api.completed.get_stats()"
   ]
  },
  {
   "cell_type": "code",
   "execution_count": 14,
   "metadata": {},
   "outputs": [
    {
     "data": {
      "text/plain": [
       "3867"
      ]
     },
     "execution_count": 14,
     "metadata": {},
     "output_type": "execute_result"
    }
   ],
   "source": [
    "# total completed tasks from stats\n",
    "stats['completed_count']"
   ]
  },
  {
   "cell_type": "markdown",
   "metadata": {},
   "source": [
    "-------"
   ]
  },
  {
   "cell_type": "markdown",
   "metadata": {},
   "source": [
    "# Collect Raw List of All Completed Items from Todoist"
   ]
  },
  {
   "cell_type": "code",
   "execution_count": null,
   "metadata": {
    "collapsed": true
   },
   "outputs": [],
   "source": []
  },
  {
   "cell_type": "code",
   "execution_count": 42,
   "metadata": {
    "collapsed": true
   },
   "outputs": [],
   "source": [
    "def get_completed_todoist_items():\n",
    "    # create df from initial 50 completed tasks\n",
    "    print(\"Collecting Initial 50 Completed Todoist Tasks...\")\n",
    "    temp_tasks_dict = (api.completed.get_all(limit=50))\n",
    "    tasks = pd.DataFrame.from_dict(temp_tasks_dict['items'])\n",
    "    # get the remaining items\n",
    "    pager = list(range(50,user_completed_count,50))\n",
    "    for count, item in enumerate(pager):\n",
    "        tmp_tasks = (api.completed.get_all(limit=50, offset=item))\n",
    "        tmp_tasks_df = pd.DataFrame.from_dict(tmp_tasks['items'])\n",
    "        tasks = pd.concat([tasks, tmp_tasks_df])\n",
    "        print(\"Collecting Additional Todoist Tasks \" + str(item) + \" of \" + str(user_completed_count))\n",
    "    # save to CSV\n",
    "    print(\"...Generating CSV Export\")\n",
    "    tasks.to_csv(\"data/todost-raw-tasks-completed.csv\", index=False)"
   ]
  },
  {
   "cell_type": "code",
   "execution_count": 16,
   "metadata": {},
   "outputs": [
    {
     "name": "stdout",
     "output_type": "stream",
     "text": [
      "Collecting Initial 50 Completed Todoist Tasks...\n",
      "Collecting Additional Todoist Tasks 50 of 3867\n",
      "Collecting Additional Todoist Tasks 100 of 3867\n",
      "Collecting Additional Todoist Tasks 150 of 3867\n",
      "Collecting Additional Todoist Tasks 200 of 3867\n",
      "Collecting Additional Todoist Tasks 250 of 3867\n",
      "Collecting Additional Todoist Tasks 300 of 3867\n",
      "Collecting Additional Todoist Tasks 350 of 3867\n",
      "Collecting Additional Todoist Tasks 400 of 3867\n",
      "Collecting Additional Todoist Tasks 450 of 3867\n",
      "Collecting Additional Todoist Tasks 500 of 3867\n",
      "Collecting Additional Todoist Tasks 550 of 3867\n",
      "Collecting Additional Todoist Tasks 600 of 3867\n",
      "Collecting Additional Todoist Tasks 650 of 3867\n",
      "Collecting Additional Todoist Tasks 700 of 3867\n",
      "Collecting Additional Todoist Tasks 750 of 3867\n",
      "Collecting Additional Todoist Tasks 800 of 3867\n",
      "Collecting Additional Todoist Tasks 850 of 3867\n",
      "Collecting Additional Todoist Tasks 900 of 3867\n",
      "Collecting Additional Todoist Tasks 950 of 3867\n",
      "Collecting Additional Todoist Tasks 1000 of 3867\n",
      "Collecting Additional Todoist Tasks 1050 of 3867\n",
      "Collecting Additional Todoist Tasks 1100 of 3867\n",
      "Collecting Additional Todoist Tasks 1150 of 3867\n",
      "Collecting Additional Todoist Tasks 1200 of 3867\n",
      "Collecting Additional Todoist Tasks 1250 of 3867\n",
      "Collecting Additional Todoist Tasks 1300 of 3867\n",
      "Collecting Additional Todoist Tasks 1350 of 3867\n",
      "Collecting Additional Todoist Tasks 1400 of 3867\n",
      "Collecting Additional Todoist Tasks 1450 of 3867\n",
      "Collecting Additional Todoist Tasks 1500 of 3867\n",
      "Collecting Additional Todoist Tasks 1550 of 3867\n",
      "Collecting Additional Todoist Tasks 1600 of 3867\n",
      "Collecting Additional Todoist Tasks 1650 of 3867\n",
      "Collecting Additional Todoist Tasks 1700 of 3867\n",
      "Collecting Additional Todoist Tasks 1750 of 3867\n",
      "Collecting Additional Todoist Tasks 1800 of 3867\n",
      "Collecting Additional Todoist Tasks 1850 of 3867\n",
      "Collecting Additional Todoist Tasks 1900 of 3867\n",
      "Collecting Additional Todoist Tasks 1950 of 3867\n",
      "Collecting Additional Todoist Tasks 2000 of 3867\n",
      "Collecting Additional Todoist Tasks 2050 of 3867\n",
      "Collecting Additional Todoist Tasks 2100 of 3867\n",
      "Collecting Additional Todoist Tasks 2150 of 3867\n",
      "Collecting Additional Todoist Tasks 2200 of 3867\n",
      "Collecting Additional Todoist Tasks 2250 of 3867\n",
      "Collecting Additional Todoist Tasks 2300 of 3867\n",
      "Collecting Additional Todoist Tasks 2350 of 3867\n",
      "Collecting Additional Todoist Tasks 2400 of 3867\n",
      "Collecting Additional Todoist Tasks 2450 of 3867\n",
      "Collecting Additional Todoist Tasks 2500 of 3867\n",
      "Collecting Additional Todoist Tasks 2550 of 3867\n",
      "Collecting Additional Todoist Tasks 2600 of 3867\n",
      "Collecting Additional Todoist Tasks 2650 of 3867\n",
      "Collecting Additional Todoist Tasks 2700 of 3867\n",
      "Collecting Additional Todoist Tasks 2750 of 3867\n",
      "Collecting Additional Todoist Tasks 2800 of 3867\n",
      "Collecting Additional Todoist Tasks 2850 of 3867\n",
      "Collecting Additional Todoist Tasks 2900 of 3867\n",
      "Collecting Additional Todoist Tasks 2950 of 3867\n",
      "Collecting Additional Todoist Tasks 3000 of 3867\n",
      "Collecting Additional Todoist Tasks 3050 of 3867\n",
      "Collecting Additional Todoist Tasks 3100 of 3867\n",
      "Collecting Additional Todoist Tasks 3150 of 3867\n",
      "Collecting Additional Todoist Tasks 3200 of 3867\n",
      "Collecting Additional Todoist Tasks 3250 of 3867\n",
      "Collecting Additional Todoist Tasks 3300 of 3867\n",
      "Collecting Additional Todoist Tasks 3350 of 3867\n",
      "Collecting Additional Todoist Tasks 3400 of 3867\n",
      "Collecting Additional Todoist Tasks 3450 of 3867\n",
      "Collecting Additional Todoist Tasks 3500 of 3867\n",
      "Collecting Additional Todoist Tasks 3550 of 3867\n",
      "Collecting Additional Todoist Tasks 3600 of 3867\n",
      "Collecting Additional Todoist Tasks 3650 of 3867\n",
      "Collecting Additional Todoist Tasks 3700 of 3867\n",
      "Collecting Additional Todoist Tasks 3750 of 3867\n",
      "Collecting Additional Todoist Tasks 3800 of 3867\n",
      "Collecting Additional Todoist Tasks 3850 of 3867\n",
      "...Generating CSV Export\n"
     ]
    }
   ],
   "source": [
    "get_completed_todoist_items()"
   ]
  },
  {
   "cell_type": "code",
   "execution_count": 17,
   "metadata": {
    "collapsed": true
   },
   "outputs": [],
   "source": [
    "tasks = pd.read_csv(\"data/todost-raw-tasks-completed.csv\")"
   ]
  },
  {
   "cell_type": "code",
   "execution_count": 18,
   "metadata": {},
   "outputs": [
    {
     "data": {
      "text/html": [
       "<div>\n",
       "<style>\n",
       "    .dataframe thead tr:only-child th {\n",
       "        text-align: right;\n",
       "    }\n",
       "\n",
       "    .dataframe thead th {\n",
       "        text-align: left;\n",
       "    }\n",
       "\n",
       "    .dataframe tbody tr th {\n",
       "        vertical-align: top;\n",
       "    }\n",
       "</style>\n",
       "<table border=\"1\" class=\"dataframe\">\n",
       "  <thead>\n",
       "    <tr style=\"text-align: right;\">\n",
       "      <th></th>\n",
       "      <th>completed_date</th>\n",
       "      <th>content</th>\n",
       "      <th>id</th>\n",
       "      <th>meta_data</th>\n",
       "      <th>project_id</th>\n",
       "      <th>task_id</th>\n",
       "      <th>user_id</th>\n",
       "    </tr>\n",
       "  </thead>\n",
       "  <tbody>\n",
       "    <tr>\n",
       "      <th>0</th>\n",
       "      <td>Wed 23 May 2018 11:26:24 +0000</td>\n",
       "      <td>Initial Code for Exporting Todoist Completed T...</td>\n",
       "      <td>2662789071</td>\n",
       "      <td>NaN</td>\n",
       "      <td>2165379308</td>\n",
       "      <td>2662789071</td>\n",
       "      <td>4288657</td>\n",
       "    </tr>\n",
       "    <tr>\n",
       "      <th>1</th>\n",
       "      <td>Wed 23 May 2018 11:26:24 +0000</td>\n",
       "      <td>Edit and Share Last.fm Code for QS Ledger</td>\n",
       "      <td>2662788785</td>\n",
       "      <td>NaN</td>\n",
       "      <td>2165379308</td>\n",
       "      <td>2662788785</td>\n",
       "      <td>4288657</td>\n",
       "    </tr>\n",
       "    <tr>\n",
       "      <th>2</th>\n",
       "      <td>Wed 23 May 2018 11:26:21 +0000</td>\n",
       "      <td>Edit and Share Fitbit Code for QS Ledger</td>\n",
       "      <td>2662788601</td>\n",
       "      <td>NaN</td>\n",
       "      <td>2165379308</td>\n",
       "      <td>2662788601</td>\n",
       "      <td>4288657</td>\n",
       "    </tr>\n",
       "    <tr>\n",
       "      <th>3</th>\n",
       "      <td>Wed 23 May 2018 11:26:21 +0000</td>\n",
       "      <td>QS Ledger Dev Kickoff</td>\n",
       "      <td>2662788072</td>\n",
       "      <td>NaN</td>\n",
       "      <td>2165379308</td>\n",
       "      <td>2662788072</td>\n",
       "      <td>4288657</td>\n",
       "    </tr>\n",
       "    <tr>\n",
       "      <th>4</th>\n",
       "      <td>Wed 23 May 2018 05:41:36 +0000</td>\n",
       "      <td>DRAFT: Tracking Desktop with Auto-Capture Scre...</td>\n",
       "      <td>2662395597</td>\n",
       "      <td>NaN</td>\n",
       "      <td>1252539618</td>\n",
       "      <td>2662395597</td>\n",
       "      <td>4288657</td>\n",
       "    </tr>\n",
       "  </tbody>\n",
       "</table>\n",
       "</div>"
      ],
      "text/plain": [
       "                   completed_date  \\\n",
       "0  Wed 23 May 2018 11:26:24 +0000   \n",
       "1  Wed 23 May 2018 11:26:24 +0000   \n",
       "2  Wed 23 May 2018 11:26:21 +0000   \n",
       "3  Wed 23 May 2018 11:26:21 +0000   \n",
       "4  Wed 23 May 2018 05:41:36 +0000   \n",
       "\n",
       "                                             content          id  meta_data  \\\n",
       "0  Initial Code for Exporting Todoist Completed T...  2662789071        NaN   \n",
       "1          Edit and Share Last.fm Code for QS Ledger  2662788785        NaN   \n",
       "2           Edit and Share Fitbit Code for QS Ledger  2662788601        NaN   \n",
       "3                              QS Ledger Dev Kickoff  2662788072        NaN   \n",
       "4  DRAFT: Tracking Desktop with Auto-Capture Scre...  2662395597        NaN   \n",
       "\n",
       "   project_id     task_id  user_id  \n",
       "0  2165379308  2662789071  4288657  \n",
       "1  2165379308  2662788785  4288657  \n",
       "2  2165379308  2662788601  4288657  \n",
       "3  2165379308  2662788072  4288657  \n",
       "4  1252539618  2662395597  4288657  "
      ]
     },
     "execution_count": 18,
     "metadata": {},
     "output_type": "execute_result"
    }
   ],
   "source": [
    "tasks.head()"
   ]
  },
  {
   "cell_type": "code",
   "execution_count": 19,
   "metadata": {},
   "outputs": [
    {
     "data": {
      "text/plain": [
       "3867"
      ]
     },
     "execution_count": 19,
     "metadata": {},
     "output_type": "execute_result"
    }
   ],
   "source": [
    "# generated count \n",
    "collected_total = len(tasks)\n",
    "collected_total"
   ]
  },
  {
   "cell_type": "code",
   "execution_count": 20,
   "metadata": {},
   "outputs": [
    {
     "data": {
      "text/plain": [
       "True"
      ]
     },
     "execution_count": 20,
     "metadata": {},
     "output_type": "execute_result"
    }
   ],
   "source": [
    "# Does our collected total tasks match stat of completed count on user\n",
    "collected_total == user_completed_count"
   ]
  },
  {
   "cell_type": "code",
   "execution_count": 21,
   "metadata": {
    "collapsed": true
   },
   "outputs": [],
   "source": [
    "tasks['project_id'] = tasks.project_id.astype('category')"
   ]
  },
  {
   "cell_type": "code",
   "execution_count": 22,
   "metadata": {},
   "outputs": [
    {
     "name": "stdout",
     "output_type": "stream",
     "text": [
      "<class 'pandas.core.frame.DataFrame'>\n",
      "RangeIndex: 3867 entries, 0 to 3866\n",
      "Data columns (total 7 columns):\n",
      "completed_date    3867 non-null object\n",
      "content           3867 non-null object\n",
      "id                3867 non-null int64\n",
      "meta_data         0 non-null float64\n",
      "project_id        3867 non-null category\n",
      "task_id           3867 non-null int64\n",
      "user_id           3867 non-null int64\n",
      "dtypes: category(1), float64(1), int64(3), object(2)\n",
      "memory usage: 188.1+ KB\n"
     ]
    }
   ],
   "source": [
    "tasks.info()"
   ]
  },
  {
   "cell_type": "code",
   "execution_count": 23,
   "metadata": {},
   "outputs": [
    {
     "data": {
      "text/plain": [
       "59"
      ]
     },
     "execution_count": 23,
     "metadata": {},
     "output_type": "execute_result"
    }
   ],
   "source": [
    "len(tasks.project_id.unique())"
   ]
  },
  {
   "cell_type": "markdown",
   "metadata": {},
   "source": [
    "---------"
   ]
  },
  {
   "cell_type": "markdown",
   "metadata": {},
   "source": [
    "## Get All Current and Previous Projects"
   ]
  },
  {
   "cell_type": "code",
   "execution_count": 24,
   "metadata": {},
   "outputs": [
    {
     "data": {
      "text/plain": [
       "[2165379308, 1252539618, 1252630449, 1255395900, 1255273555, ..., 189007639, 187287545, 142200794, 181321548, 178797634]\n",
       "Length: 59\n",
       "Categories (59, int64): [2165379308, 1252539618, 1252630449, 1255395900, ..., 187287545, 142200794, 181321548, 178797634]"
      ]
     },
     "execution_count": 24,
     "metadata": {},
     "output_type": "execute_result"
    }
   ],
   "source": [
    "# get all project ids used on tasks\n",
    "project_ids = tasks.project_id.unique()\n",
    "project_ids"
   ]
  },
  {
   "cell_type": "code",
   "execution_count": 25,
   "metadata": {},
   "outputs": [
    {
     "data": {
      "text/plain": [
       "59"
      ]
     },
     "execution_count": 25,
     "metadata": {},
     "output_type": "execute_result"
    }
   ],
   "source": [
    "# total all-time projects\n",
    "len(project_ids)"
   ]
  },
  {
   "cell_type": "code",
   "execution_count": 26,
   "metadata": {
    "collapsed": true
   },
   "outputs": [],
   "source": [
    "def get_todoist_project_name(project_id):\n",
    "    item = api.projects.get_by_id(project_id)\n",
    "    if item: \n",
    "        try:\n",
    "            return item['name']\n",
    "        except:\n",
    "            return item['project']['name']"
   ]
  },
  {
   "cell_type": "code",
   "execution_count": 27,
   "metadata": {},
   "outputs": [
    {
     "data": {
      "text/plain": [
       "'Math'"
      ]
     },
     "execution_count": 27,
     "metadata": {},
     "output_type": "execute_result"
    }
   ],
   "source": [
    "get_todoist_project_name(183682060)"
   ]
  },
  {
   "cell_type": "code",
   "execution_count": 28,
   "metadata": {},
   "outputs": [
    {
     "data": {
      "text/plain": [
       "'Writing'"
      ]
     },
     "execution_count": 28,
     "metadata": {},
     "output_type": "execute_result"
    }
   ],
   "source": [
    "get_todoist_project_name(1252539618)"
   ]
  },
  {
   "cell_type": "code",
   "execution_count": 29,
   "metadata": {
    "collapsed": true
   },
   "outputs": [],
   "source": [
    "project_names = []\n",
    "for i in project_ids:\n",
    "    project_names.append(get_todoist_project_name(i))"
   ]
  },
  {
   "cell_type": "code",
   "execution_count": 49,
   "metadata": {},
   "outputs": [],
   "source": [
    "# project_names"
   ]
  },
  {
   "cell_type": "markdown",
   "metadata": {},
   "source": [
    "-----"
   ]
  },
  {
   "cell_type": "markdown",
   "metadata": {},
   "source": [
    "## Match Project Id Name on Tasks "
   ]
  },
  {
   "cell_type": "code",
   "execution_count": 32,
   "metadata": {},
   "outputs": [
    {
     "data": {
      "text/html": [
       "<div>\n",
       "<style>\n",
       "    .dataframe thead tr:only-child th {\n",
       "        text-align: right;\n",
       "    }\n",
       "\n",
       "    .dataframe thead th {\n",
       "        text-align: left;\n",
       "    }\n",
       "\n",
       "    .dataframe tbody tr th {\n",
       "        vertical-align: top;\n",
       "    }\n",
       "</style>\n",
       "<table border=\"1\" class=\"dataframe\">\n",
       "  <thead>\n",
       "    <tr style=\"text-align: right;\">\n",
       "      <th></th>\n",
       "      <th>completed_date</th>\n",
       "      <th>content</th>\n",
       "      <th>id</th>\n",
       "      <th>meta_data</th>\n",
       "      <th>project_id</th>\n",
       "      <th>task_id</th>\n",
       "      <th>user_id</th>\n",
       "    </tr>\n",
       "  </thead>\n",
       "  <tbody>\n",
       "    <tr>\n",
       "      <th>3862</th>\n",
       "      <td>Sun 28 Aug 2016 12:07:13 +0000</td>\n",
       "      <td>Read Checklist from MASTER THE GAME</td>\n",
       "      <td>53281331</td>\n",
       "      <td>NaN</td>\n",
       "      <td>178797715</td>\n",
       "      <td>53281331</td>\n",
       "      <td>4288657</td>\n",
       "    </tr>\n",
       "    <tr>\n",
       "      <th>3863</th>\n",
       "      <td>Sun 28 Aug 2016 10:40:51 +0000</td>\n",
       "      <td>Weekly Review</td>\n",
       "      <td>53277061</td>\n",
       "      <td>NaN</td>\n",
       "      <td>142200795</td>\n",
       "      <td>53277061</td>\n",
       "      <td>4288657</td>\n",
       "    </tr>\n",
       "    <tr>\n",
       "      <th>3864</th>\n",
       "      <td>Sun 28 Aug 2016 10:24:01 +0000</td>\n",
       "      <td>Financial Reflection Writing</td>\n",
       "      <td>53275224</td>\n",
       "      <td>NaN</td>\n",
       "      <td>142200795</td>\n",
       "      <td>53275224</td>\n",
       "      <td>4288657</td>\n",
       "    </tr>\n",
       "    <tr>\n",
       "      <th>3865</th>\n",
       "      <td>Sun 28 Aug 2016 10:17:51 +0000</td>\n",
       "      <td>Study Todoist Shortcuts</td>\n",
       "      <td>53273289</td>\n",
       "      <td>NaN</td>\n",
       "      <td>142200795</td>\n",
       "      <td>53273289</td>\n",
       "      <td>4288657</td>\n",
       "    </tr>\n",
       "    <tr>\n",
       "      <th>3866</th>\n",
       "      <td>Sun 28 Aug 2016 06:39:21 +0000</td>\n",
       "      <td>Review &amp; Setup Tasks on TODOIST</td>\n",
       "      <td>53265021</td>\n",
       "      <td>NaN</td>\n",
       "      <td>142200795</td>\n",
       "      <td>53265021</td>\n",
       "      <td>4288657</td>\n",
       "    </tr>\n",
       "  </tbody>\n",
       "</table>\n",
       "</div>"
      ],
      "text/plain": [
       "                      completed_date                              content  \\\n",
       "3862  Sun 28 Aug 2016 12:07:13 +0000  Read Checklist from MASTER THE GAME   \n",
       "3863  Sun 28 Aug 2016 10:40:51 +0000                        Weekly Review   \n",
       "3864  Sun 28 Aug 2016 10:24:01 +0000         Financial Reflection Writing   \n",
       "3865  Sun 28 Aug 2016 10:17:51 +0000              Study Todoist Shortcuts   \n",
       "3866  Sun 28 Aug 2016 06:39:21 +0000      Review & Setup Tasks on TODOIST   \n",
       "\n",
       "            id  meta_data project_id   task_id  user_id  \n",
       "3862  53281331        NaN  178797715  53281331  4288657  \n",
       "3863  53277061        NaN  142200795  53277061  4288657  \n",
       "3864  53275224        NaN  142200795  53275224  4288657  \n",
       "3865  53273289        NaN  142200795  53273289  4288657  \n",
       "3866  53265021        NaN  142200795  53265021  4288657  "
      ]
     },
     "execution_count": 32,
     "metadata": {},
     "output_type": "execute_result"
    }
   ],
   "source": [
    "tasks.tail()"
   ]
  },
  {
   "cell_type": "code",
   "execution_count": 33,
   "metadata": {
    "collapsed": true
   },
   "outputs": [],
   "source": [
    "project_lookup = lambda x: get_todoist_project_name(x)"
   ]
  },
  {
   "cell_type": "code",
   "execution_count": 34,
   "metadata": {
    "collapsed": true
   },
   "outputs": [],
   "source": [
    "tasks['project_name'] = tasks['project_id'].apply(project_lookup)"
   ]
  },
  {
   "cell_type": "code",
   "execution_count": 35,
   "metadata": {},
   "outputs": [
    {
     "data": {
      "text/html": [
       "<div>\n",
       "<style>\n",
       "    .dataframe thead tr:only-child th {\n",
       "        text-align: right;\n",
       "    }\n",
       "\n",
       "    .dataframe thead th {\n",
       "        text-align: left;\n",
       "    }\n",
       "\n",
       "    .dataframe tbody tr th {\n",
       "        vertical-align: top;\n",
       "    }\n",
       "</style>\n",
       "<table border=\"1\" class=\"dataframe\">\n",
       "  <thead>\n",
       "    <tr style=\"text-align: right;\">\n",
       "      <th></th>\n",
       "      <th>completed_date</th>\n",
       "      <th>content</th>\n",
       "      <th>id</th>\n",
       "      <th>meta_data</th>\n",
       "      <th>project_id</th>\n",
       "      <th>task_id</th>\n",
       "      <th>user_id</th>\n",
       "      <th>project_name</th>\n",
       "    </tr>\n",
       "  </thead>\n",
       "  <tbody>\n",
       "    <tr>\n",
       "      <th>3862</th>\n",
       "      <td>Sun 28 Aug 2016 12:07:13 +0000</td>\n",
       "      <td>Read Checklist from MASTER THE GAME</td>\n",
       "      <td>53281331</td>\n",
       "      <td>NaN</td>\n",
       "      <td>178797715</td>\n",
       "      <td>53281331</td>\n",
       "      <td>4288657</td>\n",
       "      <td>Studies: General</td>\n",
       "    </tr>\n",
       "    <tr>\n",
       "      <th>3863</th>\n",
       "      <td>Sun 28 Aug 2016 10:40:51 +0000</td>\n",
       "      <td>Weekly Review</td>\n",
       "      <td>53277061</td>\n",
       "      <td>NaN</td>\n",
       "      <td>142200795</td>\n",
       "      <td>53277061</td>\n",
       "      <td>4288657</td>\n",
       "      <td>Personal</td>\n",
       "    </tr>\n",
       "    <tr>\n",
       "      <th>3864</th>\n",
       "      <td>Sun 28 Aug 2016 10:24:01 +0000</td>\n",
       "      <td>Financial Reflection Writing</td>\n",
       "      <td>53275224</td>\n",
       "      <td>NaN</td>\n",
       "      <td>142200795</td>\n",
       "      <td>53275224</td>\n",
       "      <td>4288657</td>\n",
       "      <td>Personal</td>\n",
       "    </tr>\n",
       "    <tr>\n",
       "      <th>3865</th>\n",
       "      <td>Sun 28 Aug 2016 10:17:51 +0000</td>\n",
       "      <td>Study Todoist Shortcuts</td>\n",
       "      <td>53273289</td>\n",
       "      <td>NaN</td>\n",
       "      <td>142200795</td>\n",
       "      <td>53273289</td>\n",
       "      <td>4288657</td>\n",
       "      <td>Personal</td>\n",
       "    </tr>\n",
       "    <tr>\n",
       "      <th>3866</th>\n",
       "      <td>Sun 28 Aug 2016 06:39:21 +0000</td>\n",
       "      <td>Review &amp; Setup Tasks on TODOIST</td>\n",
       "      <td>53265021</td>\n",
       "      <td>NaN</td>\n",
       "      <td>142200795</td>\n",
       "      <td>53265021</td>\n",
       "      <td>4288657</td>\n",
       "      <td>Personal</td>\n",
       "    </tr>\n",
       "  </tbody>\n",
       "</table>\n",
       "</div>"
      ],
      "text/plain": [
       "                      completed_date                              content  \\\n",
       "3862  Sun 28 Aug 2016 12:07:13 +0000  Read Checklist from MASTER THE GAME   \n",
       "3863  Sun 28 Aug 2016 10:40:51 +0000                        Weekly Review   \n",
       "3864  Sun 28 Aug 2016 10:24:01 +0000         Financial Reflection Writing   \n",
       "3865  Sun 28 Aug 2016 10:17:51 +0000              Study Todoist Shortcuts   \n",
       "3866  Sun 28 Aug 2016 06:39:21 +0000      Review & Setup Tasks on TODOIST   \n",
       "\n",
       "            id  meta_data project_id   task_id  user_id      project_name  \n",
       "3862  53281331        NaN  178797715  53281331  4288657  Studies: General  \n",
       "3863  53277061        NaN  142200795  53277061  4288657          Personal  \n",
       "3864  53275224        NaN  142200795  53275224  4288657          Personal  \n",
       "3865  53273289        NaN  142200795  53273289  4288657          Personal  \n",
       "3866  53265021        NaN  142200795  53265021  4288657          Personal  "
      ]
     },
     "execution_count": 35,
     "metadata": {},
     "output_type": "execute_result"
    }
   ],
   "source": [
    "tasks.tail()"
   ]
  },
  {
   "cell_type": "code",
   "execution_count": 36,
   "metadata": {},
   "outputs": [
    {
     "data": {
      "text/plain": [
       "41"
      ]
     },
     "execution_count": 36,
     "metadata": {},
     "output_type": "execute_result"
    }
   ],
   "source": [
    "len(tasks.project_name.unique())"
   ]
  },
  {
   "cell_type": "code",
   "execution_count": 37,
   "metadata": {},
   "outputs": [
    {
     "data": {
      "text/plain": [
       "3867"
      ]
     },
     "execution_count": 37,
     "metadata": {},
     "output_type": "execute_result"
    }
   ],
   "source": [
    "len(tasks)"
   ]
  },
  {
   "cell_type": "code",
   "execution_count": 38,
   "metadata": {
    "collapsed": true
   },
   "outputs": [],
   "source": [
    "# Add Day of Week\n",
    "tasks['completed_date'] = pd.to_datetime(tasks['completed_date'])\n",
    "tasks['dow'] = tasks['completed_date'].dt.weekday\n",
    "tasks['day_of_week'] = tasks['completed_date'].dt.weekday_name"
   ]
  },
  {
   "cell_type": "code",
   "execution_count": 39,
   "metadata": {
    "collapsed": true
   },
   "outputs": [],
   "source": [
    "# save to CSV\n",
    "tasks.to_csv(\"data/todost-tasks-completed.csv\", index=False)"
   ]
  },
  {
   "cell_type": "markdown",
   "metadata": {},
   "source": [
    "---"
   ]
  },
  {
   "cell_type": "markdown",
   "metadata": {},
   "source": [
    "# TODO: Simple Data Analysis"
   ]
  },
  {
   "cell_type": "code",
   "execution_count": 69,
   "metadata": {},
   "outputs": [],
   "source": [
    "# UNCOMMMENT TO VIEW: Report by Projects\n",
    "# tasks.groupby(['project_name']).count()"
   ]
  },
  {
   "cell_type": "code",
   "execution_count": 74,
   "metadata": {},
   "outputs": [],
   "source": [
    "# ax = tasks.groupby(['project_name']).count().plot(kind='bar')\n",
    "#plt.suptitle('Tasks Completed of Top Projects', fontsize=16)\n",
    "#plt.xlabel('Projects', fontsize=12, color='red')"
   ]
  },
  {
   "cell_type": "code",
   "execution_count": null,
   "metadata": {
    "collapsed": true
   },
   "outputs": [],
   "source": []
  }
 ],
 "metadata": {
  "kernelspec": {
   "display_name": "Python 3",
   "language": "python",
   "name": "python3"
  },
  "language_info": {
   "codemirror_mode": {
    "name": "ipython",
    "version": 3
   },
   "file_extension": ".py",
   "mimetype": "text/x-python",
   "name": "python",
   "nbconvert_exporter": "python",
   "pygments_lexer": "ipython3",
   "version": "3.6.2"
  }
 },
 "nbformat": 4,
 "nbformat_minor": 2
}
