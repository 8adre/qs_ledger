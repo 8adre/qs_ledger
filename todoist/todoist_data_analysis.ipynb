{
 "cells": [
  {
   "cell_type": "markdown",
   "metadata": {},
   "source": [
    "# Todoist Data Analysis"
   ]
  },
  {
   "cell_type": "markdown",
   "metadata": {},
   "source": [
    "This notebook processed the downloaded history of your todoist tasks. See [todoist_downloader.ipynb](https://github.com/markwk/qs_ledger/blob/master/todoist/todoist_downloader.ipynb) to export and download your task history from Todoist. "
   ]
  },
  {
   "cell_type": "markdown",
   "metadata": {},
   "source": [
    "---"
   ]
  },
  {
   "cell_type": "code",
   "execution_count": 5,
   "metadata": {},
   "outputs": [],
   "source": [
    "import numpy as np, string, re, pytz\n",
    "import pandas as pd\n",
    "\n",
    "import matplotlib.pyplot as plt\n",
    "from datetime import datetime\n",
    "%matplotlib inline"
   ]
  },
  {
   "cell_type": "markdown",
   "metadata": {},
   "source": [
    "---"
   ]
  },
  {
   "cell_type": "markdown",
   "metadata": {},
   "source": [
    "# Simple Data Analysis: Completed Tasks Per Month"
   ]
  },
  {
   "cell_type": "code",
   "execution_count": 6,
   "metadata": {
    "collapsed": true
   },
   "outputs": [],
   "source": [
    "past_tasks = pd.read_csv(\"data/todost-tasks-completed.csv\")"
   ]
  },
  {
   "cell_type": "code",
   "execution_count": 7,
   "metadata": {},
   "outputs": [],
   "source": [
    "totals_by_month = past_tasks.groupby(['month']).count()"
   ]
  },
  {
   "cell_type": "code",
   "execution_count": 8,
   "metadata": {},
   "outputs": [
    {
     "data": {
      "text/plain": [
       "Index(['content', 'id', 'meta_data', 'project_id', 'task_id', 'user_id',\n",
       "       'project_name', 'year', 'date', 'day', 'hour', 'dow'],\n",
       "      dtype='object')"
      ]
     },
     "execution_count": 8,
     "metadata": {},
     "output_type": "execute_result"
    }
   ],
   "source": [
    "totals_by_month.columns"
   ]
  },
  {
   "cell_type": "code",
   "execution_count": 9,
   "metadata": {},
   "outputs": [],
   "source": [
    "totals_by_month.drop(['id', 'meta_data', 'project_id', 'task_id', 'user_id',\n",
    "       'project_name', 'year', 'content', 'day', 'hour', 'dow'], axis=1, inplace=True)\n",
    "totals_by_month.columns = ['Count']"
   ]
  },
  {
   "cell_type": "code",
   "execution_count": 10,
   "metadata": {},
   "outputs": [
    {
     "data": {
      "text/html": [
       "<div>\n",
       "<style scoped>\n",
       "    .dataframe tbody tr th:only-of-type {\n",
       "        vertical-align: middle;\n",
       "    }\n",
       "\n",
       "    .dataframe tbody tr th {\n",
       "        vertical-align: top;\n",
       "    }\n",
       "\n",
       "    .dataframe thead th {\n",
       "        text-align: right;\n",
       "    }\n",
       "</style>\n",
       "<table border=\"1\" class=\"dataframe\">\n",
       "  <thead>\n",
       "    <tr style=\"text-align: right;\">\n",
       "      <th></th>\n",
       "      <th>Count</th>\n",
       "    </tr>\n",
       "  </thead>\n",
       "  <tbody>\n",
       "    <tr>\n",
       "      <th>count</th>\n",
       "      <td>27.000000</td>\n",
       "    </tr>\n",
       "    <tr>\n",
       "      <th>mean</th>\n",
       "      <td>174.074074</td>\n",
       "    </tr>\n",
       "    <tr>\n",
       "      <th>std</th>\n",
       "      <td>43.982449</td>\n",
       "    </tr>\n",
       "    <tr>\n",
       "      <th>min</th>\n",
       "      <td>33.000000</td>\n",
       "    </tr>\n",
       "    <tr>\n",
       "      <th>25%</th>\n",
       "      <td>153.500000</td>\n",
       "    </tr>\n",
       "    <tr>\n",
       "      <th>50%</th>\n",
       "      <td>163.000000</td>\n",
       "    </tr>\n",
       "    <tr>\n",
       "      <th>75%</th>\n",
       "      <td>208.000000</td>\n",
       "    </tr>\n",
       "    <tr>\n",
       "      <th>max</th>\n",
       "      <td>248.000000</td>\n",
       "    </tr>\n",
       "  </tbody>\n",
       "</table>\n",
       "</div>"
      ],
      "text/plain": [
       "            Count\n",
       "count   27.000000\n",
       "mean   174.074074\n",
       "std     43.982449\n",
       "min     33.000000\n",
       "25%    153.500000\n",
       "50%    163.000000\n",
       "75%    208.000000\n",
       "max    248.000000"
      ]
     },
     "execution_count": 10,
     "metadata": {},
     "output_type": "execute_result"
    }
   ],
   "source": [
    "totals_by_month.describe()"
   ]
  },
  {
   "cell_type": "code",
   "execution_count": 11,
   "metadata": {},
   "outputs": [
    {
     "data": {
      "text/plain": [
       "Index(['2016-10', '2016-11', '2016-12', '2017-01', '2017-02', '2017-03',\n",
       "       '2017-04', '2017-05', '2017-06', '2017-07', '2017-08', '2017-09',\n",
       "       '2017-10', '2017-11', '2017-12', '2018-01', '2018-02', '2018-03',\n",
       "       '2018-04', '2018-05', '2018-06', '2018-07', '2018-08', '2018-09',\n",
       "       '2018-10', '2018-11', '2018-12'],\n",
       "      dtype='object', name='month')"
      ]
     },
     "execution_count": 11,
     "metadata": {},
     "output_type": "execute_result"
    }
   ],
   "source": [
    "totals_by_month.index"
   ]
  },
  {
   "cell_type": "code",
   "execution_count": 13,
   "metadata": {},
   "outputs": [
    {
     "data": {
      "image/png": "[encoded data removed]",
      "text/plain": [
       "<matplotlib.figure.Figure at 0x11d3c9a90>"
      ]
     },
     "metadata": {},
     "output_type": "display_data"
    }
   ],
   "source": [
    "dataset = totals_by_month\n",
    "\n",
    "n_groups = len(dataset)\n",
    "opacity = 0.5\n",
    "fig, ax = plt.subplots(figsize=[10, 6])\n",
    "ax.yaxis.grid(True)\n",
    "index = np.arange(n_groups)\n",
    "bar_width = 0.4\n",
    "\n",
    "data = plt.bar(index, dataset.Count, bar_width,\n",
    "                 alpha=opacity,\n",
    "                 color='c',\n",
    "                 label='Tasks Completed')\n",
    "\n",
    "data[-1].set_color('r')\n",
    "\n",
    "plt.ylabel('# Tasks')\n",
    "plt.title('Completed Tasks')\n",
    "plt.xticks(index, dataset.index, rotation=90)\n",
    "plt.legend()\n",
    "\n",
    "plt.tight_layout()\n",
    "plt.show()"
   ]
  },
  {
   "cell_type": "markdown",
   "metadata": {},
   "source": [
    "------"
   ]
  },
  {
   "cell_type": "markdown",
   "metadata": {},
   "source": [
    "# Simple Data Analysis: Completed Tasks by Day of Week"
   ]
  },
  {
   "cell_type": "code",
   "execution_count": 27,
   "metadata": {},
   "outputs": [],
   "source": [
    "past_tasks = pd.read_csv(\"data/todost-tasks-completed.csv\")\n",
    "past_tasks['dow'] = past_tasks['dow'].astype('category')"
   ]
  },
  {
   "cell_type": "code",
   "execution_count": 28,
   "metadata": {},
   "outputs": [
    {
     "data": {
      "text/plain": [
       "Index(['content', 'id', 'meta_data', 'project_id', 'task_id', 'user_id',\n",
       "       'project_name', 'year', 'month', 'date', 'day', 'hour', 'dow'],\n",
       "      dtype='object')"
      ]
     },
     "execution_count": 28,
     "metadata": {},
     "output_type": "execute_result"
    }
   ],
   "source": [
    "past_tasks.columns"
   ]
  },
  {
   "cell_type": "code",
   "execution_count": 18,
   "metadata": {
    "collapsed": true
   },
   "outputs": [
    {
     "data": {
      "text/html": [
       "<div>\n",
       "<style scoped>\n",
       "    .dataframe tbody tr th:only-of-type {\n",
       "        vertical-align: middle;\n",
       "    }\n",
       "\n",
       "    .dataframe tbody tr th {\n",
       "        vertical-align: top;\n",
       "    }\n",
       "\n",
       "    .dataframe thead th {\n",
       "        text-align: right;\n",
       "    }\n",
       "</style>\n",
       "<table border=\"1\" class=\"dataframe\">\n",
       "  <thead>\n",
       "    <tr style=\"text-align: right;\">\n",
       "      <th></th>\n",
       "      <th>id</th>\n",
       "      <th>meta_data</th>\n",
       "      <th>project_id</th>\n",
       "      <th>task_id</th>\n",
       "      <th>user_id</th>\n",
       "      <th>year</th>\n",
       "      <th>day</th>\n",
       "      <th>hour</th>\n",
       "    </tr>\n",
       "    <tr>\n",
       "      <th>dow</th>\n",
       "      <th></th>\n",
       "      <th></th>\n",
       "      <th></th>\n",
       "      <th></th>\n",
       "      <th></th>\n",
       "      <th></th>\n",
       "      <th></th>\n",
       "      <th></th>\n",
       "    </tr>\n",
       "  </thead>\n",
       "  <tbody>\n",
       "    <tr>\n",
       "      <th>0</th>\n",
       "      <td>1.678238e+09</td>\n",
       "      <td>NaN</td>\n",
       "      <td>5.757333e+08</td>\n",
       "      <td>1.678238e+09</td>\n",
       "      <td>4288657.0</td>\n",
       "      <td>2017.248366</td>\n",
       "      <td>16.397603</td>\n",
       "      <td>15.552288</td>\n",
       "    </tr>\n",
       "    <tr>\n",
       "      <th>1</th>\n",
       "      <td>1.719801e+09</td>\n",
       "      <td>NaN</td>\n",
       "      <td>6.614258e+08</td>\n",
       "      <td>1.719801e+09</td>\n",
       "      <td>4288657.0</td>\n",
       "      <td>2017.233333</td>\n",
       "      <td>16.069231</td>\n",
       "      <td>15.385897</td>\n",
       "    </tr>\n",
       "    <tr>\n",
       "      <th>2</th>\n",
       "      <td>1.794777e+09</td>\n",
       "      <td>NaN</td>\n",
       "      <td>6.792919e+08</td>\n",
       "      <td>1.794777e+09</td>\n",
       "      <td>4288657.0</td>\n",
       "      <td>2017.266169</td>\n",
       "      <td>15.750000</td>\n",
       "      <td>15.873134</td>\n",
       "    </tr>\n",
       "    <tr>\n",
       "      <th>3</th>\n",
       "      <td>1.822767e+09</td>\n",
       "      <td>NaN</td>\n",
       "      <td>6.963709e+08</td>\n",
       "      <td>1.822767e+09</td>\n",
       "      <td>4288657.0</td>\n",
       "      <td>2017.304290</td>\n",
       "      <td>15.278820</td>\n",
       "      <td>15.723861</td>\n",
       "    </tr>\n",
       "    <tr>\n",
       "      <th>4</th>\n",
       "      <td>1.904480e+09</td>\n",
       "      <td>NaN</td>\n",
       "      <td>7.409456e+08</td>\n",
       "      <td>1.904480e+09</td>\n",
       "      <td>4288657.0</td>\n",
       "      <td>2017.292373</td>\n",
       "      <td>15.662429</td>\n",
       "      <td>15.703390</td>\n",
       "    </tr>\n",
       "    <tr>\n",
       "      <th>5</th>\n",
       "      <td>1.827033e+09</td>\n",
       "      <td>NaN</td>\n",
       "      <td>4.782744e+08</td>\n",
       "      <td>1.827033e+09</td>\n",
       "      <td>4288657.0</td>\n",
       "      <td>2017.331878</td>\n",
       "      <td>16.827511</td>\n",
       "      <td>15.903930</td>\n",
       "    </tr>\n",
       "    <tr>\n",
       "      <th>6</th>\n",
       "      <td>1.829335e+09</td>\n",
       "      <td>NaN</td>\n",
       "      <td>5.181488e+08</td>\n",
       "      <td>1.829335e+09</td>\n",
       "      <td>4288657.0</td>\n",
       "      <td>2017.320557</td>\n",
       "      <td>14.273519</td>\n",
       "      <td>16.235192</td>\n",
       "    </tr>\n",
       "  </tbody>\n",
       "</table>\n",
       "</div>"
      ],
      "text/plain": [
       "               id  meta_data    project_id       task_id    user_id  \\\n",
       "dow                                                                   \n",
       "0    1.678238e+09        NaN  5.757333e+08  1.678238e+09  4288657.0   \n",
       "1    1.719801e+09        NaN  6.614258e+08  1.719801e+09  4288657.0   \n",
       "2    1.794777e+09        NaN  6.792919e+08  1.794777e+09  4288657.0   \n",
       "3    1.822767e+09        NaN  6.963709e+08  1.822767e+09  4288657.0   \n",
       "4    1.904480e+09        NaN  7.409456e+08  1.904480e+09  4288657.0   \n",
       "5    1.827033e+09        NaN  4.782744e+08  1.827033e+09  4288657.0   \n",
       "6    1.829335e+09        NaN  5.181488e+08  1.829335e+09  4288657.0   \n",
       "\n",
       "            year        day       hour  \n",
       "dow                                     \n",
       "0    2017.248366  16.397603  15.552288  \n",
       "1    2017.233333  16.069231  15.385897  \n",
       "2    2017.266169  15.750000  15.873134  \n",
       "3    2017.304290  15.278820  15.723861  \n",
       "4    2017.292373  15.662429  15.703390  \n",
       "5    2017.331878  16.827511  15.903930  \n",
       "6    2017.320557  14.273519  16.235192  "
      ]
     },
     "execution_count": 18,
     "metadata": {},
     "output_type": "execute_result"
    }
   ],
   "source": [
    "past_tasks.groupby(['dow']).mean()"
   ]
  },
  {
   "cell_type": "code",
   "execution_count": 23,
   "metadata": {},
   "outputs": [],
   "source": [
    "totals_dow = past_tasks.groupby(['dow']).count()"
   ]
  },
  {
   "cell_type": "code",
   "execution_count": 24,
   "metadata": {},
   "outputs": [
    {
     "data": {
      "text/plain": [
       "Index(['content', 'id', 'meta_data', 'project_id', 'task_id', 'user_id',\n",
       "       'project_name', 'year', 'month', 'date', 'day', 'hour'],\n",
       "      dtype='object')"
      ]
     },
     "execution_count": 24,
     "metadata": {},
     "output_type": "execute_result"
    }
   ],
   "source": [
    "totals_dow.columns"
   ]
  },
  {
   "cell_type": "code",
   "execution_count": 25,
   "metadata": {},
   "outputs": [],
   "source": [
    "totals_dow.drop(['id', 'meta_data', 'project_id', 'task_id', 'user_id',\n",
    "       'project_name', 'year', 'month', 'date', 'day', 'hour'], axis=1, inplace=True)\n",
    "totals_dow.columns = ['Count']"
   ]
  },
  {
   "cell_type": "code",
   "execution_count": 26,
   "metadata": {},
   "outputs": [
    {
     "data": {
      "image/png": "[encoded data removed]",
      "text/plain": [
       "<matplotlib.figure.Figure at 0x11eb8b438>"
      ]
     },
     "metadata": {},
     "output_type": "display_data"
    }
   ],
   "source": [
    "dataset = totals_dow\n",
    "\n",
    "n_groups = len(dataset)\n",
    "opacity = 0.5\n",
    "fig, ax = plt.subplots(figsize=[10, 6])\n",
    "ax.yaxis.grid(True)\n",
    "index = np.arange(n_groups)\n",
    "bar_width = 0.4\n",
    "\n",
    "data = plt.bar(index, dataset.Count, bar_width,\n",
    "                 alpha=opacity,\n",
    "                 color='g',\n",
    "                 label='Tasks'\n",
    "              )\n",
    "\n",
    "dow_labels = ['Monday', 'Tuesday', 'Wednesday', 'Thursday', 'Friday', 'Saturday', 'Sunday']\n",
    "\n",
    "plt.ylabel('# Tasks')\n",
    "plt.title('Completed Tasks')\n",
    "plt.xticks(index, dow_labels, rotation=45)\n",
    "# ax.set_xticklabels(month_by_productivity.Productivity, rotation=70)\n",
    "plt.legend()\n",
    "\n",
    "plt.tight_layout()\n",
    "plt.show()"
   ]
  },
  {
   "cell_type": "markdown",
   "metadata": {},
   "source": [
    "-----"
   ]
  },
  {
   "cell_type": "markdown",
   "metadata": {},
   "source": [
    "# Simple Data Analysis: Completed Tasks by Hour of the Day"
   ]
  },
  {
   "cell_type": "code",
   "execution_count": 29,
   "metadata": {
    "collapsed": true
   },
   "outputs": [],
   "source": [
    "hour_counts = past_tasks['hour'].value_counts().sort_index()"
   ]
  },
  {
   "cell_type": "code",
   "execution_count": 32,
   "metadata": {},
   "outputs": [
    {
     "data": {
      "text/plain": [
       "405"
      ]
     },
     "execution_count": 32,
     "metadata": {},
     "output_type": "execute_result"
    }
   ],
   "source": []
  },
  {
   "cell_type": "code",
   "execution_count": 34,
   "metadata": {},
   "outputs": [
    {
     "data": {
      "image/png": "[encoded data removed]",
      "text/plain": [
       "<matplotlib.figure.Figure at 0x11ddefe48>"
      ]
     },
     "metadata": {},
     "output_type": "display_data"
    }
   ],
   "source": [
    "ax = hour_counts.plot(kind='line', figsize=[10, 5], linewidth=4, alpha=1, marker='o', color='#6684c1', \n",
    "                      markeredgecolor='#6684c1', markerfacecolor='w', markersize=8, markeredgewidth=2)\n",
    "\n",
    "xlabels = hour_counts.index.map(lambda x: '{:02}:00'.format(x))\n",
    "ax.set_xticks(range(len(xlabels)))\n",
    "ax.set_xticklabels(xlabels, rotation=45, rotation_mode='anchor', ha='right')\n",
    "\n",
    "ax.set_xlim((hour_counts.index[0], hour_counts.index[-1]))\n",
    "\n",
    "ax.yaxis.grid(True)\n",
    "hour_max = hour_counts.max()\n",
    "ax.set_ylim((0, hour_max+20))\n",
    "ax.set_ylabel('Number of Tasks')\n",
    "ax.set_xlabel('', )\n",
    "ax.set_title('Number of Tasks Completed per hour of the day', )\n",
    "\n",
    "plt.show()"
   ]
  },
  {
   "cell_type": "markdown",
   "metadata": {},
   "source": [
    "----"
   ]
  },
  {
   "cell_type": "markdown",
   "metadata": {},
   "source": [
    "## Daily Count"
   ]
  },
  {
   "cell_type": "code",
   "execution_count": 35,
   "metadata": {},
   "outputs": [],
   "source": [
    "daily_counts = past_tasks['date'].value_counts().sort_index()"
   ]
  },
  {
   "cell_type": "code",
   "execution_count": 36,
   "metadata": {},
   "outputs": [
    {
     "data": {
      "text/plain": [
       "2018-12-02    5\n",
       "2018-12-03    5\n",
       "2018-12-04    6\n",
       "2018-12-05    6\n",
       "2018-12-06    6\n",
       "Name: date, dtype: int64"
      ]
     },
     "execution_count": 36,
     "metadata": {},
     "output_type": "execute_result"
    }
   ],
   "source": [
    "daily_counts.tail()"
   ]
  },
  {
   "cell_type": "code",
   "execution_count": 38,
   "metadata": {},
   "outputs": [
    {
     "data": {
      "image/png": "[encoded data removed]",
      "text/plain": [
       "<matplotlib.figure.Figure at 0x11ec49898>"
      ]
     },
     "metadata": {},
     "output_type": "display_data"
    }
   ],
   "source": [
    "dataset = daily_counts.tail(30)\n",
    "\n",
    "chart_title = 'Number of Tasks Completed per Day'\n",
    "\n",
    "n_groups = len(dataset)\n",
    "index = np.arange(n_groups)\n",
    "\n",
    "ax = dataset.plot(kind='line', figsize=[12, 5], linewidth=4, alpha=1, marker='o', color='#6684c1', \n",
    "                      markeredgecolor='#6684c1', markerfacecolor='w', markersize=8, markeredgewidth=2)\n",
    "\n",
    "ax.yaxis.grid(True)\n",
    "ax.xaxis.grid(True)\n",
    "# ax.set_ylim(0, 1000)\n",
    "ax.set_xticks(index)\n",
    "ax.set_ylabel('Tasks Completed Count')\n",
    "# ax.set_xlabel('')\n",
    "plt.xticks(index, dataset.index, rotation=90)\n",
    "ax.set_title(chart_title)\n",
    "\n",
    "plt.show()"
   ]
  },
  {
   "cell_type": "code",
   "execution_count": 39,
   "metadata": {},
   "outputs": [],
   "source": [
    "daily_counts.to_csv(\"data/todoist-daily-completed.csv\", index=True)"
   ]
  },
  {
   "cell_type": "markdown",
   "metadata": {},
   "source": [
    "-----"
   ]
  },
  {
   "cell_type": "code",
   "execution_count": null,
   "metadata": {},
   "outputs": [],
   "source": []
  }
 ],
 "metadata": {
  "kernelspec": {
   "display_name": "Python 3",
   "language": "python",
   "name": "python3"
  },
  "language_info": {
   "codemirror_mode": {
    "name": "ipython",
    "version": 3
   },
   "file_extension": ".py",
   "mimetype": "text/x-python",
   "name": "python",
   "nbconvert_exporter": "python",
   "pygments_lexer": "ipython3",
   "version": "3.6.2"
  }
 },
 "nbformat": 4,
 "nbformat_minor": 2
}
