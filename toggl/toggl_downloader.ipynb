{
 "cells": [
  {
   "cell_type": "markdown",
   "metadata": {},
   "source": [
    "# Toggl Reports Downloader"
   ]
  },
  {
   "cell_type": "markdown",
   "metadata": {},
   "source": [
    "Script to Extract from Toggl API and create CSV Export of **Latest and Complete Timelogs** as as well as separate exports of Clients, Projects, Workspace Lists. \n",
    "\n",
    "Useful for back up purposes or additional data analysis. "
   ]
  },
  {
   "cell_type": "markdown",
   "metadata": {},
   "source": [
    "----"
   ]
  },
  {
   "cell_type": "markdown",
   "metadata": {},
   "source": [
    "### Add Dependencies"
   ]
  },
  {
   "cell_type": "code",
   "execution_count": 2,
   "metadata": {
    "collapsed": true
   },
   "outputs": [],
   "source": [
    "import pandas as pd\n",
    "from datetime import datetime\n",
    "from dateutil.parser import parse\n",
    "import time"
   ]
  },
  {
   "cell_type": "code",
   "execution_count": 3,
   "metadata": {
    "collapsed": true
   },
   "outputs": [],
   "source": [
    "# Toggl Wrapper API \n",
    "# https://github.com/matthewdowney/TogglPy\n",
    "import TogglPy"
   ]
  },
  {
   "cell_type": "markdown",
   "metadata": {},
   "source": [
    "----"
   ]
  },
  {
   "cell_type": "markdown",
   "metadata": {
    "collapsed": true
   },
   "source": [
    "## Authentication"
   ]
  },
  {
   "cell_type": "code",
   "execution_count": 4,
   "metadata": {
    "collapsed": true
   },
   "outputs": [],
   "source": [
    "import json\n",
    "\n",
    "with open(\"credentials.json\", \"r\") as file:\n",
    "    credentials = json.load(file)\n",
    "    toggl_cr = credentials['toggl']\n",
    "    APIKEY = toggl_cr['APIKEY']"
   ]
  },
  {
   "cell_type": "code",
   "execution_count": 5,
   "metadata": {
    "collapsed": true
   },
   "outputs": [],
   "source": [
    "toggl = TogglPy.Toggl()\n",
    "toggl.setAPIKey(APIKEY) "
   ]
  },
  {
   "cell_type": "markdown",
   "metadata": {},
   "source": [
    "-----"
   ]
  },
  {
   "cell_type": "markdown",
   "metadata": {},
   "source": [
    "## User Data"
   ]
  },
  {
   "cell_type": "code",
   "execution_count": 6,
   "metadata": {
    "collapsed": true
   },
   "outputs": [],
   "source": [
    "user = toggl.request(\"https://www.toggl.com/api/v8/me\")"
   ]
  },
  {
   "cell_type": "code",
   "execution_count": 7,
   "metadata": {
    "collapsed": true
   },
   "outputs": [],
   "source": [
    "user_id = user['data']['id']"
   ]
  },
  {
   "cell_type": "code",
   "execution_count": 8,
   "metadata": {},
   "outputs": [
    {
     "data": {
      "text/plain": [
       "'Markwkoester'"
      ]
     },
     "execution_count": 8,
     "metadata": {},
     "output_type": "execute_result"
    }
   ],
   "source": [
    "user['data']['fullname']"
   ]
  },
  {
   "cell_type": "code",
   "execution_count": 9,
   "metadata": {},
   "outputs": [
    {
     "data": {
      "text/plain": [
       "datetime.datetime(2013, 2, 12, 13, 6, 33, tzinfo=tzutc())"
      ]
     },
     "execution_count": 9,
     "metadata": {},
     "output_type": "execute_result"
    }
   ],
   "source": [
    "join_date = parse(user['data']['created_at'])\n",
    "join_date"
   ]
  },
  {
   "cell_type": "code",
   "execution_count": 10,
   "metadata": {},
   "outputs": [
    {
     "name": "stdout",
     "output_type": "stream",
     "text": [
      "Days Since Joining: 1929\n"
     ]
    }
   ],
   "source": [
    "today = datetime.now()\n",
    "dates = list(pd.date_range(join_date, today))\n",
    "print(\"Days Since Joining: \" + str(len(dates))) # days since joining"
   ]
  },
  {
   "cell_type": "markdown",
   "metadata": {},
   "source": [
    "-------"
   ]
  },
  {
   "cell_type": "markdown",
   "metadata": {},
   "source": [
    "-----"
   ]
  },
  {
   "cell_type": "markdown",
   "metadata": {},
   "source": [
    "## Clients"
   ]
  },
  {
   "cell_type": "code",
   "execution_count": 11,
   "metadata": {
    "collapsed": true
   },
   "outputs": [],
   "source": [
    "user_clients = toggl.request(\"https://www.toggl.com/api/v8/clients\")"
   ]
  },
  {
   "cell_type": "code",
   "execution_count": 12,
   "metadata": {
    "collapsed": true
   },
   "outputs": [],
   "source": [
    "clients = pd.DataFrame()\n",
    "for i in list(range(0, len(user_clients))):\n",
    "    clients_df_temp = pd.DataFrame.from_dict(user_clients)\n",
    "    clients = pd.concat([clients_df_temp, clients])"
   ]
  },
  {
   "cell_type": "code",
   "execution_count": 13,
   "metadata": {
    "collapsed": true
   },
   "outputs": [],
   "source": [
    "clients.to_csv('data/toggl-clients.csv')"
   ]
  },
  {
   "cell_type": "markdown",
   "metadata": {},
   "source": [
    "-----"
   ]
  },
  {
   "cell_type": "markdown",
   "metadata": {},
   "source": [
    "## Workplaces"
   ]
  },
  {
   "cell_type": "markdown",
   "metadata": {},
   "source": [
    "API Ref: https://github.com/toggl/toggl_api_docs/blob/master/chapters/workspaces.md#get-workspaces"
   ]
  },
  {
   "cell_type": "code",
   "execution_count": 14,
   "metadata": {
    "collapsed": true
   },
   "outputs": [],
   "source": [
    "workspaces_list = toggl.request(\"https://www.toggl.com/api/v8/workspaces\")"
   ]
  },
  {
   "cell_type": "code",
   "execution_count": 15,
   "metadata": {},
   "outputs": [
    {
     "data": {
      "text/plain": [
       "3"
      ]
     },
     "execution_count": 15,
     "metadata": {},
     "output_type": "execute_result"
    }
   ],
   "source": [
    "len(workspaces_list)"
   ]
  },
  {
   "cell_type": "code",
   "execution_count": 16,
   "metadata": {
    "collapsed": true
   },
   "outputs": [],
   "source": [
    "workspaces = pd.DataFrame.from_dict(workspaces_list)"
   ]
  },
  {
   "cell_type": "code",
   "execution_count": 17,
   "metadata": {
    "collapsed": true
   },
   "outputs": [],
   "source": [
    "workspaces.to_csv('data/toggl-workspaces.csv')"
   ]
  },
  {
   "cell_type": "markdown",
   "metadata": {},
   "source": [
    "----"
   ]
  },
  {
   "cell_type": "markdown",
   "metadata": {},
   "source": [
    "## Workplace Projects"
   ]
  },
  {
   "cell_type": "markdown",
   "metadata": {},
   "source": [
    "* API Ref: https://github.com/toggl/toggl_api_docs/blob/master/chapters/workspaces.md#get-workspace-projects\n",
    "* Endpoint: https://www.toggl.com/api/v8/workspaces/{workspace_id}/projects"
   ]
  },
  {
   "cell_type": "code",
   "execution_count": 18,
   "metadata": {
    "collapsed": true
   },
   "outputs": [],
   "source": [
    "projects = pd.DataFrame()\n",
    "for i in list(range(0, len(workspaces_list))):\n",
    "    projects_list = toggl.request(\"https://www.toggl.com/api/v8/workspaces/\" + str(workspaces_list[i]['id']) + \"/projects\")\n",
    "    projects_df_temp = pd.DataFrame.from_dict(projects_list)\n",
    "    projects = pd.concat([projects_df_temp, projects])"
   ]
  },
  {
   "cell_type": "code",
   "execution_count": 19,
   "metadata": {},
   "outputs": [
    {
     "data": {
      "text/plain": [
       "48"
      ]
     },
     "execution_count": 19,
     "metadata": {},
     "output_type": "execute_result"
    }
   ],
   "source": [
    "len(projects)"
   ]
  },
  {
   "cell_type": "code",
   "execution_count": 20,
   "metadata": {},
   "outputs": [
    {
     "data": {
      "text/html": [
       "<div>\n",
       "<style>\n",
       "    .dataframe thead tr:only-child th {\n",
       "        text-align: right;\n",
       "    }\n",
       "\n",
       "    .dataframe thead th {\n",
       "        text-align: left;\n",
       "    }\n",
       "\n",
       "    .dataframe tbody tr th {\n",
       "        vertical-align: top;\n",
       "    }\n",
       "</style>\n",
       "<table border=\"1\" class=\"dataframe\">\n",
       "  <thead>\n",
       "    <tr style=\"text-align: right;\">\n",
       "      <th></th>\n",
       "      <th>active</th>\n",
       "      <th>actual_hours</th>\n",
       "      <th>at</th>\n",
       "      <th>auto_estimates</th>\n",
       "      <th>billable</th>\n",
       "      <th>color</th>\n",
       "      <th>created_at</th>\n",
       "      <th>guid</th>\n",
       "      <th>hex_color</th>\n",
       "      <th>id</th>\n",
       "      <th>is_private</th>\n",
       "      <th>name</th>\n",
       "      <th>template</th>\n",
       "      <th>wid</th>\n",
       "    </tr>\n",
       "  </thead>\n",
       "  <tbody>\n",
       "    <tr>\n",
       "      <th>0</th>\n",
       "      <td>True</td>\n",
       "      <td>41.0</td>\n",
       "      <td>2018-02-16T10:10:03+00:00</td>\n",
       "      <td>False</td>\n",
       "      <td>False</td>\n",
       "      <td>10</td>\n",
       "      <td>2018-02-16T10:10:03+00:00</td>\n",
       "      <td>NaN</td>\n",
       "      <td>#f1c33f</td>\n",
       "      <td>100370156</td>\n",
       "      <td>True</td>\n",
       "      <td>BioMarker Tracker</td>\n",
       "      <td>False</td>\n",
       "      <td>1234339</td>\n",
       "    </tr>\n",
       "    <tr>\n",
       "      <th>1</th>\n",
       "      <td>True</td>\n",
       "      <td>38.0</td>\n",
       "      <td>2018-02-16T10:10:17+00:00</td>\n",
       "      <td>False</td>\n",
       "      <td>False</td>\n",
       "      <td>5</td>\n",
       "      <td>2018-02-16T10:10:10+00:00</td>\n",
       "      <td>NaN</td>\n",
       "      <td>#4bc800</td>\n",
       "      <td>100370160</td>\n",
       "      <td>True</td>\n",
       "      <td>PhotoStats App</td>\n",
       "      <td>False</td>\n",
       "      <td>1234339</td>\n",
       "    </tr>\n",
       "    <tr>\n",
       "      <th>2</th>\n",
       "      <td>True</td>\n",
       "      <td>7.0</td>\n",
       "      <td>2018-02-16T10:10:30+00:00</td>\n",
       "      <td>False</td>\n",
       "      <td>False</td>\n",
       "      <td>8</td>\n",
       "      <td>2018-02-16T10:10:30+00:00</td>\n",
       "      <td>NaN</td>\n",
       "      <td>#3750b5</td>\n",
       "      <td>100370166</td>\n",
       "      <td>True</td>\n",
       "      <td>Podcast Tracker</td>\n",
       "      <td>False</td>\n",
       "      <td>1234339</td>\n",
       "    </tr>\n",
       "  </tbody>\n",
       "</table>\n",
       "</div>"
      ],
      "text/plain": [
       "   active  actual_hours                         at  auto_estimates  billable  \\\n",
       "0    True          41.0  2018-02-16T10:10:03+00:00           False     False   \n",
       "1    True          38.0  2018-02-16T10:10:17+00:00           False     False   \n",
       "2    True           7.0  2018-02-16T10:10:30+00:00           False     False   \n",
       "\n",
       "  color                 created_at guid hex_color         id  is_private  \\\n",
       "0    10  2018-02-16T10:10:03+00:00  NaN   #f1c33f  100370156        True   \n",
       "1     5  2018-02-16T10:10:10+00:00  NaN   #4bc800  100370160        True   \n",
       "2     8  2018-02-16T10:10:30+00:00  NaN   #3750b5  100370166        True   \n",
       "\n",
       "                name  template      wid  \n",
       "0  BioMarker Tracker     False  1234339  \n",
       "1     PhotoStats App     False  1234339  \n",
       "2    Podcast Tracker     False  1234339  "
      ]
     },
     "execution_count": 20,
     "metadata": {},
     "output_type": "execute_result"
    }
   ],
   "source": [
    "projects.head(3)"
   ]
  },
  {
   "cell_type": "code",
   "execution_count": 21,
   "metadata": {},
   "outputs": [
    {
     "data": {
      "text/plain": [
       "6362.0"
      ]
     },
     "execution_count": 21,
     "metadata": {},
     "output_type": "execute_result"
    }
   ],
   "source": [
    "# total time of active projects\n",
    "projects.actual_hours.sum()"
   ]
  },
  {
   "cell_type": "code",
   "execution_count": 22,
   "metadata": {
    "collapsed": true
   },
   "outputs": [],
   "source": [
    "projects.to_csv('data/toggl-current-projects.csv')"
   ]
  },
  {
   "cell_type": "markdown",
   "metadata": {},
   "source": [
    "----"
   ]
  },
  {
   "cell_type": "markdown",
   "metadata": {},
   "source": [
    "# Collect Yearly Export of Detailed Timelogs"
   ]
  },
  {
   "cell_type": "code",
   "execution_count": 23,
   "metadata": {
    "collapsed": true
   },
   "outputs": [],
   "source": [
    "def get_detailed_reports(wid, since, until):  # max 365 days\n",
    "    uid = user_id\n",
    "    param = {\n",
    "        'workspace_id': wid,\n",
    "        'since': since,\n",
    "        'until': until,\n",
    "        'uid': uid\n",
    "    }\n",
    "    #print(str(workspace_id) + \" \" + since)\n",
    "    toggl.getDetailedReportCSV(param, \"data/detailed/toggl-detailed-report-\" + wid + \"-\" + since + \"-\" + until + \".csv\")"
   ]
  },
  {
   "cell_type": "code",
   "execution_count": 24,
   "metadata": {},
   "outputs": [
    {
     "data": {
      "text/plain": [
       "[2013, 2014, 2015, 2016, 2017, 2018]"
      ]
     },
     "execution_count": 24,
     "metadata": {},
     "output_type": "execute_result"
    }
   ],
   "source": [
    "# years since joinging\n",
    "last_year = today.year + 1\n",
    "years = list(range(join_date.year, last_year))\n",
    "years"
   ]
  },
  {
   "cell_type": "code",
   "execution_count": 25,
   "metadata": {
    "collapsed": true
   },
   "outputs": [],
   "source": [
    "# list of workspace ids\n",
    "workspace_ids = []\n",
    "for i in workspaces_list:\n",
    "    workspace_ids.append(i['id'])\n",
    "# workspace_ids"
   ]
  },
  {
   "cell_type": "code",
   "execution_count": 26,
   "metadata": {},
   "outputs": [
    {
     "data": {
      "text/plain": [
       "[341257, 373504, 1234339]"
      ]
     },
     "execution_count": 26,
     "metadata": {},
     "output_type": "execute_result"
    }
   ],
   "source": [
    "workspace_ids"
   ]
  },
  {
   "cell_type": "code",
   "execution_count": 27,
   "metadata": {
    "collapsed": true
   },
   "outputs": [],
   "source": [
    "# Generate Detail CSV Tester\n",
    "workspace_id = \"373504\"\n",
    "since = \"2017-01-01\"\n",
    "until = \"2017-12-31\"\n",
    "\n",
    "get_detailed_reports(workspace_id, since, until)"
   ]
  },
  {
   "cell_type": "code",
   "execution_count": 28,
   "metadata": {},
   "outputs": [
    {
     "name": "stdout",
     "output_type": "stream",
     "text": [
      "Generating CSV... for Workspace: 341257 from 2013-01-01 until 2013-12-31\n",
      "Generating CSV... for Workspace: 341257 from 2014-01-01 until 2014-12-31\n",
      "Generating CSV... for Workspace: 341257 from 2015-01-01 until 2015-12-31\n",
      "Generating CSV... for Workspace: 341257 from 2016-01-01 until 2016-12-31\n",
      "Generating CSV... for Workspace: 341257 from 2017-01-01 until 2017-12-31\n",
      "Generating CSV... for Workspace: 341257 from 2018-01-01 until 2018-12-31\n",
      "Generating CSV... for Workspace: 373504 from 2013-01-01 until 2013-12-31\n",
      "Generating CSV... for Workspace: 373504 from 2014-01-01 until 2014-12-31\n",
      "Generating CSV... for Workspace: 373504 from 2015-01-01 until 2015-12-31\n",
      "Generating CSV... for Workspace: 373504 from 2016-01-01 until 2016-12-31\n",
      "Generating CSV... for Workspace: 373504 from 2017-01-01 until 2017-12-31\n",
      "Generating CSV... for Workspace: 373504 from 2018-01-01 until 2018-12-31\n",
      "Generating CSV... for Workspace: 1234339 from 2013-01-01 until 2013-12-31\n",
      "Generating CSV... for Workspace: 1234339 from 2014-01-01 until 2014-12-31\n",
      "Generating CSV... for Workspace: 1234339 from 2015-01-01 until 2015-12-31\n",
      "Generating CSV... for Workspace: 1234339 from 2016-01-01 until 2016-12-31\n",
      "Generating CSV... for Workspace: 1234339 from 2017-01-01 until 2017-12-31\n",
      "Generating CSV... for Workspace: 1234339 from 2018-01-01 until 2018-12-31\n"
     ]
    }
   ],
   "source": [
    "# generate a yearly report for each workspace\n",
    "for i in workspace_ids:\n",
    "    wid = str(i)\n",
    "    for y in years:\n",
    "        try: \n",
    "            since = str(y) + \"-01-01\" # \"2013-01-01\"\n",
    "            until = str(y) + \"-12-31\" # \"2013-12-31\"\n",
    "            print(\"Generating CSV... \" + \"for Workspace: \" + str(wid) + \" from \" + since + \" until \" + until)\n",
    "            get_detailed_reports(wid, since, until)            \n",
    "        except:\n",
    "            print(\"ERROR On:  \" + str(uid) + \" \" + str(wid) + \" from \" + since + \" until \" + until)"
   ]
  },
  {
   "cell_type": "markdown",
   "metadata": {},
   "source": [
    "-----"
   ]
  },
  {
   "cell_type": "markdown",
   "metadata": {},
   "source": [
    "## Log of Latest Time Entries for that User "
   ]
  },
  {
   "cell_type": "markdown",
   "metadata": {},
   "source": [
    "* API Ref: https://github.com/toggl/toggl_api_docs/blob/master/chapters/time_entries.md#get-time-entries-started-in-a-specific-time-range\n",
    "* Endpoint: https://www.toggl.com/api/v8/time_entries \n",
    "* Note: start_date and end_date must be ISO 8601 date and time strings."
   ]
  },
  {
   "cell_type": "code",
   "execution_count": 29,
   "metadata": {
    "collapsed": true
   },
   "outputs": [],
   "source": [
    "# latest_time_entries from last 9 days\n",
    "latest_time_entries = toggl.request(\"https://www.toggl.com/api/v8/time_entries\")"
   ]
  },
  {
   "cell_type": "code",
   "execution_count": 30,
   "metadata": {},
   "outputs": [
    {
     "data": {
      "text/plain": [
       "100"
      ]
     },
     "execution_count": 30,
     "metadata": {},
     "output_type": "execute_result"
    }
   ],
   "source": [
    "len(latest_time_entries)"
   ]
  },
  {
   "cell_type": "code",
   "execution_count": 31,
   "metadata": {},
   "outputs": [
    {
     "data": {
      "text/plain": [
       "{'at': '2018-05-17T03:05:34+00:00',\n",
       " 'billable': False,\n",
       " 'description': 'Four Essential Things Everyone Should Track',\n",
       " 'duration': 2928,\n",
       " 'duronly': False,\n",
       " 'guid': '65fca5b468e846d81b7a133fffaddc51',\n",
       " 'id': 875655060,\n",
       " 'pid': 2759162,\n",
       " 'start': '2018-05-17T02:16:20+00:00',\n",
       " 'stop': '2018-05-17T03:05:08+00:00',\n",
       " 'uid': 440666,\n",
       " 'wid': 341257}"
      ]
     },
     "execution_count": 31,
     "metadata": {},
     "output_type": "execute_result"
    }
   ],
   "source": [
    "latest_time_entries[1]"
   ]
  },
  {
   "cell_type": "code",
   "execution_count": 32,
   "metadata": {
    "collapsed": true
   },
   "outputs": [],
   "source": [
    "latest_timelog = pd.DataFrame.from_dict(latest_time_entries)"
   ]
  },
  {
   "cell_type": "code",
   "execution_count": 33,
   "metadata": {
    "scrolled": true
   },
   "outputs": [
    {
     "data": {
      "text/html": [
       "<div>\n",
       "<style>\n",
       "    .dataframe thead tr:only-child th {\n",
       "        text-align: right;\n",
       "    }\n",
       "\n",
       "    .dataframe thead th {\n",
       "        text-align: left;\n",
       "    }\n",
       "\n",
       "    .dataframe tbody tr th {\n",
       "        vertical-align: top;\n",
       "    }\n",
       "</style>\n",
       "<table border=\"1\" class=\"dataframe\">\n",
       "  <thead>\n",
       "    <tr style=\"text-align: right;\">\n",
       "      <th></th>\n",
       "      <th>at</th>\n",
       "      <th>billable</th>\n",
       "      <th>description</th>\n",
       "      <th>duration</th>\n",
       "      <th>duronly</th>\n",
       "      <th>guid</th>\n",
       "      <th>id</th>\n",
       "      <th>pid</th>\n",
       "      <th>start</th>\n",
       "      <th>stop</th>\n",
       "      <th>tags</th>\n",
       "      <th>uid</th>\n",
       "      <th>wid</th>\n",
       "    </tr>\n",
       "  </thead>\n",
       "  <tbody>\n",
       "    <tr>\n",
       "      <th>95</th>\n",
       "      <td>2018-05-24T13:42:04+00:00</td>\n",
       "      <td>False</td>\n",
       "      <td>Processing Unprocessed</td>\n",
       "      <td>134</td>\n",
       "      <td>False</td>\n",
       "      <td>af0b996ea87f62a51b274a8c12798528</td>\n",
       "      <td>881994005</td>\n",
       "      <td>2858673</td>\n",
       "      <td>2018-05-24T13:39:49+00:00</td>\n",
       "      <td>2018-05-24T13:42:03+00:00</td>\n",
       "      <td>NaN</td>\n",
       "      <td>440666</td>\n",
       "      <td>341257</td>\n",
       "    </tr>\n",
       "    <tr>\n",
       "      <th>96</th>\n",
       "      <td>2018-05-24T13:54:43+00:00</td>\n",
       "      <td>False</td>\n",
       "      <td>Processing Email</td>\n",
       "      <td>751</td>\n",
       "      <td>False</td>\n",
       "      <td>e5153da7964d8182d74a9422e247c545</td>\n",
       "      <td>881997093</td>\n",
       "      <td>2858673</td>\n",
       "      <td>2018-05-24T13:42:11+00:00</td>\n",
       "      <td>2018-05-24T13:54:42+00:00</td>\n",
       "      <td>NaN</td>\n",
       "      <td>440666</td>\n",
       "      <td>341257</td>\n",
       "    </tr>\n",
       "    <tr>\n",
       "      <th>97</th>\n",
       "      <td>2018-05-25T01:47:06+00:00</td>\n",
       "      <td>False</td>\n",
       "      <td>Morning Pages - On Writing</td>\n",
       "      <td>594</td>\n",
       "      <td>False</td>\n",
       "      <td>4671ccc5e86a035c4e15aeece10d0d23</td>\n",
       "      <td>882563279</td>\n",
       "      <td>2759162</td>\n",
       "      <td>2018-05-25T01:37:11+00:00</td>\n",
       "      <td>2018-05-25T01:47:05+00:00</td>\n",
       "      <td>NaN</td>\n",
       "      <td>440666</td>\n",
       "      <td>341257</td>\n",
       "    </tr>\n",
       "    <tr>\n",
       "      <th>98</th>\n",
       "      <td>2018-05-25T03:07:52+00:00</td>\n",
       "      <td>False</td>\n",
       "      <td>Toggl Data Analysis</td>\n",
       "      <td>4596</td>\n",
       "      <td>False</td>\n",
       "      <td>09b8abdb800641a924627bec1d3015bf</td>\n",
       "      <td>882567659</td>\n",
       "      <td>25620514</td>\n",
       "      <td>2018-05-25T01:50:28+00:00</td>\n",
       "      <td>2018-05-25T03:07:04+00:00</td>\n",
       "      <td>[Coding Studies]</td>\n",
       "      <td>440666</td>\n",
       "      <td>341257</td>\n",
       "    </tr>\n",
       "    <tr>\n",
       "      <th>99</th>\n",
       "      <td>2018-05-25T04:04:55+00:00</td>\n",
       "      <td>False</td>\n",
       "      <td>Toggl Data Analysis</td>\n",
       "      <td>-1527221094</td>\n",
       "      <td>False</td>\n",
       "      <td>907b76a1cc60561a3809d6e3d7a2346e</td>\n",
       "      <td>882607005</td>\n",
       "      <td>25620514</td>\n",
       "      <td>2018-05-25T04:04:54+00:00</td>\n",
       "      <td>NaN</td>\n",
       "      <td>[Coding Studies]</td>\n",
       "      <td>440666</td>\n",
       "      <td>341257</td>\n",
       "    </tr>\n",
       "  </tbody>\n",
       "</table>\n",
       "</div>"
      ],
      "text/plain": [
       "                           at  billable                 description  \\\n",
       "95  2018-05-24T13:42:04+00:00     False      Processing Unprocessed   \n",
       "96  2018-05-24T13:54:43+00:00     False            Processing Email   \n",
       "97  2018-05-25T01:47:06+00:00     False  Morning Pages - On Writing   \n",
       "98  2018-05-25T03:07:52+00:00     False         Toggl Data Analysis   \n",
       "99  2018-05-25T04:04:55+00:00     False         Toggl Data Analysis   \n",
       "\n",
       "      duration  duronly                              guid         id  \\\n",
       "95         134    False  af0b996ea87f62a51b274a8c12798528  881994005   \n",
       "96         751    False  e5153da7964d8182d74a9422e247c545  881997093   \n",
       "97         594    False  4671ccc5e86a035c4e15aeece10d0d23  882563279   \n",
       "98        4596    False  09b8abdb800641a924627bec1d3015bf  882567659   \n",
       "99 -1527221094    False  907b76a1cc60561a3809d6e3d7a2346e  882607005   \n",
       "\n",
       "         pid                      start                       stop  \\\n",
       "95   2858673  2018-05-24T13:39:49+00:00  2018-05-24T13:42:03+00:00   \n",
       "96   2858673  2018-05-24T13:42:11+00:00  2018-05-24T13:54:42+00:00   \n",
       "97   2759162  2018-05-25T01:37:11+00:00  2018-05-25T01:47:05+00:00   \n",
       "98  25620514  2018-05-25T01:50:28+00:00  2018-05-25T03:07:04+00:00   \n",
       "99  25620514  2018-05-25T04:04:54+00:00                        NaN   \n",
       "\n",
       "                tags     uid     wid  \n",
       "95               NaN  440666  341257  \n",
       "96               NaN  440666  341257  \n",
       "97               NaN  440666  341257  \n",
       "98  [Coding Studies]  440666  341257  \n",
       "99  [Coding Studies]  440666  341257  "
      ]
     },
     "execution_count": 33,
     "metadata": {},
     "output_type": "execute_result"
    }
   ],
   "source": [
    "latest_timelog.tail()"
   ]
  },
  {
   "cell_type": "code",
   "execution_count": 34,
   "metadata": {},
   "outputs": [
    {
     "data": {
      "text/html": [
       "<div>\n",
       "<style>\n",
       "    .dataframe thead tr:only-child th {\n",
       "        text-align: right;\n",
       "    }\n",
       "\n",
       "    .dataframe thead th {\n",
       "        text-align: left;\n",
       "    }\n",
       "\n",
       "    .dataframe tbody tr th {\n",
       "        vertical-align: top;\n",
       "    }\n",
       "</style>\n",
       "<table border=\"1\" class=\"dataframe\">\n",
       "  <thead>\n",
       "    <tr style=\"text-align: right;\">\n",
       "      <th></th>\n",
       "      <th>at</th>\n",
       "      <th>billable</th>\n",
       "      <th>description</th>\n",
       "      <th>duration</th>\n",
       "      <th>duronly</th>\n",
       "      <th>guid</th>\n",
       "      <th>id</th>\n",
       "      <th>pid</th>\n",
       "      <th>start</th>\n",
       "      <th>stop</th>\n",
       "      <th>tags</th>\n",
       "      <th>uid</th>\n",
       "      <th>wid</th>\n",
       "    </tr>\n",
       "  </thead>\n",
       "  <tbody>\n",
       "    <tr>\n",
       "      <th>0</th>\n",
       "      <td>2018-05-17T02:13:54+00:00</td>\n",
       "      <td>False</td>\n",
       "      <td>Morning Pages</td>\n",
       "      <td>244</td>\n",
       "      <td>False</td>\n",
       "      <td>5eb114176143d3692533abeef865d9f6</td>\n",
       "      <td>875652863</td>\n",
       "      <td>2759162</td>\n",
       "      <td>2018-05-17T02:09:49+00:00</td>\n",
       "      <td>2018-05-17T02:13:53+00:00</td>\n",
       "      <td>NaN</td>\n",
       "      <td>440666</td>\n",
       "      <td>341257</td>\n",
       "    </tr>\n",
       "    <tr>\n",
       "      <th>1</th>\n",
       "      <td>2018-05-17T03:05:34+00:00</td>\n",
       "      <td>False</td>\n",
       "      <td>Four Essential Things Everyone Should Track</td>\n",
       "      <td>2928</td>\n",
       "      <td>False</td>\n",
       "      <td>65fca5b468e846d81b7a133fffaddc51</td>\n",
       "      <td>875655060</td>\n",
       "      <td>2759162</td>\n",
       "      <td>2018-05-17T02:16:20+00:00</td>\n",
       "      <td>2018-05-17T03:05:08+00:00</td>\n",
       "      <td>NaN</td>\n",
       "      <td>440666</td>\n",
       "      <td>341257</td>\n",
       "    </tr>\n",
       "    <tr>\n",
       "      <th>2</th>\n",
       "      <td>2018-05-17T04:21:55+00:00</td>\n",
       "      <td>False</td>\n",
       "      <td>Four Essential Things Everyone Should Track</td>\n",
       "      <td>3654</td>\n",
       "      <td>False</td>\n",
       "      <td>17dc5039539085e479a92db746ef4fb1</td>\n",
       "      <td>875675404</td>\n",
       "      <td>2759162</td>\n",
       "      <td>2018-05-17T03:15:56+00:00</td>\n",
       "      <td>2018-05-17T04:16:50+00:00</td>\n",
       "      <td>NaN</td>\n",
       "      <td>440666</td>\n",
       "      <td>341257</td>\n",
       "    </tr>\n",
       "    <tr>\n",
       "      <th>3</th>\n",
       "      <td>2018-05-17T04:35:05+00:00</td>\n",
       "      <td>False</td>\n",
       "      <td>How to Track a Life: Book Writing</td>\n",
       "      <td>483</td>\n",
       "      <td>False</td>\n",
       "      <td>11a73edae8aac156510050bf22a09808</td>\n",
       "      <td>875695923</td>\n",
       "      <td>2759162</td>\n",
       "      <td>2018-05-17T04:26:59+00:00</td>\n",
       "      <td>2018-05-17T04:35:02+00:00</td>\n",
       "      <td>[data-driven you]</td>\n",
       "      <td>440666</td>\n",
       "      <td>341257</td>\n",
       "    </tr>\n",
       "    <tr>\n",
       "      <th>4</th>\n",
       "      <td>2018-05-17T06:50:46+00:00</td>\n",
       "      <td>False</td>\n",
       "      <td>Site Shutdown Tasks</td>\n",
       "      <td>3080</td>\n",
       "      <td>False</td>\n",
       "      <td>8f47e839d633c444f8f1fd0a5eab7996</td>\n",
       "      <td>875734588</td>\n",
       "      <td>12065403</td>\n",
       "      <td>2018-05-17T05:59:24+00:00</td>\n",
       "      <td>2018-05-17T06:50:44+00:00</td>\n",
       "      <td>NaN</td>\n",
       "      <td>440666</td>\n",
       "      <td>373504</td>\n",
       "    </tr>\n",
       "  </tbody>\n",
       "</table>\n",
       "</div>"
      ],
      "text/plain": [
       "                          at  billable  \\\n",
       "0  2018-05-17T02:13:54+00:00     False   \n",
       "1  2018-05-17T03:05:34+00:00     False   \n",
       "2  2018-05-17T04:21:55+00:00     False   \n",
       "3  2018-05-17T04:35:05+00:00     False   \n",
       "4  2018-05-17T06:50:46+00:00     False   \n",
       "\n",
       "                                   description  duration  duronly  \\\n",
       "0                               Morning Pages        244    False   \n",
       "1  Four Essential Things Everyone Should Track      2928    False   \n",
       "2  Four Essential Things Everyone Should Track      3654    False   \n",
       "3            How to Track a Life: Book Writing       483    False   \n",
       "4                          Site Shutdown Tasks      3080    False   \n",
       "\n",
       "                               guid         id       pid  \\\n",
       "0  5eb114176143d3692533abeef865d9f6  875652863   2759162   \n",
       "1  65fca5b468e846d81b7a133fffaddc51  875655060   2759162   \n",
       "2  17dc5039539085e479a92db746ef4fb1  875675404   2759162   \n",
       "3  11a73edae8aac156510050bf22a09808  875695923   2759162   \n",
       "4  8f47e839d633c444f8f1fd0a5eab7996  875734588  12065403   \n",
       "\n",
       "                       start                       stop               tags  \\\n",
       "0  2018-05-17T02:09:49+00:00  2018-05-17T02:13:53+00:00                NaN   \n",
       "1  2018-05-17T02:16:20+00:00  2018-05-17T03:05:08+00:00                NaN   \n",
       "2  2018-05-17T03:15:56+00:00  2018-05-17T04:16:50+00:00                NaN   \n",
       "3  2018-05-17T04:26:59+00:00  2018-05-17T04:35:02+00:00  [data-driven you]   \n",
       "4  2018-05-17T05:59:24+00:00  2018-05-17T06:50:44+00:00                NaN   \n",
       "\n",
       "      uid     wid  \n",
       "0  440666  341257  \n",
       "1  440666  341257  \n",
       "2  440666  341257  \n",
       "3  440666  341257  \n",
       "4  440666  373504  "
      ]
     },
     "execution_count": 34,
     "metadata": {},
     "output_type": "execute_result"
    }
   ],
   "source": [
    "latest_timelog.head()"
   ]
  },
  {
   "cell_type": "code",
   "execution_count": 35,
   "metadata": {
    "collapsed": true
   },
   "outputs": [],
   "source": [
    "latest_timelog.to_csv('data/toggl-timelog-latest.csv')"
   ]
  },
  {
   "cell_type": "markdown",
   "metadata": {},
   "source": [
    "-----"
   ]
  },
  {
   "cell_type": "markdown",
   "metadata": {},
   "source": [
    "# BONUS: Extract Times Entries for Every Single Day Using Toggl API"
   ]
  },
  {
   "cell_type": "markdown",
   "metadata": {
    "collapsed": true
   },
   "source": [
    "**NOTE:** A bit of a hackish solution. But this is a possible approach to getting individual day logs. "
   ]
  },
  {
   "cell_type": "code",
   "execution_count": 36,
   "metadata": {
    "collapsed": true
   },
   "outputs": [],
   "source": [
    "extract_date_start = join_date.strftime(\"%Y-%m-%d\") # join date\n",
    "extract_date_end = today.strftime(\"%Y-%m-%d\") # today\n",
    "\n",
    "# UNCOMMENT TO Overide Full Extract \n",
    "extract_date_start = \"2018-05-23\"\n",
    "# extract_date_end = \"2018-05-01\".strftime(\"%Y-%m-%d\")\n",
    "# extract_date_end = today.strftime(\"%Y-%m-%d\") # today\n",
    "\n",
    "# Function that turns datetimes back to strings since that's what the API likes\n",
    "def date_only(datetimeVal):\n",
    "      datePart = datetimeVal.strftime(\"%Y-%m-%d\")\n",
    "      return datePart\n",
    "\n",
    "# List of Dates of Dates to Extract Time Entries\n",
    "dates_range = list(pd.date_range(extract_date_start, extract_date_end))\n",
    "dates_list = [date_only(x) for x in dates_range]"
   ]
  },
  {
   "cell_type": "code",
   "execution_count": 37,
   "metadata": {
    "collapsed": true
   },
   "outputs": [],
   "source": [
    "# Extract Timelogs Between Two Dates and Export to a CSV\n",
    "def toggl_timelog_extractor(input_date1, input_date2):\n",
    "    date1 = parse(input_date1).isoformat() + '+00:00'\n",
    "    date2 = parse(input_date2).isoformat() + '+00:00'\n",
    "    param = {\n",
    "        'start_date': date1,\n",
    "        'end_date': date2,\n",
    "    } \n",
    "    try:\n",
    "        temp_log =  pd.DataFrame.from_dict(toggl.request(\"https://www.toggl.com/api/v8/time_entries\", parameters=param))\n",
    "        temp_log.to_csv('data/detailed/toggl-time-entries-' + input_date1 + '.csv')\n",
    "    except: \n",
    "        # try again if there is an issue the first time\n",
    "        temp_log =  pd.DataFrame.from_dict(toggl.request(\"https://www.toggl.com/api/v8/time_entries\", parameters=param))\n",
    "        temp_log.to_csv('data/daily-detailed/toggl-time-entries-' + input_date1 + '.csv')"
   ]
  },
  {
   "cell_type": "code",
   "execution_count": 38,
   "metadata": {
    "collapsed": true
   },
   "outputs": [],
   "source": [
    "# UNCOMMENT to Test Between Two Date\n",
    "# date1 = '2013-07-23'\n",
    "# date2 = '2013-07-24'\n",
    "# toggl_timelog_extractor(date1, date2)"
   ]
  },
  {
   "cell_type": "code",
   "execution_count": 39,
   "metadata": {
    "collapsed": true
   },
   "outputs": [],
   "source": [
    "# UNCOMMENT TO RUN\n",
    "# Extract All Time Entry Data from Previous Days\n",
    "#for count, item in enumerate(dates_list):\n",
    "#    if item != dates_list[-1]:\n",
    "#        date1 = item\n",
    "#        date2 = (dates_list[count + 1])\n",
    "#        # print(item + \" ~ \"+ date2)\n",
    "#        time.sleep(1)\n",
    "#        toggl_timelog_extractor(date1, date2)"
   ]
  },
  {
   "cell_type": "markdown",
   "metadata": {},
   "source": [
    "-----"
   ]
  },
  {
   "cell_type": "markdown",
   "metadata": {},
   "source": [
    "# Simple Data Analysis  (Using Exported CSV Logs)"
   ]
  },
  {
   "cell_type": "code",
   "execution_count": 40,
   "metadata": {
    "collapsed": true
   },
   "outputs": [],
   "source": [
    "import glob\n",
    "import os"
   ]
  },
  {
   "cell_type": "code",
   "execution_count": 41,
   "metadata": {
    "collapsed": true
   },
   "outputs": [],
   "source": [
    "# import all days of time entries and create data frame\n",
    "path = 'data/detailed/'\n",
    "allFiles = glob.glob(path + \"/*.csv\")\n",
    "timelogs = pd.DataFrame()\n",
    "list_ = []\n",
    "for file_ in allFiles:\n",
    "    df = pd.read_csv(file_,index_col=None, header=0)\n",
    "    list_.append(df)\n",
    "timelog = pd.concat(list_)"
   ]
  },
  {
   "cell_type": "code",
   "execution_count": 42,
   "metadata": {},
   "outputs": [
    {
     "data": {
      "text/html": [
       "<div>\n",
       "<style>\n",
       "    .dataframe thead tr:only-child th {\n",
       "        text-align: right;\n",
       "    }\n",
       "\n",
       "    .dataframe thead th {\n",
       "        text-align: left;\n",
       "    }\n",
       "\n",
       "    .dataframe tbody tr th {\n",
       "        vertical-align: top;\n",
       "    }\n",
       "</style>\n",
       "<table border=\"1\" class=\"dataframe\">\n",
       "  <thead>\n",
       "    <tr style=\"text-align: right;\">\n",
       "      <th></th>\n",
       "      <th>Amount ()</th>\n",
       "      <th>Billable</th>\n",
       "      <th>Client</th>\n",
       "      <th>Description</th>\n",
       "      <th>Duration</th>\n",
       "      <th>Email</th>\n",
       "      <th>End date</th>\n",
       "      <th>End time</th>\n",
       "      <th>Project</th>\n",
       "      <th>Start date</th>\n",
       "      <th>Start time</th>\n",
       "      <th>Tags</th>\n",
       "      <th>Task</th>\n",
       "      <th>User</th>\n",
       "    </tr>\n",
       "  </thead>\n",
       "  <tbody>\n",
       "    <tr>\n",
       "      <th>0</th>\n",
       "      <td>NaN</td>\n",
       "      <td>No</td>\n",
       "      <td>NaN</td>\n",
       "      <td>Toggl Data Analysis</td>\n",
       "      <td>01:16:36</td>\n",
       "      <td>markwkoester@gmail.com</td>\n",
       "      <td>2018-05-25</td>\n",
       "      <td>11:07:04</td>\n",
       "      <td>Data Analysis</td>\n",
       "      <td>2018-05-25</td>\n",
       "      <td>09:50:28</td>\n",
       "      <td>Coding Studies</td>\n",
       "      <td>NaN</td>\n",
       "      <td>Markwkoester</td>\n",
       "    </tr>\n",
       "    <tr>\n",
       "      <th>1</th>\n",
       "      <td>NaN</td>\n",
       "      <td>No</td>\n",
       "      <td>NaN</td>\n",
       "      <td>Morning Pages - On Writing</td>\n",
       "      <td>00:09:54</td>\n",
       "      <td>markwkoester@gmail.com</td>\n",
       "      <td>2018-05-25</td>\n",
       "      <td>09:47:05</td>\n",
       "      <td>Writing</td>\n",
       "      <td>2018-05-25</td>\n",
       "      <td>09:37:11</td>\n",
       "      <td>NaN</td>\n",
       "      <td>NaN</td>\n",
       "      <td>Markwkoester</td>\n",
       "    </tr>\n",
       "    <tr>\n",
       "      <th>2</th>\n",
       "      <td>NaN</td>\n",
       "      <td>No</td>\n",
       "      <td>NaN</td>\n",
       "      <td>Processing Email</td>\n",
       "      <td>00:12:31</td>\n",
       "      <td>markwkoester@gmail.com</td>\n",
       "      <td>2018-05-24</td>\n",
       "      <td>21:54:42</td>\n",
       "      <td>Organizational Work</td>\n",
       "      <td>2018-05-24</td>\n",
       "      <td>21:42:11</td>\n",
       "      <td>NaN</td>\n",
       "      <td>NaN</td>\n",
       "      <td>Markwkoester</td>\n",
       "    </tr>\n",
       "    <tr>\n",
       "      <th>3</th>\n",
       "      <td>NaN</td>\n",
       "      <td>No</td>\n",
       "      <td>NaN</td>\n",
       "      <td>Processing Unprocessed</td>\n",
       "      <td>00:02:14</td>\n",
       "      <td>markwkoester@gmail.com</td>\n",
       "      <td>2018-05-24</td>\n",
       "      <td>21:42:03</td>\n",
       "      <td>Organizational Work</td>\n",
       "      <td>2018-05-24</td>\n",
       "      <td>21:39:49</td>\n",
       "      <td>NaN</td>\n",
       "      <td>NaN</td>\n",
       "      <td>Markwkoester</td>\n",
       "    </tr>\n",
       "    <tr>\n",
       "      <th>4</th>\n",
       "      <td>NaN</td>\n",
       "      <td>No</td>\n",
       "      <td>NaN</td>\n",
       "      <td>Task Management</td>\n",
       "      <td>00:03:39</td>\n",
       "      <td>markwkoester@gmail.com</td>\n",
       "      <td>2018-05-24</td>\n",
       "      <td>21:39:47</td>\n",
       "      <td>Organizational Work</td>\n",
       "      <td>2018-05-24</td>\n",
       "      <td>21:36:08</td>\n",
       "      <td>NaN</td>\n",
       "      <td>NaN</td>\n",
       "      <td>Markwkoester</td>\n",
       "    </tr>\n",
       "  </tbody>\n",
       "</table>\n",
       "</div>"
      ],
      "text/plain": [
       "   Amount () Billable Client                 Description  Duration  \\\n",
       "0        NaN       No    NaN         Toggl Data Analysis  01:16:36   \n",
       "1        NaN       No    NaN  Morning Pages - On Writing  00:09:54   \n",
       "2        NaN       No    NaN            Processing Email  00:12:31   \n",
       "3        NaN       No    NaN      Processing Unprocessed  00:02:14   \n",
       "4        NaN       No    NaN             Task Management  00:03:39   \n",
       "\n",
       "                    Email    End date  End time              Project  \\\n",
       "0  markwkoester@gmail.com  2018-05-25  11:07:04        Data Analysis   \n",
       "1  markwkoester@gmail.com  2018-05-25  09:47:05              Writing   \n",
       "2  markwkoester@gmail.com  2018-05-24  21:54:42  Organizational Work   \n",
       "3  markwkoester@gmail.com  2018-05-24  21:42:03  Organizational Work   \n",
       "4  markwkoester@gmail.com  2018-05-24  21:39:47  Organizational Work   \n",
       "\n",
       "   Start date Start time            Tags Task          User  \n",
       "0  2018-05-25   09:50:28  Coding Studies  NaN  Markwkoester  \n",
       "1  2018-05-25   09:37:11             NaN  NaN  Markwkoester  \n",
       "2  2018-05-24   21:42:11             NaN  NaN  Markwkoester  \n",
       "3  2018-05-24   21:39:49             NaN  NaN  Markwkoester  \n",
       "4  2018-05-24   21:36:08             NaN  NaN  Markwkoester  "
      ]
     },
     "execution_count": 42,
     "metadata": {},
     "output_type": "execute_result"
    }
   ],
   "source": [
    "timelog.head()"
   ]
  },
  {
   "cell_type": "code",
   "execution_count": 43,
   "metadata": {},
   "outputs": [
    {
     "data": {
      "text/plain": [
       "16852"
      ]
     },
     "execution_count": 43,
     "metadata": {},
     "output_type": "execute_result"
    }
   ],
   "source": [
    "len(timelog)"
   ]
  },
  {
   "cell_type": "code",
   "execution_count": 44,
   "metadata": {
    "collapsed": true
   },
   "outputs": [],
   "source": [
    "# drop unused columns\n",
    "timelog = timelog.drop(['Email', 'User', 'Amount ()', 'Client', 'Billable'], axis=1)"
   ]
  },
  {
   "cell_type": "code",
   "execution_count": 45,
   "metadata": {
    "collapsed": true
   },
   "outputs": [],
   "source": [
    "# helper functions to convert duration string to seconds\n",
    "def get_sec(time_str):\n",
    "    h, m, s = time_str.split(':')\n",
    "    return int(h) * 3600 + int(m) * 60 + int(s)\n",
    "\n",
    "# get_sec(\"01:16:36\")\n",
    "\n",
    "def dur2sec(row):\n",
    "    return get_sec(row['Duration'])\n",
    "\n",
    "# timelog.apply(dur2sec, axis=1)"
   ]
  },
  {
   "cell_type": "code",
   "execution_count": 46,
   "metadata": {
    "collapsed": true
   },
   "outputs": [],
   "source": [
    "timelog['seconds'] = timelog.apply(dur2sec, axis=1)"
   ]
  },
  {
   "cell_type": "code",
   "execution_count": 47,
   "metadata": {},
   "outputs": [
    {
     "name": "stdout",
     "output_type": "stream",
     "text": [
      "<class 'pandas.core.frame.DataFrame'>\n",
      "Int64Index: 16852 entries, 0 to 181\n",
      "Data columns (total 10 columns):\n",
      "Description    16829 non-null object\n",
      "Duration       16852 non-null object\n",
      "End date       16852 non-null object\n",
      "End time       16852 non-null object\n",
      "Project        16727 non-null object\n",
      "Start date     16852 non-null object\n",
      "Start time     16852 non-null object\n",
      "Tags           866 non-null object\n",
      "Task           0 non-null object\n",
      "seconds        16852 non-null int64\n",
      "dtypes: int64(1), object(9)\n",
      "memory usage: 1.4+ MB\n"
     ]
    }
   ],
   "source": [
    "timelog.info()"
   ]
  },
  {
   "cell_type": "code",
   "execution_count": 48,
   "metadata": {},
   "outputs": [
    {
     "data": {
      "text/html": [
       "<div>\n",
       "<style>\n",
       "    .dataframe thead tr:only-child th {\n",
       "        text-align: right;\n",
       "    }\n",
       "\n",
       "    .dataframe thead th {\n",
       "        text-align: left;\n",
       "    }\n",
       "\n",
       "    .dataframe tbody tr th {\n",
       "        vertical-align: top;\n",
       "    }\n",
       "</style>\n",
       "<table border=\"1\" class=\"dataframe\">\n",
       "  <thead>\n",
       "    <tr style=\"text-align: right;\">\n",
       "      <th></th>\n",
       "      <th>seconds</th>\n",
       "    </tr>\n",
       "  </thead>\n",
       "  <tbody>\n",
       "    <tr>\n",
       "      <th>count</th>\n",
       "      <td>16852.000000</td>\n",
       "    </tr>\n",
       "    <tr>\n",
       "      <th>mean</th>\n",
       "      <td>1896.191253</td>\n",
       "    </tr>\n",
       "    <tr>\n",
       "      <th>std</th>\n",
       "      <td>2964.958000</td>\n",
       "    </tr>\n",
       "    <tr>\n",
       "      <th>min</th>\n",
       "      <td>0.000000</td>\n",
       "    </tr>\n",
       "    <tr>\n",
       "      <th>25%</th>\n",
       "      <td>670.000000</td>\n",
       "    </tr>\n",
       "    <tr>\n",
       "      <th>50%</th>\n",
       "      <td>1315.000000</td>\n",
       "    </tr>\n",
       "    <tr>\n",
       "      <th>75%</th>\n",
       "      <td>2409.000000</td>\n",
       "    </tr>\n",
       "    <tr>\n",
       "      <th>max</th>\n",
       "      <td>255420.000000</td>\n",
       "    </tr>\n",
       "  </tbody>\n",
       "</table>\n",
       "</div>"
      ],
      "text/plain": [
       "             seconds\n",
       "count   16852.000000\n",
       "mean     1896.191253\n",
       "std      2964.958000\n",
       "min         0.000000\n",
       "25%       670.000000\n",
       "50%      1315.000000\n",
       "75%      2409.000000\n",
       "max    255420.000000"
      ]
     },
     "execution_count": 48,
     "metadata": {},
     "output_type": "execute_result"
    }
   ],
   "source": [
    "timelog.describe()"
   ]
  },
  {
   "cell_type": "code",
   "execution_count": 49,
   "metadata": {},
   "outputs": [
    {
     "data": {
      "text/html": [
       "<div>\n",
       "<style>\n",
       "    .dataframe thead tr:only-child th {\n",
       "        text-align: right;\n",
       "    }\n",
       "\n",
       "    .dataframe thead th {\n",
       "        text-align: left;\n",
       "    }\n",
       "\n",
       "    .dataframe tbody tr th {\n",
       "        vertical-align: top;\n",
       "    }\n",
       "</style>\n",
       "<table border=\"1\" class=\"dataframe\">\n",
       "  <thead>\n",
       "    <tr style=\"text-align: right;\">\n",
       "      <th></th>\n",
       "      <th>Description</th>\n",
       "      <th>Duration</th>\n",
       "      <th>End date</th>\n",
       "      <th>End time</th>\n",
       "      <th>Project</th>\n",
       "      <th>Start date</th>\n",
       "      <th>Start time</th>\n",
       "      <th>Tags</th>\n",
       "      <th>Task</th>\n",
       "      <th>seconds</th>\n",
       "    </tr>\n",
       "  </thead>\n",
       "  <tbody>\n",
       "    <tr>\n",
       "      <th>0</th>\n",
       "      <td>Toggl Data Analysis</td>\n",
       "      <td>01:16:36</td>\n",
       "      <td>2018-05-25</td>\n",
       "      <td>11:07:04</td>\n",
       "      <td>Data Analysis</td>\n",
       "      <td>2018-05-25</td>\n",
       "      <td>09:50:28</td>\n",
       "      <td>Coding Studies</td>\n",
       "      <td>NaN</td>\n",
       "      <td>4596</td>\n",
       "    </tr>\n",
       "    <tr>\n",
       "      <th>1</th>\n",
       "      <td>Morning Pages - On Writing</td>\n",
       "      <td>00:09:54</td>\n",
       "      <td>2018-05-25</td>\n",
       "      <td>09:47:05</td>\n",
       "      <td>Writing</td>\n",
       "      <td>2018-05-25</td>\n",
       "      <td>09:37:11</td>\n",
       "      <td>NaN</td>\n",
       "      <td>NaN</td>\n",
       "      <td>594</td>\n",
       "    </tr>\n",
       "    <tr>\n",
       "      <th>2</th>\n",
       "      <td>Processing Email</td>\n",
       "      <td>00:12:31</td>\n",
       "      <td>2018-05-24</td>\n",
       "      <td>21:54:42</td>\n",
       "      <td>Organizational Work</td>\n",
       "      <td>2018-05-24</td>\n",
       "      <td>21:42:11</td>\n",
       "      <td>NaN</td>\n",
       "      <td>NaN</td>\n",
       "      <td>751</td>\n",
       "    </tr>\n",
       "    <tr>\n",
       "      <th>3</th>\n",
       "      <td>Processing Unprocessed</td>\n",
       "      <td>00:02:14</td>\n",
       "      <td>2018-05-24</td>\n",
       "      <td>21:42:03</td>\n",
       "      <td>Organizational Work</td>\n",
       "      <td>2018-05-24</td>\n",
       "      <td>21:39:49</td>\n",
       "      <td>NaN</td>\n",
       "      <td>NaN</td>\n",
       "      <td>134</td>\n",
       "    </tr>\n",
       "    <tr>\n",
       "      <th>4</th>\n",
       "      <td>Task Management</td>\n",
       "      <td>00:03:39</td>\n",
       "      <td>2018-05-24</td>\n",
       "      <td>21:39:47</td>\n",
       "      <td>Organizational Work</td>\n",
       "      <td>2018-05-24</td>\n",
       "      <td>21:36:08</td>\n",
       "      <td>NaN</td>\n",
       "      <td>NaN</td>\n",
       "      <td>219</td>\n",
       "    </tr>\n",
       "  </tbody>\n",
       "</table>\n",
       "</div>"
      ],
      "text/plain": [
       "                  Description  Duration    End date  End time  \\\n",
       "0         Toggl Data Analysis  01:16:36  2018-05-25  11:07:04   \n",
       "1  Morning Pages - On Writing  00:09:54  2018-05-25  09:47:05   \n",
       "2            Processing Email  00:12:31  2018-05-24  21:54:42   \n",
       "3      Processing Unprocessed  00:02:14  2018-05-24  21:42:03   \n",
       "4             Task Management  00:03:39  2018-05-24  21:39:47   \n",
       "\n",
       "               Project  Start date Start time            Tags Task  seconds  \n",
       "0        Data Analysis  2018-05-25   09:50:28  Coding Studies  NaN     4596  \n",
       "1              Writing  2018-05-25   09:37:11             NaN  NaN      594  \n",
       "2  Organizational Work  2018-05-24   21:42:11             NaN  NaN      751  \n",
       "3  Organizational Work  2018-05-24   21:39:49             NaN  NaN      134  \n",
       "4  Organizational Work  2018-05-24   21:36:08             NaN  NaN      219  "
      ]
     },
     "execution_count": 49,
     "metadata": {},
     "output_type": "execute_result"
    }
   ],
   "source": [
    "timelog.head()"
   ]
  },
  {
   "cell_type": "code",
   "execution_count": 50,
   "metadata": {},
   "outputs": [
    {
     "data": {
      "text/html": [
       "<div>\n",
       "<style>\n",
       "    .dataframe thead tr:only-child th {\n",
       "        text-align: right;\n",
       "    }\n",
       "\n",
       "    .dataframe thead th {\n",
       "        text-align: left;\n",
       "    }\n",
       "\n",
       "    .dataframe tbody tr th {\n",
       "        vertical-align: top;\n",
       "    }\n",
       "</style>\n",
       "<table border=\"1\" class=\"dataframe\">\n",
       "  <thead>\n",
       "    <tr style=\"text-align: right;\">\n",
       "      <th></th>\n",
       "      <th>Description</th>\n",
       "      <th>Duration</th>\n",
       "      <th>End date</th>\n",
       "      <th>End time</th>\n",
       "      <th>Project</th>\n",
       "      <th>Start date</th>\n",
       "      <th>Start time</th>\n",
       "      <th>Tags</th>\n",
       "      <th>Task</th>\n",
       "      <th>seconds</th>\n",
       "    </tr>\n",
       "  </thead>\n",
       "  <tbody>\n",
       "    <tr>\n",
       "      <th>177</th>\n",
       "      <td>BioMarkerDB: Planning and Setup</td>\n",
       "      <td>00:01:25</td>\n",
       "      <td>2018-01-06</td>\n",
       "      <td>15:53:32</td>\n",
       "      <td>Startup Project Misc Work</td>\n",
       "      <td>2018-01-06</td>\n",
       "      <td>15:52:07</td>\n",
       "      <td>NaN</td>\n",
       "      <td>NaN</td>\n",
       "      <td>85</td>\n",
       "    </tr>\n",
       "    <tr>\n",
       "      <th>178</th>\n",
       "      <td>BioMarkerDB: Brainstorming</td>\n",
       "      <td>00:22:32</td>\n",
       "      <td>2018-01-05</td>\n",
       "      <td>23:32:28</td>\n",
       "      <td>Startup Project Misc Work</td>\n",
       "      <td>2018-01-05</td>\n",
       "      <td>23:09:56</td>\n",
       "      <td>NaN</td>\n",
       "      <td>NaN</td>\n",
       "      <td>1352</td>\n",
       "    </tr>\n",
       "    <tr>\n",
       "      <th>179</th>\n",
       "      <td>VO2 Max Estimator App</td>\n",
       "      <td>00:39:19</td>\n",
       "      <td>2018-01-03</td>\n",
       "      <td>15:16:35</td>\n",
       "      <td>Startup Project Misc Work</td>\n",
       "      <td>2018-01-03</td>\n",
       "      <td>14:37:16</td>\n",
       "      <td>NaN</td>\n",
       "      <td>NaN</td>\n",
       "      <td>2359</td>\n",
       "    </tr>\n",
       "    <tr>\n",
       "      <th>180</th>\n",
       "      <td>VO2 Max Estimator App</td>\n",
       "      <td>00:31:46</td>\n",
       "      <td>2018-01-03</td>\n",
       "      <td>14:12:53</td>\n",
       "      <td>Startup Project Misc Work</td>\n",
       "      <td>2018-01-03</td>\n",
       "      <td>13:41:07</td>\n",
       "      <td>NaN</td>\n",
       "      <td>NaN</td>\n",
       "      <td>1906</td>\n",
       "    </tr>\n",
       "    <tr>\n",
       "      <th>181</th>\n",
       "      <td>Medical Tourism in Thailand: Research</td>\n",
       "      <td>00:41:24</td>\n",
       "      <td>2018-01-03</td>\n",
       "      <td>13:14:30</td>\n",
       "      <td>Startup Project Misc Work</td>\n",
       "      <td>2018-01-03</td>\n",
       "      <td>12:33:06</td>\n",
       "      <td>NaN</td>\n",
       "      <td>NaN</td>\n",
       "      <td>2484</td>\n",
       "    </tr>\n",
       "  </tbody>\n",
       "</table>\n",
       "</div>"
      ],
      "text/plain": [
       "                               Description  Duration    End date  End time  \\\n",
       "177        BioMarkerDB: Planning and Setup  00:01:25  2018-01-06  15:53:32   \n",
       "178             BioMarkerDB: Brainstorming  00:22:32  2018-01-05  23:32:28   \n",
       "179                  VO2 Max Estimator App  00:39:19  2018-01-03  15:16:35   \n",
       "180                  VO2 Max Estimator App  00:31:46  2018-01-03  14:12:53   \n",
       "181  Medical Tourism in Thailand: Research  00:41:24  2018-01-03  13:14:30   \n",
       "\n",
       "                       Project  Start date Start time Tags Task  seconds  \n",
       "177  Startup Project Misc Work  2018-01-06   15:52:07  NaN  NaN       85  \n",
       "178  Startup Project Misc Work  2018-01-05   23:09:56  NaN  NaN     1352  \n",
       "179  Startup Project Misc Work  2018-01-03   14:37:16  NaN  NaN     2359  \n",
       "180  Startup Project Misc Work  2018-01-03   13:41:07  NaN  NaN     1906  \n",
       "181  Startup Project Misc Work  2018-01-03   12:33:06  NaN  NaN     2484  "
      ]
     },
     "execution_count": 50,
     "metadata": {},
     "output_type": "execute_result"
    }
   ],
   "source": [
    "timelog.tail()"
   ]
  },
  {
   "cell_type": "code",
   "execution_count": 51,
   "metadata": {},
   "outputs": [
    {
     "data": {
      "text/plain": [
       "8876.3"
      ]
     },
     "execution_count": 51,
     "metadata": {},
     "output_type": "execute_result"
    }
   ],
   "source": [
    "# Total hours\n",
    "round((timelog.seconds.sum() / 60 / 60), 1)"
   ]
  },
  {
   "cell_type": "code",
   "execution_count": 52,
   "metadata": {},
   "outputs": [
    {
     "data": {
      "text/plain": [
       "369.8"
      ]
     },
     "execution_count": 52,
     "metadata": {},
     "output_type": "execute_result"
    }
   ],
   "source": [
    "# total days\n",
    "round((timelog.seconds.sum() / 60 / 60 / 24), 1)"
   ]
  },
  {
   "cell_type": "code",
   "execution_count": 53,
   "metadata": {
    "collapsed": true
   },
   "outputs": [],
   "source": [
    "timelog.to_csv(\"data/toggl-detailed-logs-full-export.csv\")"
   ]
  },
  {
   "cell_type": "code",
   "execution_count": null,
   "metadata": {
    "collapsed": true
   },
   "outputs": [],
   "source": []
  }
 ],
 "metadata": {
  "kernelspec": {
   "display_name": "Python 3",
   "language": "python",
   "name": "python3"
  },
  "language_info": {
   "codemirror_mode": {
    "name": "ipython",
    "version": 3
   },
   "file_extension": ".py",
   "mimetype": "text/x-python",
   "name": "python",
   "nbconvert_exporter": "python",
   "pygments_lexer": "ipython3",
   "version": "3.6.2"
  }
 },
 "nbformat": 4,
 "nbformat_minor": 2
}
