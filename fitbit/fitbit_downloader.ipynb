{
 "cells": [
  {
   "cell_type": "markdown",
   "metadata": {
    "collapsed": true
   },
   "source": [
    "# Fitbit Downloader"
   ]
  },
  {
   "cell_type": "markdown",
   "metadata": {},
   "source": [
    "### About Fitbit Data Downloader: \n",
    "\n",
    "File file provides a way to download your fitbit data to CSV, including heart rate, sleep, sleeps and weight. Some simple visualizations are used to check numbers. See fitbit data analysis file for more in-depth data visualizations."
   ]
  },
  {
   "cell_type": "markdown",
   "metadata": {},
   "source": [
    "### Setup and Installation Steps\n",
    "\n",
    "Getting the Credentials setup for FitBit integration is a bit annoying, but if you fall these steps, it should work. \n",
    "\n",
    "* Create a developer application at https://dev.fitbit.com/ \n",
    "* Set your callback URL as http://127.0.0.1:8080/\n",
    "* From your Fitbit application, copy your \"OAuth 2.0 Client ID\" and \"Client Secret\" \n",
    "* Install Python Fitbit: `$ pip install fitbit`\n",
    "* Clone or Download https://github.com/orcasgit/python-fitbit\n",
    "* Navigate to python-fitbit directory and install the dependencies with `$ sudo pip install -r requirements/base.txt`\n",
    "* Inside python-fitbit directory run this command `$ python gather_keys_oauth2.py <client-id> <client-secret>`\n",
    "* This should redirect you to fitbit website where you you will signin and authorize your user. \n",
    "* After you will be redirected to your localhost url. Inside the terminal, you will receive a message that includes your token info. Copy all the info. \n",
    "* Copy credentials-sample.json to credentials.json\n",
    "* Inside credentials-sample.json add your info. \n"
   ]
  },
  {
   "cell_type": "markdown",
   "metadata": {},
   "source": [
    "## Acknowledgements and Helpful Resources\n",
    "\n",
    "* [Collect Your Own Fitbit Data with Python](https://towardsdatascience.com/collect-your-own-fitbit-data-with-python-ff145fa10873) and [Code](https://github.com/stephenjhsu/fitbit) by Stephen Hsu\n",
    "* "
   ]
  },
  {
   "cell_type": "markdown",
   "metadata": {},
   "source": [
    "### Libraries and Dependencies"
   ]
  },
  {
   "cell_type": "code",
   "execution_count": 1,
   "metadata": {
    "collapsed": true
   },
   "outputs": [],
   "source": [
    "import fitbit\n",
    "# import gather_keys_oauth2 as Oauth2\n",
    "import numpy as np\n",
    "import pandas as pd \n",
    "import datetime\n",
    "import dateutil.parser\n",
    "import seaborn\n",
    "import time\n",
    "%matplotlib inline"
   ]
  },
  {
   "cell_type": "markdown",
   "metadata": {},
   "source": [
    "### Credentials and Authentification"
   ]
  },
  {
   "cell_type": "code",
   "execution_count": 2,
   "metadata": {},
   "outputs": [],
   "source": [
    "import json\n",
    "\n",
    "with open(\"credentials.json\", \"r\") as file:\n",
    "    credentials = json.load(file)\n",
    "    fitbit_cr = credentials['fitbit']\n",
    "    CLIENT_SECRET = fitbit_cr['CLIENT_SECRET']\n",
    "    CLIENT_ID = fitbit_cr['CLIENT_ID']\n",
    "    USER_ID = fitbit_cr['USER_ID']\n",
    "    ACCESS_TOKEN = fitbit_cr['ACCESS_TOKEN']\n",
    "    REFRESH_TOKEN = fitbit_cr['REFRESH_TOKEN']"
   ]
  },
  {
   "cell_type": "code",
   "execution_count": 3,
   "metadata": {},
   "outputs": [],
   "source": [
    "#Authorization info\n",
    "auth2_client = fitbit.Fitbit(USER_ID, CLIENT_SECRET, oauth2=True, access_token=ACCESS_TOKEN, refresh_token=REFRESH_TOKEN)"
   ]
  },
  {
   "cell_type": "markdown",
   "metadata": {},
   "source": [
    "### Current Day Today and Yesterday"
   ]
  },
  {
   "cell_type": "code",
   "execution_count": 4,
   "metadata": {},
   "outputs": [
    {
     "data": {
      "text/plain": [
       "'2018-05-23'"
      ]
     },
     "execution_count": 4,
     "metadata": {},
     "output_type": "execute_result"
    }
   ],
   "source": [
    "# Get Today and Yesterday Dates in FitBit Ready Formats\n",
    "yesterday = str((datetime.datetime.now() - datetime.timedelta(days=1)).strftime(\"%Y%m%d\"))\n",
    "yesterday = str((datetime.datetime.now() - datetime.timedelta(days=1)).strftime(\"%Y-%m-%d\"))\n",
    "today = str(datetime.datetime.now().strftime(\"%Y-%m-%d\"))\n",
    "today"
   ]
  },
  {
   "cell_type": "markdown",
   "metadata": {},
   "source": [
    "### Customizable Date Range "
   ]
  },
  {
   "cell_type": "code",
   "execution_count": 5,
   "metadata": {
    "collapsed": true
   },
   "outputs": [],
   "source": [
    "# list of dates to check\n",
    "dates_list = []\n",
    "date1 = '2018-04-17' # Got Fitbit Device 2018-04-17 or since last data update\n",
    "date2 = today\n",
    "start = datetime.datetime.strptime(date1, '%Y-%m-%d')\n",
    "end = datetime.datetime.strptime(date2, '%Y-%m-%d')\n",
    "step = datetime.timedelta(days=1)\n",
    "\n",
    "while start <= end:\n",
    "    dates_list.append(start.date().strftime(\"%Y-%m-%d\"))\n",
    "    start += step"
   ]
  },
  {
   "cell_type": "markdown",
   "metadata": {},
   "source": [
    "# Download Daily Steps Data"
   ]
  },
  {
   "cell_type": "code",
   "execution_count": 6,
   "metadata": {
    "collapsed": true
   },
   "outputs": [],
   "source": [
    "# Get Steps Data in JSON from Last Year\n",
    "steps_ts = auth2_client.time_series('activities/steps', period='1y')\n",
    "\n",
    "# base-date: The range start date, in the format yyyy-MM-dd or today.\n",
    "# end-date: The end date of the range.\n",
    "# date: The end date of the period specified in the format yyyy-MM-dd or today.\n",
    "# period: The range for which data will be returned. Options are 1d, 7d, 30d, 1w, 1m, 3m, 6m, 1y"
   ]
  },
  {
   "cell_type": "code",
   "execution_count": 7,
   "metadata": {},
   "outputs": [
    {
     "data": {
      "text/plain": [
       "{'dateTime': '2018-05-22', 'value': '5162'}"
      ]
     },
     "execution_count": 7,
     "metadata": {},
     "output_type": "execute_result"
    }
   ],
   "source": [
    "steps_ts['activities-steps'][-2]"
   ]
  },
  {
   "cell_type": "code",
   "execution_count": 8,
   "metadata": {},
   "outputs": [
    {
     "data": {
      "text/plain": [
       "(datetime.datetime(2018, 5, 22, 0, 0), 5162)"
      ]
     },
     "execution_count": 8,
     "metadata": {},
     "output_type": "execute_result"
    }
   ],
   "source": [
    "date_steps_list = [(dateutil.parser.parse(date_steps_dict['dateTime']), int(date_steps_dict['value']))\n",
    "              for date_steps_dict in steps_ts['activities-steps']]\n",
    "date_steps_list[-2]"
   ]
  },
  {
   "cell_type": "code",
   "execution_count": 9,
   "metadata": {},
   "outputs": [
    {
     "data": {
      "text/plain": [
       "365"
      ]
     },
     "execution_count": 9,
     "metadata": {},
     "output_type": "execute_result"
    }
   ],
   "source": [
    "len(date_steps_list) # 365 days"
   ]
  },
  {
   "cell_type": "code",
   "execution_count": 10,
   "metadata": {
    "collapsed": true
   },
   "outputs": [],
   "source": [
    "# convert to data frame\n",
    "date_steps = pd.DataFrame(date_steps_list, columns=('Date', 'Steps'))"
   ]
  },
  {
   "cell_type": "code",
   "execution_count": 11,
   "metadata": {},
   "outputs": [
    {
     "data": {
      "text/html": [
       "<div>\n",
       "<style>\n",
       "    .dataframe thead tr:only-child th {\n",
       "        text-align: right;\n",
       "    }\n",
       "\n",
       "    .dataframe thead th {\n",
       "        text-align: left;\n",
       "    }\n",
       "\n",
       "    .dataframe tbody tr th {\n",
       "        vertical-align: top;\n",
       "    }\n",
       "</style>\n",
       "<table border=\"1\" class=\"dataframe\">\n",
       "  <thead>\n",
       "    <tr style=\"text-align: right;\">\n",
       "      <th></th>\n",
       "      <th>Date</th>\n",
       "      <th>Steps</th>\n",
       "    </tr>\n",
       "  </thead>\n",
       "  <tbody>\n",
       "    <tr>\n",
       "      <th>360</th>\n",
       "      <td>2018-05-19</td>\n",
       "      <td>7690</td>\n",
       "    </tr>\n",
       "    <tr>\n",
       "      <th>361</th>\n",
       "      <td>2018-05-20</td>\n",
       "      <td>6641</td>\n",
       "    </tr>\n",
       "    <tr>\n",
       "      <th>362</th>\n",
       "      <td>2018-05-21</td>\n",
       "      <td>4168</td>\n",
       "    </tr>\n",
       "    <tr>\n",
       "      <th>363</th>\n",
       "      <td>2018-05-22</td>\n",
       "      <td>5162</td>\n",
       "    </tr>\n",
       "    <tr>\n",
       "      <th>364</th>\n",
       "      <td>2018-05-23</td>\n",
       "      <td>0</td>\n",
       "    </tr>\n",
       "  </tbody>\n",
       "</table>\n",
       "</div>"
      ],
      "text/plain": [
       "          Date  Steps\n",
       "360 2018-05-19   7690\n",
       "361 2018-05-20   6641\n",
       "362 2018-05-21   4168\n",
       "363 2018-05-22   5162\n",
       "364 2018-05-23      0"
      ]
     },
     "execution_count": 11,
     "metadata": {},
     "output_type": "execute_result"
    }
   ],
   "source": [
    "date_steps.tail()"
   ]
  },
  {
   "cell_type": "code",
   "execution_count": 12,
   "metadata": {},
   "outputs": [
    {
     "data": {
      "text/plain": [
       "36"
      ]
     },
     "execution_count": 12,
     "metadata": {},
     "output_type": "execute_result"
    }
   ],
   "source": [
    "# days with steps\n",
    "len(date_steps[date_steps.Steps > 0])"
   ]
  },
  {
   "cell_type": "code",
   "execution_count": 13,
   "metadata": {},
   "outputs": [
    {
     "data": {
      "text/plain": [
       "<matplotlib.axes._subplots.AxesSubplot at 0x10e4e8cc0>"
      ]
     },
     "execution_count": 13,
     "metadata": {},
     "output_type": "execute_result"
    },
    {
     "data": {
      "image/png": "[encoded data removed]",
      "text/plain": [
       "<matplotlib.figure.Figure at 0x10e427e48>"
      ]
     },
     "metadata": {},
     "output_type": "display_data"
    }
   ],
   "source": [
    "# Days with Steps Visualization\n",
    "date_steps[date_steps.Steps > 0].plot(x='Date')"
   ]
  },
  {
   "cell_type": "code",
   "execution_count": 14,
   "metadata": {
    "collapsed": true
   },
   "outputs": [],
   "source": [
    "# save to csv\n",
    "date_steps.to_csv('data/daily_steps.csv', index=None, encoding='utf-8')"
   ]
  },
  {
   "cell_type": "markdown",
   "metadata": {},
   "source": [
    "------"
   ]
  },
  {
   "cell_type": "markdown",
   "metadata": {},
   "source": [
    "# Weight "
   ]
  },
  {
   "cell_type": "code",
   "execution_count": 15,
   "metadata": {
    "collapsed": true
   },
   "outputs": [],
   "source": [
    "# TODO: https://dev.fitbit.com/build/reference/web-api/body/"
   ]
  },
  {
   "cell_type": "code",
   "execution_count": null,
   "metadata": {
    "collapsed": true
   },
   "outputs": [],
   "source": []
  },
  {
   "cell_type": "markdown",
   "metadata": {},
   "source": [
    "----------"
   ]
  },
  {
   "cell_type": "markdown",
   "metadata": {},
   "source": [
    "# Download Steps Per 15min via Intraday API"
   ]
  },
  {
   "cell_type": "code",
   "execution_count": 16,
   "metadata": {
    "collapsed": true
   },
   "outputs": [],
   "source": [
    "# get all Steps stats for a single date\n",
    "def fitbit_intraday_steps(date):\n",
    "    fitbit_intra_steps = auth2_client.intraday_time_series('activities/steps', base_date=date, detail_level='15min')\n",
    "    time_list = []\n",
    "    val_list = []\n",
    "    for i in fitbit_intra_steps['activities-steps-intraday']['dataset']:\n",
    "        val_list.append(i['value'])\n",
    "        time_list.append(i['time'])\n",
    "    heartdf = pd.DataFrame({'Steps':val_list,'Time':time_list})\n",
    "    # add date column\n",
    "    heartdf['Date'] = date\n",
    "    # create csv\n",
    "    heartdf.to_csv('data/steps/steps'+ \\\n",
    "               date+'.csv', \\\n",
    "               columns=['Date', 'Time','Steps'], header=True, \\\n",
    "               index = False)\n",
    "    print(\"Generated Steps CSV for %s\" % date)"
   ]
  },
  {
   "cell_type": "code",
   "execution_count": 17,
   "metadata": {
    "collapsed": true
   },
   "outputs": [],
   "source": [
    "# get multiple date HR data\n",
    "def fitbit_multidates_steps(datelist):\n",
    "    for i in datelist[:]:\n",
    "        fitbit_intraday_steps(i)\n",
    "        # add a 5 second daily\n",
    "        # time.sleep(5)"
   ]
  },
  {
   "cell_type": "code",
   "execution_count": 18,
   "metadata": {},
   "outputs": [
    {
     "name": "stdout",
     "output_type": "stream",
     "text": [
      "Generated Steps CSV for 2018-05-23\n"
     ]
    }
   ],
   "source": [
    "fitbit_intraday_steps(today)"
   ]
  },
  {
   "cell_type": "code",
   "execution_count": 19,
   "metadata": {},
   "outputs": [
    {
     "name": "stdout",
     "output_type": "stream",
     "text": [
      "Generated Steps CSV for 2018-05-22\n"
     ]
    }
   ],
   "source": [
    "fitbit_intraday_steps(yesterday)"
   ]
  },
  {
   "cell_type": "code",
   "execution_count": 20,
   "metadata": {},
   "outputs": [
    {
     "name": "stdout",
     "output_type": "stream",
     "text": [
      "Generated Steps CSV for 2018-04-17\n",
      "Generated Steps CSV for 2018-04-18\n",
      "Generated Steps CSV for 2018-04-19\n",
      "Generated Steps CSV for 2018-04-20\n",
      "Generated Steps CSV for 2018-04-21\n",
      "Generated Steps CSV for 2018-04-22\n",
      "Generated Steps CSV for 2018-04-23\n",
      "Generated Steps CSV for 2018-04-24\n",
      "Generated Steps CSV for 2018-04-25\n",
      "Generated Steps CSV for 2018-04-26\n",
      "Generated Steps CSV for 2018-04-27\n",
      "Generated Steps CSV for 2018-04-28\n",
      "Generated Steps CSV for 2018-04-29\n",
      "Generated Steps CSV for 2018-04-30\n",
      "Generated Steps CSV for 2018-05-01\n",
      "Generated Steps CSV for 2018-05-02\n",
      "Generated Steps CSV for 2018-05-03\n",
      "Generated Steps CSV for 2018-05-04\n",
      "Generated Steps CSV for 2018-05-05\n",
      "Generated Steps CSV for 2018-05-06\n",
      "Generated Steps CSV for 2018-05-07\n",
      "Generated Steps CSV for 2018-05-08\n",
      "Generated Steps CSV for 2018-05-09\n",
      "Generated Steps CSV for 2018-05-10\n",
      "Generated Steps CSV for 2018-05-11\n",
      "Generated Steps CSV for 2018-05-12\n",
      "Generated Steps CSV for 2018-05-13\n",
      "Generated Steps CSV for 2018-05-14\n",
      "Generated Steps CSV for 2018-05-15\n",
      "Generated Steps CSV for 2018-05-16\n",
      "Generated Steps CSV for 2018-05-17\n",
      "Generated Steps CSV for 2018-05-18\n",
      "Generated Steps CSV for 2018-05-19\n",
      "Generated Steps CSV for 2018-05-20\n",
      "Generated Steps CSV for 2018-05-21\n",
      "Generated Steps CSV for 2018-05-22\n",
      "Generated Steps CSV for 2018-05-23\n"
     ]
    }
   ],
   "source": [
    "fitbit_multidates_steps(dates_list)"
   ]
  },
  {
   "cell_type": "code",
   "execution_count": null,
   "metadata": {
    "collapsed": true
   },
   "outputs": [],
   "source": []
  },
  {
   "cell_type": "markdown",
   "metadata": {},
   "source": [
    "--------"
   ]
  },
  {
   "cell_type": "markdown",
   "metadata": {},
   "source": [
    "# Download Daily Detailed Sleep Log"
   ]
  },
  {
   "cell_type": "code",
   "execution_count": 21,
   "metadata": {},
   "outputs": [],
   "source": [
    "sleep_daily = [auth2_client.sleep(date) for date in dates_list]"
   ]
  },
  {
   "cell_type": "code",
   "execution_count": 22,
   "metadata": {},
   "outputs": [
    {
     "data": {
      "text/plain": [
       "{'sleep': [{'awakeCount': 1,\n",
       "   'awakeDuration': 1,\n",
       "   'awakeningsCount': 4,\n",
       "   'dateOfSleep': '2018-05-22',\n",
       "   'duration': 24540000,\n",
       "   'efficiency': 97,\n",
       "   'endTime': '2018-05-22T06:13:30.000',\n",
       "   'isMainSleep': True,\n",
       "   'logId': 18295938516,\n",
       "   'minuteData': [{'dateTime': '23:24:00', 'value': '1'},\n",
       "    {'dateTime': '23:25:00', 'value': '1'},\n",
       "    {'dateTime': '23:26:00', 'value': '1'},\n",
       "    {'dateTime': '23:27:00', 'value': '1'},\n",
       "    {'dateTime': '23:28:00', 'value': '1'},\n",
       "    {'dateTime': '23:29:00', 'value': '1'},\n",
       "    {'dateTime': '23:30:00', 'value': '1'},\n",
       "    {'dateTime': '23:31:00', 'value': '1'},\n",
       "    {'dateTime': '23:32:00', 'value': '1'},\n",
       "    {'dateTime': '23:33:00', 'value': '1'},\n",
       "    {'dateTime': '23:34:00', 'value': '1'},\n",
       "    {'dateTime': '23:35:00', 'value': '1'},\n",
       "    {'dateTime': '23:36:00', 'value': '1'},\n",
       "    {'dateTime': '23:37:00', 'value': '1'},\n",
       "    {'dateTime': '23:38:00', 'value': '1'},\n",
       "    {'dateTime': '23:39:00', 'value': '1'},\n",
       "    {'dateTime': '23:40:00', 'value': '1'},\n",
       "    {'dateTime': '23:41:00', 'value': '1'},\n",
       "    {'dateTime': '23:42:00', 'value': '1'},\n",
       "    {'dateTime': '23:43:00', 'value': '1'},\n",
       "    {'dateTime': '23:44:00', 'value': '1'},\n",
       "    {'dateTime': '23:45:00', 'value': '1'},\n",
       "    {'dateTime': '23:46:00', 'value': '1'},\n",
       "    {'dateTime': '23:47:00', 'value': '1'},\n",
       "    {'dateTime': '23:48:00', 'value': '1'},\n",
       "    {'dateTime': '23:49:00', 'value': '1'},\n",
       "    {'dateTime': '23:50:00', 'value': '1'},\n",
       "    {'dateTime': '23:51:00', 'value': '1'},\n",
       "    {'dateTime': '23:52:00', 'value': '1'},\n",
       "    {'dateTime': '23:53:00', 'value': '1'},\n",
       "    {'dateTime': '23:54:00', 'value': '2'},\n",
       "    {'dateTime': '23:55:00', 'value': '2'},\n",
       "    {'dateTime': '23:56:00', 'value': '2'},\n",
       "    {'dateTime': '23:57:00', 'value': '2'},\n",
       "    {'dateTime': '23:58:00', 'value': '1'},\n",
       "    {'dateTime': '23:59:00', 'value': '1'},\n",
       "    {'dateTime': '00:00:00', 'value': '1'},\n",
       "    {'dateTime': '00:01:00', 'value': '1'},\n",
       "    {'dateTime': '00:02:00', 'value': '1'},\n",
       "    {'dateTime': '00:03:00', 'value': '1'},\n",
       "    {'dateTime': '00:04:00', 'value': '1'},\n",
       "    {'dateTime': '00:05:00', 'value': '1'},\n",
       "    {'dateTime': '00:06:00', 'value': '1'},\n",
       "    {'dateTime': '00:07:00', 'value': '1'},\n",
       "    {'dateTime': '00:08:00', 'value': '1'},\n",
       "    {'dateTime': '00:09:00', 'value': '1'},\n",
       "    {'dateTime': '00:10:00', 'value': '1'},\n",
       "    {'dateTime': '00:11:00', 'value': '1'},\n",
       "    {'dateTime': '00:12:00', 'value': '1'},\n",
       "    {'dateTime': '00:13:00', 'value': '1'},\n",
       "    {'dateTime': '00:14:00', 'value': '1'},\n",
       "    {'dateTime': '00:15:00', 'value': '1'},\n",
       "    {'dateTime': '00:16:00', 'value': '1'},\n",
       "    {'dateTime': '00:17:00', 'value': '1'},\n",
       "    {'dateTime': '00:18:00', 'value': '1'},\n",
       "    {'dateTime': '00:19:00', 'value': '1'},\n",
       "    {'dateTime': '00:20:00', 'value': '1'},\n",
       "    {'dateTime': '00:21:00', 'value': '1'},\n",
       "    {'dateTime': '00:22:00', 'value': '1'},\n",
       "    {'dateTime': '00:23:00', 'value': '1'},\n",
       "    {'dateTime': '00:24:00', 'value': '1'},\n",
       "    {'dateTime': '00:25:00', 'value': '1'},\n",
       "    {'dateTime': '00:26:00', 'value': '1'},\n",
       "    {'dateTime': '00:27:00', 'value': '1'},\n",
       "    {'dateTime': '00:28:00', 'value': '1'},\n",
       "    {'dateTime': '00:29:00', 'value': '1'},\n",
       "    {'dateTime': '00:30:00', 'value': '1'},\n",
       "    {'dateTime': '00:31:00', 'value': '1'},\n",
       "    {'dateTime': '00:32:00', 'value': '1'},\n",
       "    {'dateTime': '00:33:00', 'value': '1'},\n",
       "    {'dateTime': '00:34:00', 'value': '1'},\n",
       "    {'dateTime': '00:35:00', 'value': '1'},\n",
       "    {'dateTime': '00:36:00', 'value': '1'},\n",
       "    {'dateTime': '00:37:00', 'value': '1'},\n",
       "    {'dateTime': '00:38:00', 'value': '1'},\n",
       "    {'dateTime': '00:39:00', 'value': '1'},\n",
       "    {'dateTime': '00:40:00', 'value': '1'},\n",
       "    {'dateTime': '00:41:00', 'value': '1'},\n",
       "    {'dateTime': '00:42:00', 'value': '1'},\n",
       "    {'dateTime': '00:43:00', 'value': '1'},\n",
       "    {'dateTime': '00:44:00', 'value': '1'},\n",
       "    {'dateTime': '00:45:00', 'value': '1'},\n",
       "    {'dateTime': '00:46:00', 'value': '1'},\n",
       "    {'dateTime': '00:47:00', 'value': '1'},\n",
       "    {'dateTime': '00:48:00', 'value': '1'},\n",
       "    {'dateTime': '00:49:00', 'value': '1'},\n",
       "    {'dateTime': '00:50:00', 'value': '1'},\n",
       "    {'dateTime': '00:51:00', 'value': '1'},\n",
       "    {'dateTime': '00:52:00', 'value': '1'},\n",
       "    {'dateTime': '00:53:00', 'value': '1'},\n",
       "    {'dateTime': '00:54:00', 'value': '1'},\n",
       "    {'dateTime': '00:55:00', 'value': '1'},\n",
       "    {'dateTime': '00:56:00', 'value': '1'},\n",
       "    {'dateTime': '00:57:00', 'value': '1'},\n",
       "    {'dateTime': '00:58:00', 'value': '1'},\n",
       "    {'dateTime': '00:59:00', 'value': '1'},\n",
       "    {'dateTime': '01:00:00', 'value': '1'},\n",
       "    {'dateTime': '01:01:00', 'value': '1'},\n",
       "    {'dateTime': '01:02:00', 'value': '1'},\n",
       "    {'dateTime': '01:03:00', 'value': '1'},\n",
       "    {'dateTime': '01:04:00', 'value': '1'},\n",
       "    {'dateTime': '01:05:00', 'value': '1'},\n",
       "    {'dateTime': '01:06:00', 'value': '1'},\n",
       "    {'dateTime': '01:07:00', 'value': '1'},\n",
       "    {'dateTime': '01:08:00', 'value': '1'},\n",
       "    {'dateTime': '01:09:00', 'value': '1'},\n",
       "    {'dateTime': '01:10:00', 'value': '1'},\n",
       "    {'dateTime': '01:11:00', 'value': '1'},\n",
       "    {'dateTime': '01:12:00', 'value': '1'},\n",
       "    {'dateTime': '01:13:00', 'value': '1'},\n",
       "    {'dateTime': '01:14:00', 'value': '1'},\n",
       "    {'dateTime': '01:15:00', 'value': '1'},\n",
       "    {'dateTime': '01:16:00', 'value': '1'},\n",
       "    {'dateTime': '01:17:00', 'value': '1'},\n",
       "    {'dateTime': '01:18:00', 'value': '1'},\n",
       "    {'dateTime': '01:19:00', 'value': '1'},\n",
       "    {'dateTime': '01:20:00', 'value': '1'},\n",
       "    {'dateTime': '01:21:00', 'value': '1'},\n",
       "    {'dateTime': '01:22:00', 'value': '1'},\n",
       "    {'dateTime': '01:23:00', 'value': '1'},\n",
       "    {'dateTime': '01:24:00', 'value': '1'},\n",
       "    {'dateTime': '01:25:00', 'value': '1'},\n",
       "    {'dateTime': '01:26:00', 'value': '1'},\n",
       "    {'dateTime': '01:27:00', 'value': '1'},\n",
       "    {'dateTime': '01:28:00', 'value': '1'},\n",
       "    {'dateTime': '01:29:00', 'value': '1'},\n",
       "    {'dateTime': '01:30:00', 'value': '1'},\n",
       "    {'dateTime': '01:31:00', 'value': '1'},\n",
       "    {'dateTime': '01:32:00', 'value': '1'},\n",
       "    {'dateTime': '01:33:00', 'value': '1'},\n",
       "    {'dateTime': '01:34:00', 'value': '1'},\n",
       "    {'dateTime': '01:35:00', 'value': '1'},\n",
       "    {'dateTime': '01:36:00', 'value': '1'},\n",
       "    {'dateTime': '01:37:00', 'value': '1'},\n",
       "    {'dateTime': '01:38:00', 'value': '1'},\n",
       "    {'dateTime': '01:39:00', 'value': '1'},\n",
       "    {'dateTime': '01:40:00', 'value': '1'},\n",
       "    {'dateTime': '01:41:00', 'value': '1'},\n",
       "    {'dateTime': '01:42:00', 'value': '1'},\n",
       "    {'dateTime': '01:43:00', 'value': '1'},\n",
       "    {'dateTime': '01:44:00', 'value': '1'},\n",
       "    {'dateTime': '01:45:00', 'value': '1'},\n",
       "    {'dateTime': '01:46:00', 'value': '1'},\n",
       "    {'dateTime': '01:47:00', 'value': '1'},\n",
       "    {'dateTime': '01:48:00', 'value': '1'},\n",
       "    {'dateTime': '01:49:00', 'value': '1'},\n",
       "    {'dateTime': '01:50:00', 'value': '1'},\n",
       "    {'dateTime': '01:51:00', 'value': '1'},\n",
       "    {'dateTime': '01:52:00', 'value': '1'},\n",
       "    {'dateTime': '01:53:00', 'value': '1'},\n",
       "    {'dateTime': '01:54:00', 'value': '1'},\n",
       "    {'dateTime': '01:55:00', 'value': '1'},\n",
       "    {'dateTime': '01:56:00', 'value': '1'},\n",
       "    {'dateTime': '01:57:00', 'value': '1'},\n",
       "    {'dateTime': '01:58:00', 'value': '1'},\n",
       "    {'dateTime': '01:59:00', 'value': '1'},\n",
       "    {'dateTime': '02:00:00', 'value': '1'},\n",
       "    {'dateTime': '02:01:00', 'value': '1'},\n",
       "    {'dateTime': '02:02:00', 'value': '1'},\n",
       "    {'dateTime': '02:03:00', 'value': '1'},\n",
       "    {'dateTime': '02:04:00', 'value': '1'},\n",
       "    {'dateTime': '02:05:00', 'value': '1'},\n",
       "    {'dateTime': '02:06:00', 'value': '1'},\n",
       "    {'dateTime': '02:07:00', 'value': '1'},\n",
       "    {'dateTime': '02:08:00', 'value': '1'},\n",
       "    {'dateTime': '02:09:00', 'value': '1'},\n",
       "    {'dateTime': '02:10:00', 'value': '1'},\n",
       "    {'dateTime': '02:11:00', 'value': '1'},\n",
       "    {'dateTime': '02:12:00', 'value': '1'},\n",
       "    {'dateTime': '02:13:00', 'value': '1'},\n",
       "    {'dateTime': '02:14:00', 'value': '1'},\n",
       "    {'dateTime': '02:15:00', 'value': '1'},\n",
       "    {'dateTime': '02:16:00', 'value': '1'},\n",
       "    {'dateTime': '02:17:00', 'value': '1'},\n",
       "    {'dateTime': '02:18:00', 'value': '1'},\n",
       "    {'dateTime': '02:19:00', 'value': '1'},\n",
       "    {'dateTime': '02:20:00', 'value': '1'},\n",
       "    {'dateTime': '02:21:00', 'value': '1'},\n",
       "    {'dateTime': '02:22:00', 'value': '1'},\n",
       "    {'dateTime': '02:23:00', 'value': '1'},\n",
       "    {'dateTime': '02:24:00', 'value': '1'},\n",
       "    {'dateTime': '02:25:00', 'value': '1'},\n",
       "    {'dateTime': '02:26:00', 'value': '1'},\n",
       "    {'dateTime': '02:27:00', 'value': '1'},\n",
       "    {'dateTime': '02:28:00', 'value': '1'},\n",
       "    {'dateTime': '02:29:00', 'value': '1'},\n",
       "    {'dateTime': '02:30:00', 'value': '1'},\n",
       "    {'dateTime': '02:31:00', 'value': '1'},\n",
       "    {'dateTime': '02:32:00', 'value': '1'},\n",
       "    {'dateTime': '02:33:00', 'value': '1'},\n",
       "    {'dateTime': '02:34:00', 'value': '1'},\n",
       "    {'dateTime': '02:35:00', 'value': '1'},\n",
       "    {'dateTime': '02:36:00', 'value': '1'},\n",
       "    {'dateTime': '02:37:00', 'value': '1'},\n",
       "    {'dateTime': '02:38:00', 'value': '1'},\n",
       "    {'dateTime': '02:39:00', 'value': '1'},\n",
       "    {'dateTime': '02:40:00', 'value': '1'},\n",
       "    {'dateTime': '02:41:00', 'value': '1'},\n",
       "    {'dateTime': '02:42:00', 'value': '1'},\n",
       "    {'dateTime': '02:43:00', 'value': '1'},\n",
       "    {'dateTime': '02:44:00', 'value': '1'},\n",
       "    {'dateTime': '02:45:00', 'value': '1'},\n",
       "    {'dateTime': '02:46:00', 'value': '1'},\n",
       "    {'dateTime': '02:47:00', 'value': '1'},\n",
       "    {'dateTime': '02:48:00', 'value': '1'},\n",
       "    {'dateTime': '02:49:00', 'value': '1'},\n",
       "    {'dateTime': '02:50:00', 'value': '1'},\n",
       "    {'dateTime': '02:51:00', 'value': '1'},\n",
       "    {'dateTime': '02:52:00', 'value': '1'},\n",
       "    {'dateTime': '02:53:00', 'value': '1'},\n",
       "    {'dateTime': '02:54:00', 'value': '1'},\n",
       "    {'dateTime': '02:55:00', 'value': '1'},\n",
       "    {'dateTime': '02:56:00', 'value': '1'},\n",
       "    {'dateTime': '02:57:00', 'value': '1'},\n",
       "    {'dateTime': '02:58:00', 'value': '1'},\n",
       "    {'dateTime': '02:59:00', 'value': '1'},\n",
       "    {'dateTime': '03:00:00', 'value': '1'},\n",
       "    {'dateTime': '03:01:00', 'value': '1'},\n",
       "    {'dateTime': '03:02:00', 'value': '1'},\n",
       "    {'dateTime': '03:03:00', 'value': '1'},\n",
       "    {'dateTime': '03:04:00', 'value': '1'},\n",
       "    {'dateTime': '03:05:00', 'value': '1'},\n",
       "    {'dateTime': '03:06:00', 'value': '1'},\n",
       "    {'dateTime': '03:07:00', 'value': '1'},\n",
       "    {'dateTime': '03:08:00', 'value': '1'},\n",
       "    {'dateTime': '03:09:00', 'value': '1'},\n",
       "    {'dateTime': '03:10:00', 'value': '1'},\n",
       "    {'dateTime': '03:11:00', 'value': '1'},\n",
       "    {'dateTime': '03:12:00', 'value': '1'},\n",
       "    {'dateTime': '03:13:00', 'value': '1'},\n",
       "    {'dateTime': '03:14:00', 'value': '1'},\n",
       "    {'dateTime': '03:15:00', 'value': '1'},\n",
       "    {'dateTime': '03:16:00', 'value': '1'},\n",
       "    {'dateTime': '03:17:00', 'value': '1'},\n",
       "    {'dateTime': '03:18:00', 'value': '1'},\n",
       "    {'dateTime': '03:19:00', 'value': '1'},\n",
       "    {'dateTime': '03:20:00', 'value': '1'},\n",
       "    {'dateTime': '03:21:00', 'value': '1'},\n",
       "    {'dateTime': '03:22:00', 'value': '1'},\n",
       "    {'dateTime': '03:23:00', 'value': '1'},\n",
       "    {'dateTime': '03:24:00', 'value': '1'},\n",
       "    {'dateTime': '03:25:00', 'value': '1'},\n",
       "    {'dateTime': '03:26:00', 'value': '1'},\n",
       "    {'dateTime': '03:27:00', 'value': '1'},\n",
       "    {'dateTime': '03:28:00', 'value': '1'},\n",
       "    {'dateTime': '03:29:00', 'value': '1'},\n",
       "    {'dateTime': '03:30:00', 'value': '1'},\n",
       "    {'dateTime': '03:31:00', 'value': '1'},\n",
       "    {'dateTime': '03:32:00', 'value': '1'},\n",
       "    {'dateTime': '03:33:00', 'value': '1'},\n",
       "    {'dateTime': '03:34:00', 'value': '1'},\n",
       "    {'dateTime': '03:35:00', 'value': '1'},\n",
       "    {'dateTime': '03:36:00', 'value': '1'},\n",
       "    {'dateTime': '03:37:00', 'value': '1'},\n",
       "    {'dateTime': '03:38:00', 'value': '1'},\n",
       "    {'dateTime': '03:39:00', 'value': '1'},\n",
       "    {'dateTime': '03:40:00', 'value': '1'},\n",
       "    {'dateTime': '03:41:00', 'value': '1'},\n",
       "    {'dateTime': '03:42:00', 'value': '1'},\n",
       "    {'dateTime': '03:43:00', 'value': '1'},\n",
       "    {'dateTime': '03:44:00', 'value': '1'},\n",
       "    {'dateTime': '03:45:00', 'value': '1'},\n",
       "    {'dateTime': '03:46:00', 'value': '1'},\n",
       "    {'dateTime': '03:47:00', 'value': '1'},\n",
       "    {'dateTime': '03:48:00', 'value': '1'},\n",
       "    {'dateTime': '03:49:00', 'value': '1'},\n",
       "    {'dateTime': '03:50:00', 'value': '1'},\n",
       "    {'dateTime': '03:51:00', 'value': '1'},\n",
       "    {'dateTime': '03:52:00', 'value': '1'},\n",
       "    {'dateTime': '03:53:00', 'value': '1'},\n",
       "    {'dateTime': '03:54:00', 'value': '1'},\n",
       "    {'dateTime': '03:55:00', 'value': '1'},\n",
       "    {'dateTime': '03:56:00', 'value': '1'},\n",
       "    {'dateTime': '03:57:00', 'value': '1'},\n",
       "    {'dateTime': '03:58:00', 'value': '1'},\n",
       "    {'dateTime': '03:59:00', 'value': '1'},\n",
       "    {'dateTime': '04:00:00', 'value': '1'},\n",
       "    {'dateTime': '04:01:00', 'value': '1'},\n",
       "    {'dateTime': '04:02:00', 'value': '1'},\n",
       "    {'dateTime': '04:03:00', 'value': '1'},\n",
       "    {'dateTime': '04:04:00', 'value': '1'},\n",
       "    {'dateTime': '04:05:00', 'value': '1'},\n",
       "    {'dateTime': '04:06:00', 'value': '1'},\n",
       "    {'dateTime': '04:07:00', 'value': '1'},\n",
       "    {'dateTime': '04:08:00', 'value': '1'},\n",
       "    {'dateTime': '04:09:00', 'value': '1'},\n",
       "    {'dateTime': '04:10:00', 'value': '1'},\n",
       "    {'dateTime': '04:11:00', 'value': '1'},\n",
       "    {'dateTime': '04:12:00', 'value': '1'},\n",
       "    {'dateTime': '04:13:00', 'value': '1'},\n",
       "    {'dateTime': '04:14:00', 'value': '1'},\n",
       "    {'dateTime': '04:15:00', 'value': '1'},\n",
       "    {'dateTime': '04:16:00', 'value': '1'},\n",
       "    {'dateTime': '04:17:00', 'value': '1'},\n",
       "    {'dateTime': '04:18:00', 'value': '1'},\n",
       "    {'dateTime': '04:19:00', 'value': '1'},\n",
       "    {'dateTime': '04:20:00', 'value': '1'},\n",
       "    {'dateTime': '04:21:00', 'value': '1'},\n",
       "    {'dateTime': '04:22:00', 'value': '1'},\n",
       "    {'dateTime': '04:23:00', 'value': '1'},\n",
       "    {'dateTime': '04:24:00', 'value': '1'},\n",
       "    {'dateTime': '04:25:00', 'value': '1'},\n",
       "    {'dateTime': '04:26:00', 'value': '1'},\n",
       "    {'dateTime': '04:27:00', 'value': '1'},\n",
       "    {'dateTime': '04:28:00', 'value': '1'},\n",
       "    {'dateTime': '04:29:00', 'value': '1'},\n",
       "    {'dateTime': '04:30:00', 'value': '1'},\n",
       "    {'dateTime': '04:31:00', 'value': '1'},\n",
       "    {'dateTime': '04:32:00', 'value': '1'},\n",
       "    {'dateTime': '04:33:00', 'value': '1'},\n",
       "    {'dateTime': '04:34:00', 'value': '1'},\n",
       "    {'dateTime': '04:35:00', 'value': '1'},\n",
       "    {'dateTime': '04:36:00', 'value': '1'},\n",
       "    {'dateTime': '04:37:00', 'value': '1'},\n",
       "    {'dateTime': '04:38:00', 'value': '1'},\n",
       "    {'dateTime': '04:39:00', 'value': '1'},\n",
       "    {'dateTime': '04:40:00', 'value': '1'},\n",
       "    {'dateTime': '04:41:00', 'value': '2'},\n",
       "    {'dateTime': '04:42:00', 'value': '1'},\n",
       "    {'dateTime': '04:43:00', 'value': '1'},\n",
       "    {'dateTime': '04:44:00', 'value': '1'},\n",
       "    {'dateTime': '04:45:00', 'value': '1'},\n",
       "    {'dateTime': '04:46:00', 'value': '1'},\n",
       "    {'dateTime': '04:47:00', 'value': '1'},\n",
       "    {'dateTime': '04:48:00', 'value': '1'},\n",
       "    {'dateTime': '04:49:00', 'value': '1'},\n",
       "    {'dateTime': '04:50:00', 'value': '1'},\n",
       "    {'dateTime': '04:51:00', 'value': '1'},\n",
       "    {'dateTime': '04:52:00', 'value': '1'},\n",
       "    {'dateTime': '04:53:00', 'value': '1'},\n",
       "    {'dateTime': '04:54:00', 'value': '1'},\n",
       "    {'dateTime': '04:55:00', 'value': '1'},\n",
       "    {'dateTime': '04:56:00', 'value': '1'},\n",
       "    {'dateTime': '04:57:00', 'value': '1'},\n",
       "    {'dateTime': '04:58:00', 'value': '1'},\n",
       "    {'dateTime': '04:59:00', 'value': '1'},\n",
       "    {'dateTime': '05:00:00', 'value': '1'},\n",
       "    {'dateTime': '05:01:00', 'value': '1'},\n",
       "    {'dateTime': '05:02:00', 'value': '1'},\n",
       "    {'dateTime': '05:03:00', 'value': '1'},\n",
       "    {'dateTime': '05:04:00', 'value': '1'},\n",
       "    {'dateTime': '05:05:00', 'value': '1'},\n",
       "    {'dateTime': '05:06:00', 'value': '1'},\n",
       "    {'dateTime': '05:07:00', 'value': '1'},\n",
       "    {'dateTime': '05:08:00', 'value': '1'},\n",
       "    {'dateTime': '05:09:00', 'value': '1'},\n",
       "    {'dateTime': '05:10:00', 'value': '1'},\n",
       "    {'dateTime': '05:11:00', 'value': '1'},\n",
       "    {'dateTime': '05:12:00', 'value': '1'},\n",
       "    {'dateTime': '05:13:00', 'value': '1'},\n",
       "    {'dateTime': '05:14:00', 'value': '1'},\n",
       "    {'dateTime': '05:15:00', 'value': '1'},\n",
       "    {'dateTime': '05:16:00', 'value': '1'},\n",
       "    {'dateTime': '05:17:00', 'value': '1'},\n",
       "    {'dateTime': '05:18:00', 'value': '1'},\n",
       "    {'dateTime': '05:19:00', 'value': '1'},\n",
       "    {'dateTime': '05:20:00', 'value': '1'},\n",
       "    {'dateTime': '05:21:00', 'value': '1'},\n",
       "    {'dateTime': '05:22:00', 'value': '1'},\n",
       "    {'dateTime': '05:23:00', 'value': '1'},\n",
       "    {'dateTime': '05:24:00', 'value': '1'},\n",
       "    {'dateTime': '05:25:00', 'value': '1'},\n",
       "    {'dateTime': '05:26:00', 'value': '1'},\n",
       "    {'dateTime': '05:27:00', 'value': '1'},\n",
       "    {'dateTime': '05:28:00', 'value': '1'},\n",
       "    {'dateTime': '05:29:00', 'value': '1'},\n",
       "    {'dateTime': '05:30:00', 'value': '1'},\n",
       "    {'dateTime': '05:31:00', 'value': '1'},\n",
       "    {'dateTime': '05:32:00', 'value': '1'},\n",
       "    {'dateTime': '05:33:00', 'value': '1'},\n",
       "    {'dateTime': '05:34:00', 'value': '1'},\n",
       "    {'dateTime': '05:35:00', 'value': '1'},\n",
       "    {'dateTime': '05:36:00', 'value': '1'},\n",
       "    {'dateTime': '05:37:00', 'value': '1'},\n",
       "    {'dateTime': '05:38:00', 'value': '1'},\n",
       "    {'dateTime': '05:39:00', 'value': '1'},\n",
       "    {'dateTime': '05:40:00', 'value': '1'},\n",
       "    {'dateTime': '05:41:00', 'value': '1'},\n",
       "    {'dateTime': '05:42:00', 'value': '1'},\n",
       "    {'dateTime': '05:43:00', 'value': '1'},\n",
       "    {'dateTime': '05:44:00', 'value': '1'},\n",
       "    {'dateTime': '05:45:00', 'value': '1'},\n",
       "    {'dateTime': '05:46:00', 'value': '1'},\n",
       "    {'dateTime': '05:47:00', 'value': '1'},\n",
       "    {'dateTime': '05:48:00', 'value': '1'},\n",
       "    {'dateTime': '05:49:00', 'value': '1'},\n",
       "    {'dateTime': '05:50:00', 'value': '1'},\n",
       "    {'dateTime': '05:51:00', 'value': '1'},\n",
       "    {'dateTime': '05:52:00', 'value': '1'},\n",
       "    {'dateTime': '05:53:00', 'value': '1'},\n",
       "    {'dateTime': '05:54:00', 'value': '1'},\n",
       "    {'dateTime': '05:55:00', 'value': '1'},\n",
       "    {'dateTime': '05:56:00', 'value': '1'},\n",
       "    {'dateTime': '05:57:00', 'value': '1'},\n",
       "    {'dateTime': '05:58:00', 'value': '1'},\n",
       "    {'dateTime': '05:59:00', 'value': '1'},\n",
       "    {'dateTime': '06:00:00', 'value': '1'},\n",
       "    {'dateTime': '06:01:00', 'value': '1'},\n",
       "    {'dateTime': '06:02:00', 'value': '2'},\n",
       "    {'dateTime': '06:03:00', 'value': '2'},\n",
       "    {'dateTime': '06:04:00', 'value': '2'},\n",
       "    {'dateTime': '06:05:00', 'value': '2'},\n",
       "    {'dateTime': '06:06:00', 'value': '2'},\n",
       "    {'dateTime': '06:07:00', 'value': '2'},\n",
       "    {'dateTime': '06:08:00', 'value': '2'},\n",
       "    {'dateTime': '06:09:00', 'value': '3'},\n",
       "    {'dateTime': '06:10:00', 'value': '1'},\n",
       "    {'dateTime': '06:11:00', 'value': '1'},\n",
       "    {'dateTime': '06:12:00', 'value': '1'}],\n",
       "   'minutesAfterWakeup': 0,\n",
       "   'minutesAsleep': 396,\n",
       "   'minutesAwake': 13,\n",
       "   'minutesToFallAsleep': 0,\n",
       "   'restlessCount': 3,\n",
       "   'restlessDuration': 12,\n",
       "   'startTime': '2018-05-21T23:24:00.000',\n",
       "   'timeInBed': 409}],\n",
       " 'summary': {'stages': {'deep': 26, 'light': 265, 'rem': 49, 'wake': 50},\n",
       "  'totalMinutesAsleep': 396,\n",
       "  'totalSleepRecords': 1,\n",
       "  'totalTimeInBed': 409}}"
      ]
     },
     "execution_count": 22,
     "metadata": {},
     "output_type": "execute_result"
    }
   ],
   "source": [
    "# check raw log of previous day\n",
    "sleep_daily[-2]"
   ]
  },
  {
   "cell_type": "code",
   "execution_count": 23,
   "metadata": {},
   "outputs": [],
   "source": [
    "# sleep minutes\n",
    "sleep_minutes = [sleep_entry['summary']['totalMinutesAsleep'] for sleep_entry in sleep_daily]\n",
    "\n",
    "# in-bed minutes\n",
    "inbed_minutes = [sleep_entry['summary']['totalTimeInBed'] for sleep_entry in sleep_daily]\n",
    "\n",
    "# sleep_minutes[-3]\n",
    "date_sleep = pd.DataFrame({'Date': dates_list, 'Sleep': sleep_minutes, 'InBed': inbed_minutes})"
   ]
  },
  {
   "cell_type": "code",
   "execution_count": 24,
   "metadata": {},
   "outputs": [],
   "source": [
    "# in bed minutes\n",
    "inbed_minutes = [sleep_entry['summary']['totalTimeInBed'] for sleep_entry in sleep_daily]\n",
    "# inbed_minutes[-3]\n",
    "date_inbed = pd.DataFrame({'Date': dates_list, 'InBed': inbed_minutes})"
   ]
  },
  {
   "cell_type": "code",
   "execution_count": 25,
   "metadata": {
    "collapsed": true
   },
   "outputs": [],
   "source": [
    "# save to csv\n",
    "date_inbed.to_csv('data/daily_inbed.csv', index=None, encoding='utf-8')"
   ]
  },
  {
   "cell_type": "code",
   "execution_count": 26,
   "metadata": {},
   "outputs": [
    {
     "data": {
      "text/plain": [
       "<matplotlib.axes._subplots.AxesSubplot at 0x10f852d30>"
      ]
     },
     "execution_count": 26,
     "metadata": {},
     "output_type": "execute_result"
    },
    {
     "data": {
      "image/png": "[encoded data removed]",
      "text/plain": [
       "<matplotlib.figure.Figure at 0x10e524e80>"
      ]
     },
     "metadata": {},
     "output_type": "display_data"
    },
    {
     "data": {
      "image/png": "[encoded data removed]",
      "text/plain": [
       "<matplotlib.figure.Figure at 0x10f826470>"
      ]
     },
     "metadata": {},
     "output_type": "display_data"
    }
   ],
   "source": [
    "date_sleep[date_sleep.Sleep > 0].plot(x='Date', y=\"Sleep\")\n",
    "date_inbed[date_inbed.InBed > 0].plot(x='Date', y=\"InBed\")"
   ]
  },
  {
   "cell_type": "markdown",
   "metadata": {},
   "source": [
    "--------"
   ]
  },
  {
   "cell_type": "markdown",
   "metadata": {},
   "source": [
    "# Download Daily Sleep Log in Minutes"
   ]
  },
  {
   "cell_type": "code",
   "execution_count": 27,
   "metadata": {
    "collapsed": true
   },
   "outputs": [],
   "source": [
    "sleep_ts = auth2_client.time_series('sleep/minutesAsleep', period='1y')"
   ]
  },
  {
   "cell_type": "code",
   "execution_count": 28,
   "metadata": {},
   "outputs": [
    {
     "data": {
      "text/plain": [
       "{'dateTime': '2018-05-17', 'value': '328'}"
      ]
     },
     "execution_count": 28,
     "metadata": {},
     "output_type": "execute_result"
    }
   ],
   "source": [
    "sleep_ts['sleep-minutesAsleep'][-7] # check sleep froma  week ago"
   ]
  },
  {
   "cell_type": "code",
   "execution_count": 29,
   "metadata": {
    "collapsed": true
   },
   "outputs": [],
   "source": [
    "date_sleep_list = [(dateutil.parser.parse(date_sleep_dict['dateTime']), int(date_sleep_dict['value']))\n",
    "              for date_sleep_dict in sleep_ts['sleep-minutesAsleep']]\n",
    "date_sleep = pd.DataFrame(date_sleep, columns=('Date', 'Sleep'))"
   ]
  },
  {
   "cell_type": "code",
   "execution_count": 30,
   "metadata": {
    "collapsed": true
   },
   "outputs": [],
   "source": [
    "date_sleep['Hours'] = round((date_sleep.Sleep / 60), 2)"
   ]
  },
  {
   "cell_type": "code",
   "execution_count": 31,
   "metadata": {},
   "outputs": [
    {
     "data": {
      "text/html": [
       "<div>\n",
       "<style>\n",
       "    .dataframe thead tr:only-child th {\n",
       "        text-align: right;\n",
       "    }\n",
       "\n",
       "    .dataframe thead th {\n",
       "        text-align: left;\n",
       "    }\n",
       "\n",
       "    .dataframe tbody tr th {\n",
       "        vertical-align: top;\n",
       "    }\n",
       "</style>\n",
       "<table border=\"1\" class=\"dataframe\">\n",
       "  <thead>\n",
       "    <tr style=\"text-align: right;\">\n",
       "      <th></th>\n",
       "      <th>Date</th>\n",
       "      <th>Sleep</th>\n",
       "      <th>Hours</th>\n",
       "    </tr>\n",
       "  </thead>\n",
       "  <tbody>\n",
       "    <tr>\n",
       "      <th>32</th>\n",
       "      <td>2018-05-19</td>\n",
       "      <td>523</td>\n",
       "      <td>8.72</td>\n",
       "    </tr>\n",
       "    <tr>\n",
       "      <th>33</th>\n",
       "      <td>2018-05-20</td>\n",
       "      <td>532</td>\n",
       "      <td>8.87</td>\n",
       "    </tr>\n",
       "    <tr>\n",
       "      <th>34</th>\n",
       "      <td>2018-05-21</td>\n",
       "      <td>395</td>\n",
       "      <td>6.58</td>\n",
       "    </tr>\n",
       "    <tr>\n",
       "      <th>35</th>\n",
       "      <td>2018-05-22</td>\n",
       "      <td>396</td>\n",
       "      <td>6.60</td>\n",
       "    </tr>\n",
       "    <tr>\n",
       "      <th>36</th>\n",
       "      <td>2018-05-23</td>\n",
       "      <td>0</td>\n",
       "      <td>0.00</td>\n",
       "    </tr>\n",
       "  </tbody>\n",
       "</table>\n",
       "</div>"
      ],
      "text/plain": [
       "          Date  Sleep  Hours\n",
       "32  2018-05-19    523   8.72\n",
       "33  2018-05-20    532   8.87\n",
       "34  2018-05-21    395   6.58\n",
       "35  2018-05-22    396   6.60\n",
       "36  2018-05-23      0   0.00"
      ]
     },
     "execution_count": 31,
     "metadata": {},
     "output_type": "execute_result"
    }
   ],
   "source": [
    "date_sleep.tail()"
   ]
  },
  {
   "cell_type": "code",
   "execution_count": 32,
   "metadata": {},
   "outputs": [
    {
     "data": {
      "text/plain": [
       "35"
      ]
     },
     "execution_count": 32,
     "metadata": {},
     "output_type": "execute_result"
    }
   ],
   "source": [
    "# days with sleep\n",
    "len(date_sleep[date_sleep.Sleep > 0])"
   ]
  },
  {
   "cell_type": "code",
   "execution_count": 33,
   "metadata": {},
   "outputs": [
    {
     "data": {
      "text/plain": [
       "<matplotlib.axes._subplots.AxesSubplot at 0x10f864358>"
      ]
     },
     "execution_count": 33,
     "metadata": {},
     "output_type": "execute_result"
    },
    {
     "data": {
      "image/png": "[encoded data removed]",
      "text/plain": [
       "<matplotlib.figure.Figure at 0x10f7e1898>"
      ]
     },
     "metadata": {},
     "output_type": "display_data"
    }
   ],
   "source": [
    "date_sleep[date_sleep.Sleep > 0].plot(x='Date', y='Hours')"
   ]
  },
  {
   "cell_type": "code",
   "execution_count": 34,
   "metadata": {
    "collapsed": true
   },
   "outputs": [],
   "source": [
    "# save to csv\n",
    "date_sleep.to_csv('data/daily_sleep.csv', index=None, encoding='utf-8')"
   ]
  },
  {
   "cell_type": "markdown",
   "metadata": {},
   "source": []
  },
  {
   "cell_type": "markdown",
   "metadata": {},
   "source": [
    "# TODO: Download Daily Resting HR and Other HR Zone Data"
   ]
  },
  {
   "cell_type": "code",
   "execution_count": 35,
   "metadata": {
    "collapsed": true
   },
   "outputs": [],
   "source": [
    "hr_ts = auth2_client.time_series('activities/heart', period='30d')"
   ]
  },
  {
   "cell_type": "code",
   "execution_count": 36,
   "metadata": {},
   "outputs": [
    {
     "data": {
      "text/plain": [
       "{'dateTime': '2018-05-17',\n",
       " 'value': {'customHeartRateZones': [],\n",
       "  'heartRateZones': [{'caloriesOut': 1960.40251,\n",
       "    'max': 91,\n",
       "    'min': 30,\n",
       "    'minutes': 1278,\n",
       "    'name': 'Out of Range'},\n",
       "   {'caloriesOut': 564.21866,\n",
       "    'max': 127,\n",
       "    'min': 91,\n",
       "    'minutes': 141,\n",
       "    'name': 'Fat Burn'},\n",
       "   {'caloriesOut': 128.42737,\n",
       "    'max': 154,\n",
       "    'min': 127,\n",
       "    'minutes': 13,\n",
       "    'name': 'Cardio'},\n",
       "   {'caloriesOut': 0, 'max': 220, 'min': 154, 'minutes': 0, 'name': 'Peak'}],\n",
       "  'restingHeartRate': 67}}"
      ]
     },
     "execution_count": 36,
     "metadata": {},
     "output_type": "execute_result"
    }
   ],
   "source": [
    "hr_ts['activities-heart'][-7] # check  from a week ago"
   ]
  },
  {
   "cell_type": "code",
   "execution_count": 37,
   "metadata": {},
   "outputs": [
    {
     "data": {
      "text/plain": [
       "67"
      ]
     },
     "execution_count": 37,
     "metadata": {},
     "output_type": "execute_result"
    }
   ],
   "source": [
    "# resting hr\n",
    "hr_ts['activities-heart'][-7]['value']['restingHeartRate'] # check from a week ago"
   ]
  },
  {
   "cell_type": "code",
   "execution_count": 38,
   "metadata": {},
   "outputs": [
    {
     "data": {
      "text/plain": [
       "{'caloriesOut': 1960.40251,\n",
       " 'max': 91,\n",
       " 'min': 30,\n",
       " 'minutes': 1278,\n",
       " 'name': 'Out of Range'}"
      ]
     },
     "execution_count": 38,
     "metadata": {},
     "output_type": "execute_result"
    }
   ],
   "source": [
    "# Out of Range data\n",
    "hr_ts['activities-heart'][-7]['value']['heartRateZones']\\\n",
    "        ['name' == 'Out of Range'] # check  from a week ago"
   ]
  },
  {
   "cell_type": "code",
   "execution_count": 39,
   "metadata": {},
   "outputs": [
    {
     "data": {
      "text/plain": [
       "1960.40251"
      ]
     },
     "execution_count": 39,
     "metadata": {},
     "output_type": "execute_result"
    }
   ],
   "source": [
    "# Out of Range data = Calories Out\n",
    "hr_ts['activities-heart'][-7]['value']['heartRateZones']\\\n",
    "        ['name' == 'Out of Range']['caloriesOut'] "
   ]
  },
  {
   "cell_type": "code",
   "execution_count": 40,
   "metadata": {
    "collapsed": true
   },
   "outputs": [],
   "source": [
    "# Fat Burn"
   ]
  },
  {
   "cell_type": "code",
   "execution_count": 41,
   "metadata": {
    "collapsed": true
   },
   "outputs": [],
   "source": [
    "# Cardio"
   ]
  },
  {
   "cell_type": "code",
   "execution_count": 42,
   "metadata": {
    "collapsed": true
   },
   "outputs": [],
   "source": [
    "# Peak"
   ]
  },
  {
   "cell_type": "code",
   "execution_count": 43,
   "metadata": {},
   "outputs": [],
   "source": [
    "# trying to parse into a list with date and resting heart rate\n",
    "#date_hr_list = [(dateutil.parser.parse(date_hr_dict['dateTime']), \\\n",
    "#                (date_hr_dict['value')) \\\n",
    "#                for date_hr_dict in hr_ts['activities-heart']]"
   ]
  },
  {
   "cell_type": "code",
   "execution_count": 44,
   "metadata": {},
   "outputs": [],
   "source": [
    "# type(date_hr_list)"
   ]
  },
  {
   "cell_type": "code",
   "execution_count": 45,
   "metadata": {
    "collapsed": true
   },
   "outputs": [],
   "source": [
    "# type(date_hr_list[-1])"
   ]
  },
  {
   "cell_type": "code",
   "execution_count": null,
   "metadata": {
    "collapsed": true
   },
   "outputs": [],
   "source": []
  },
  {
   "cell_type": "markdown",
   "metadata": {},
   "source": [
    "# Download A Full Day Record of Heart Rate"
   ]
  },
  {
   "cell_type": "code",
   "execution_count": 46,
   "metadata": {
    "collapsed": true
   },
   "outputs": [],
   "source": [
    "# get all HR stats for a single date\n",
    "def fitbit_HR_stats(date):\n",
    "    fitbit_intra_HR = auth2_client.intraday_time_series('activities/heart', base_date=date, detail_level='1sec')\n",
    "    time_list = []\n",
    "    val_list = []\n",
    "    for i in fitbit_intra_HR['activities-heart-intraday']['dataset']:\n",
    "        val_list.append(i['value'])\n",
    "        time_list.append(i['time'])\n",
    "    heartdf = pd.DataFrame({'Heart_Rate':val_list,'Time':time_list})\n",
    "    # add date column\n",
    "    heartdf['Date'] = date\n",
    "    # create csv\n",
    "    heartdf.to_csv('data/hr/heart'+ \\\n",
    "               date+'.csv', \\\n",
    "               columns=['Date', 'Time','Heart_Rate'], header=True, \\\n",
    "               index = False)\n",
    "    print(\"Generated CSV for %s\" % date)"
   ]
  },
  {
   "cell_type": "code",
   "execution_count": 47,
   "metadata": {
    "collapsed": true
   },
   "outputs": [],
   "source": [
    "# get multiple date HR data\n",
    "def fitbit_multidates_hr(datelist):\n",
    "    for i in datelist[:]:\n",
    "        fitbit_HR_stats(i)\n",
    "        # add a 5 second daily\n",
    "        # time.sleep(5)"
   ]
  },
  {
   "cell_type": "code",
   "execution_count": 48,
   "metadata": {},
   "outputs": [
    {
     "name": "stdout",
     "output_type": "stream",
     "text": [
      "Generated CSV for 2018-05-23\n"
     ]
    }
   ],
   "source": [
    "# today's hr data\n",
    "fitbit_HR_stats(today)"
   ]
  },
  {
   "cell_type": "code",
   "execution_count": 49,
   "metadata": {},
   "outputs": [
    {
     "name": "stdout",
     "output_type": "stream",
     "text": [
      "Generated CSV for 2018-05-22\n"
     ]
    }
   ],
   "source": [
    "# yesterday's data\n",
    "fitbit_HR_stats(yesterday)"
   ]
  },
  {
   "cell_type": "code",
   "execution_count": 50,
   "metadata": {},
   "outputs": [
    {
     "name": "stdout",
     "output_type": "stream",
     "text": [
      "Generated CSV for 2018-04-17\n",
      "Generated CSV for 2018-04-18\n",
      "Generated CSV for 2018-04-19\n",
      "Generated CSV for 2018-04-20\n",
      "Generated CSV for 2018-04-21\n",
      "Generated CSV for 2018-04-22\n",
      "Generated CSV for 2018-04-23\n",
      "Generated CSV for 2018-04-24\n",
      "Generated CSV for 2018-04-25\n",
      "Generated CSV for 2018-04-26\n",
      "Generated CSV for 2018-04-27\n",
      "Generated CSV for 2018-04-28\n",
      "Generated CSV for 2018-04-29\n",
      "Generated CSV for 2018-04-30\n",
      "Generated CSV for 2018-05-01\n",
      "Generated CSV for 2018-05-02\n",
      "Generated CSV for 2018-05-03\n",
      "Generated CSV for 2018-05-04\n",
      "Generated CSV for 2018-05-05\n",
      "Generated CSV for 2018-05-06\n",
      "Generated CSV for 2018-05-07\n",
      "Generated CSV for 2018-05-08\n",
      "Generated CSV for 2018-05-09\n",
      "Generated CSV for 2018-05-10\n",
      "Generated CSV for 2018-05-11\n",
      "Generated CSV for 2018-05-12\n",
      "Generated CSV for 2018-05-13\n",
      "Generated CSV for 2018-05-14\n",
      "Generated CSV for 2018-05-15\n",
      "Generated CSV for 2018-05-16\n",
      "Generated CSV for 2018-05-17\n",
      "Generated CSV for 2018-05-18\n",
      "Generated CSV for 2018-05-19\n",
      "Generated CSV for 2018-05-20\n",
      "Generated CSV for 2018-05-21\n",
      "Generated CSV for 2018-05-22\n",
      "Generated CSV for 2018-05-23\n"
     ]
    }
   ],
   "source": [
    "# get data for multiple days\n",
    "fitbit_multidates_hr(dates_list)"
   ]
  },
  {
   "cell_type": "code",
   "execution_count": null,
   "metadata": {
    "collapsed": true
   },
   "outputs": [],
   "source": []
  },
  {
   "cell_type": "code",
   "execution_count": null,
   "metadata": {
    "collapsed": true
   },
   "outputs": [],
   "source": []
  }
 ],
 "metadata": {
  "kernelspec": {
   "display_name": "Python 3",
   "language": "python",
   "name": "python3"
  },
  "language_info": {
   "codemirror_mode": {
    "name": "ipython",
    "version": 3
   },
   "file_extension": ".py",
   "mimetype": "text/x-python",
   "name": "python",
   "nbconvert_exporter": "python",
   "pygments_lexer": "ipython3",
   "version": "3.6.2"
  }
 },
 "nbformat": 4,
 "nbformat_minor": 2
}
