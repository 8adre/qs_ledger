{
 "cells": [
  {
   "cell_type": "markdown",
   "metadata": {},
   "source": [
    "# Kindle Clippings Markdown Exporter"
   ]
  },
  {
   "cell_type": "markdown",
   "metadata": {},
   "source": [
    "This notebook will generate a separate markdown file for each your books with their clippings and highlightss. \n",
    "\n",
    "NOTE: To use, first run [kindle_clippings_parser.ipynb](https://github.com/markwk/qs_ledger/blob/master/kindle/kindle_clippings_parser.ipynb) to parse and collect your device's clippings.\n",
    "\n",
    "For **data analysis and some data visualization** of your Amazon Kindle clippings, see: [kindle_clippings_data_analysis.ipynb](https://github.com/markwk/qs_ledger/blob/master/kindle/kindle_clippings_data_analysis.ipynb)"
   ]
  },
  {
   "cell_type": "markdown",
   "metadata": {},
   "source": [
    "----"
   ]
  },
  {
   "cell_type": "markdown",
   "metadata": {},
   "source": [
    "## Configuration"
   ]
  },
  {
   "cell_type": "code",
   "execution_count": 1,
   "metadata": {},
   "outputs": [],
   "source": [
    "export_directory = '/Users/my-user-name/path1/path2/path3'"
   ]
  },
  {
   "cell_type": "markdown",
   "metadata": {},
   "source": [
    "----"
   ]
  },
  {
   "cell_type": "markdown",
   "metadata": {},
   "source": [
    "## Dependencies"
   ]
  },
  {
   "cell_type": "code",
   "execution_count": 2,
   "metadata": {},
   "outputs": [],
   "source": [
    "from datetime import date, datetime as dt, timedelta as td\n",
    "import pandas as pd"
   ]
  },
  {
   "cell_type": "markdown",
   "metadata": {},
   "source": [
    "----"
   ]
  },
  {
   "cell_type": "markdown",
   "metadata": {},
   "source": [
    "## Data Import and Data Preparations"
   ]
  },
  {
   "cell_type": "code",
   "execution_count": 3,
   "metadata": {
    "collapsed": true
   },
   "outputs": [],
   "source": [
    "my_clippings = pd.read_csv(\"data/clippings.csv\")"
   ]
  },
  {
   "cell_type": "code",
   "execution_count": 4,
   "metadata": {
    "collapsed": true
   },
   "outputs": [],
   "source": [
    "my_clippings.columns = ['author', 'book_title', 'timestamp', 'highlight', 'location',\n",
    "       'num_pages']"
   ]
  },
  {
   "cell_type": "code",
   "execution_count": 5,
   "metadata": {
    "collapsed": true
   },
   "outputs": [],
   "source": [
    "# date additions\n",
    "my_clippings['timestamp'] = pd.to_datetime(my_clippings['timestamp'])\n",
    "my_clippings['date'] = my_clippings['timestamp'].apply(lambda x: x.strftime('%Y-%m-%d')) # note: not very efficient\n",
    "my_clippings['year'] = my_clippings['timestamp'].dt.year\n",
    "my_clippings['month'] = my_clippings['timestamp'].dt.month\n",
    "my_clippings['mnth_yr'] = my_clippings['timestamp'].apply(lambda x: x.strftime('%Y-%m')) # note: not very efficient\n",
    "my_clippings['day'] = my_clippings['timestamp'].dt.day\n",
    "my_clippings['dow'] = my_clippings['timestamp'].dt.weekday\n",
    "my_clippings['hour'] = my_clippings['timestamp'].dt.hour"
   ]
  },
  {
   "cell_type": "markdown",
   "metadata": {},
   "source": [
    "----"
   ]
  },
  {
   "cell_type": "markdown",
   "metadata": {},
   "source": [
    "# Kindle Book Clippings Markdown Exporter"
   ]
  },
  {
   "cell_type": "code",
   "execution_count": 6,
   "metadata": {},
   "outputs": [
    {
     "name": "stdout",
     "output_type": "stream",
     "text": [
      "463 total books\n"
     ]
    }
   ],
   "source": [
    "book_titles = my_clippings['book_title'].unique()\n",
    "print('{:,} total books'.format(len(book_titles)))"
   ]
  },
  {
   "cell_type": "code",
   "execution_count": 7,
   "metadata": {},
   "outputs": [],
   "source": [
    "def generate_book_file(book_title, directory=export_directory):\n",
    "    book_notes = my_clippings[my_clippings['book_title'] == book_title]\n",
    "    title = (book_notes.iloc[0]['book_title']).rstrip()\n",
    "    author = (book_notes.iloc[0]['author']).rstrip()\n",
    "    title_stripped = (title.rstrip()\n",
    "                      .replace(\" \", \"_\")\n",
    "                      .replace(\":\", \"\")\n",
    "                      .replace(\",\", \"\")\n",
    "                      .replace(\"/\", \"\")\n",
    "                      .replace(\"(\", \"\")\n",
    "                      .replace(\")\", \"\")\n",
    "                      .replace(\"?\", \"\")\n",
    "                      .lower())\n",
    "    filename=(book_notes.iloc[0]['timestamp'].strftime('%Y%m%d%H%M') + \"_\" + title_stripped+\".md\")\n",
    "    filepath= directory+filename\n",
    "    \n",
    "    if author == 'Blinkist':\n",
    "        pass\n",
    "    else: \n",
    "        print(\"Printing... \" + filename)\n",
    "        file = open(filepath,\"w\") \n",
    "        file.write(\"# \" + title + \" by \" + author + \" \\n\")\n",
    "        file.write(\"### Clippings \\n\")\n",
    "        file.write(\"tags: #BookClippings #BookRead \\n\")\n",
    "        file.write(\" \\n\") \n",
    "        for index, row in book_notes.iterrows():\n",
    "            file.write(str(row['highlight']) + \" \\n\")\n",
    "            file.write(\"p \" + str(row['num_pages']) + \" | \" + row['location'] + \" | \" + str(row['timestamp']) + \" \\n\")\n",
    "            file.write(\" \\n\")\n",
    "        file.close() "
   ]
  },
  {
   "cell_type": "code",
   "execution_count": 2,
   "metadata": {},
   "outputs": [],
   "source": [
    "# Get a Test Book Title\n",
    " book_titles[-1]"
   ]
  },
  {
   "cell_type": "code",
   "execution_count": 9,
   "metadata": {},
   "outputs": [],
   "source": [
    "# Test Individual Book Export\n",
    "# generate_book_file(\"Buddha's Brain \")"
   ]
  },
  {
   "cell_type": "code",
   "execution_count": 1,
   "metadata": {},
   "outputs": [],
   "source": [
    "# loop through all books\n",
    "for i in book_titles:\n",
    "    generate_book_file(i)"
   ]
  },
  {
   "cell_type": "code",
   "execution_count": null,
   "metadata": {},
   "outputs": [],
   "source": []
  }
 ],
 "metadata": {
  "kernelspec": {
   "display_name": "Python 3",
   "language": "python",
   "name": "python3"
  },
  "language_info": {
   "codemirror_mode": {
    "name": "ipython",
    "version": 3
   },
   "file_extension": ".py",
   "mimetype": "text/x-python",
   "name": "python",
   "nbconvert_exporter": "python",
   "pygments_lexer": "ipython3",
   "version": "3.7.3"
  }
 },
 "nbformat": 4,
 "nbformat_minor": 2
}
