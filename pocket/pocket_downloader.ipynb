{
 "cells": [
  {
   "cell_type": "markdown",
   "metadata": {},
   "source": [
    "# Pocket Article Downloader"
   ]
  },
  {
   "cell_type": "markdown",
   "metadata": {},
   "source": [
    "Want to know how many articles you've read and have to read in Pocket? \n",
    "\n",
    "This code provides setup and authorization to Pocket's API. We then pull your read and unread articles and export them to CSV. \n",
    "\n",
    "For more info and additional configuration, See [Pocket API Documentation](https://getpocket.com/developer/docs/overview)"
   ]
  },
  {
   "cell_type": "markdown",
   "metadata": {},
   "source": [
    "-----"
   ]
  },
  {
   "cell_type": "markdown",
   "metadata": {},
   "source": [
    "# Authentication and Pocket Developer Setup"
   ]
  },
  {
   "cell_type": "markdown",
   "metadata": {},
   "source": [
    "Note: This setup may take a few minutes. Code is indebted to [What’s in your Pocket? Visualizing your Reading List with Python](https://www.twilio.com/blog/2017/09/whats-in-your-pocket-visualizing-your-reading-list-with-python.html). If any issues, refer to that article for screenshots and more details on setup. \n",
    "\n",
    "### Step 1: Intial Developer Setup \n",
    "\n",
    "* Create an app on Pocket's Developer API Portal: https://getpocket.com/developer/apps/new\n",
    "* Ensure you add retrieval permission\n",
    "* Copy your Consumer Key and add to either option 1 or 2\n",
    "* Option 1 (Easiest but less secure): Copy keys and store in notebook   \n",
    "* Option 2 (More Secure since not stored in notebook): Copy sample-credentials.json, create credentials and add keys"
   ]
  },
  {
   "cell_type": "code",
   "execution_count": 1,
   "metadata": {},
   "outputs": [],
   "source": [
    "# Option 1 (Easiest but less secure):  \n",
    "# Copy your keys here after each step\n",
    "\n",
    "# CONSUMERKEY = 'add code here'\n",
    "# REQUESTCODE = 'add code here'\n",
    "# ACCESSTOKEN = 'add code here'"
   ]
  },
  {
   "cell_type": "code",
   "execution_count": 2,
   "metadata": {},
   "outputs": [],
   "source": [
    "# Option 2 (More Secure since not stored in notebook): \n",
    "# Copy sample-credentials.json, create credentials \n",
    "# Uncomment lines below and add code after each step\n",
    "# Copy your keys here after each step\n",
    "\n",
    "# import json\n",
    "\n",
    "# with open(\"credentials.json\", \"r\") as file:\n",
    "#    credentials = json.load(file)\n",
    "#    pocket_cr = credentials['pocket']\n",
    "#    CONSUMERKEY = pocket_cr['CONSUMERKEY'] # step 1 your consumer key\n",
    "#    REQUESTCODE = pocket_cr['REQUESTCODE'] # step 2 your request token\n",
    "#    ACCESSTOKEN = pocket_cr['ACCESSTOKEN'] # step 4 your access token"
   ]
  },
  {
   "cell_type": "code",
   "execution_count": 3,
   "metadata": {},
   "outputs": [],
   "source": [
    "# Step 2\n",
    "\n",
    "# import requests\n",
    "# pocket_api = requests.post('https://getpocket.com/v3/oauth/request', \n",
    "#                           data = {'consumer_key': CONSUMERKEY, \n",
    "#                                   'redirect_uri':'https://google.com'})\n",
    "\n",
    "# uncomment line below to see your request code\n",
    "# pocket_api.text"
   ]
  },
  {
   "cell_type": "code",
   "execution_count": 4,
   "metadata": {},
   "outputs": [],
   "source": [
    "# Step 3: \n",
    "\n",
    "# After modify URL to add your code and visit: \n",
    "# Visit: https://getpocket.com/auth/authorize?request_token=[Your-Request-Code]&redirect_uri=https://google.com\n",
    "# Copy your request code"
   ]
  },
  {
   "cell_type": "code",
   "execution_count": 5,
   "metadata": {},
   "outputs": [],
   "source": [
    "# Step 4: \n",
    "\n",
    "#import requests\n",
    "#pocket_auth = requests.post('https://getpocket.com/v3/oauth/authorize', \n",
    "#                            data = {'consumer_key': CONSUMERKEY, \n",
    "#                                    'code': REQUESTCODE})\n",
    "\n",
    "# uncomment line below to see your access token code\n",
    "# pocket_auth.text"
   ]
  },
  {
   "cell_type": "markdown",
   "metadata": {},
   "source": [
    "------"
   ]
  },
  {
   "cell_type": "markdown",
   "metadata": {},
   "source": [
    "# Get and Export Current, Unread Articles"
   ]
  },
  {
   "cell_type": "code",
   "execution_count": 6,
   "metadata": {},
   "outputs": [],
   "source": [
    "from pocket import Pocket, PocketException\n",
    "import json\n",
    "import pandas as pd"
   ]
  },
  {
   "cell_type": "code",
   "execution_count": 7,
   "metadata": {},
   "outputs": [],
   "source": [
    "# If first time running script, please read \"Authentication and Pocket Developer Setup\" \n",
    "# and follow steps above to update your keys and tokens\n",
    "\n",
    "with open(\"credentials.json\", \"r\") as file:\n",
    "   credentials = json.load(file)\n",
    "   pocket_cr = credentials['pocket']\n",
    "   CONSUMERKEY = pocket_cr['CONSUMERKEY'] # step 1 your consumer key\n",
    "   REQUESTCODE = pocket_cr['REQUESTCODE'] # step 2 your request token\n",
    "   ACCESSTOKEN = pocket_cr['ACCESSTOKEN'] # step 4 your access token"
   ]
  },
  {
   "cell_type": "code",
   "execution_count": 8,
   "metadata": {},
   "outputs": [],
   "source": [
    "# Setup Pocket Object\n",
    "\n",
    "p = Pocket(\n",
    " consumer_key=CONSUMERKEY,\n",
    " access_token=ACCESSTOKEN\n",
    ")"
   ]
  },
  {
   "cell_type": "code",
   "execution_count": 9,
   "metadata": {},
   "outputs": [],
   "source": [
    "# Retrieve all unread\n",
    "articles_dict = {}\n",
    "more_articles = True\n",
    "offset = 0\n",
    "\n",
    "# Get initial 5000 articles \n",
    "lis = p.get(state=\"unread\", count=5000)\n",
    "articles_dict.update(lis[0]['list'])\n",
    "\n",
    "unread_articles = pd.DataFrame.from_dict(articles_dict, orient='index')\n",
    "\n",
    "unread_articles['time_added'] = pd.to_datetime(unread_articles['time_added'], unit='s')\n",
    "unread_articles['time_updated'] = pd.to_datetime(unread_articles['time_updated'], unit='s')\n",
    "# unread_articles['time_read'] = pd.to_datetime(unread_articles['time_read'], unit='s')"
   ]
  },
  {
   "cell_type": "code",
   "execution_count": 10,
   "metadata": {},
   "outputs": [
    {
     "data": {
      "text/plain": [
       "477"
      ]
     },
     "execution_count": 10,
     "metadata": {},
     "output_type": "execute_result"
    }
   ],
   "source": [
    "# unread count\n",
    "len(unread_articles)\n",
    "# unread_articles.head()"
   ]
  },
  {
   "cell_type": "code",
   "execution_count": 11,
   "metadata": {},
   "outputs": [],
   "source": [
    "# export to csv\n",
    "unread_articles.to_csv('data/pocket_unread_articles.csv')"
   ]
  },
  {
   "cell_type": "markdown",
   "metadata": {},
   "source": [
    "----"
   ]
  },
  {
   "cell_type": "markdown",
   "metadata": {},
   "source": [
    "# Get and Export Read Articles"
   ]
  },
  {
   "cell_type": "code",
   "execution_count": 12,
   "metadata": {},
   "outputs": [],
   "source": [
    "# Get Your Oldest Article in Pocket\n",
    "\n",
    "oldest_date = ''\n",
    "oldest_art = p.get(state=\"archive\", count=1, sort='oldest')\n",
    "oldest_article = oldest_art[0]['list']\n",
    "for i in oldest_article:\n",
    "    oldest_date = oldest_article[str(i)]['time_added']\n",
    "\n",
    "# print(oldest_date) \n",
    "# oldest_article"
   ]
  },
  {
   "cell_type": "code",
   "execution_count": 13,
   "metadata": {},
   "outputs": [],
   "source": [
    "# Retrieve all readings since oldest date\n",
    "\n",
    "articles_dict = {}\n",
    "more_articles = True\n",
    "offset = 0\n",
    "\n",
    "# Get initial 5000 articles \n",
    "lis = p.get(since=oldest_date, state=\"archive\", count=5000, sort='oldest')\n",
    "articles_dict.update(lis[0]['list'])\n",
    "\n",
    "# Loop\n",
    "while more_articles == True:\n",
    "    if lis[0]['list'] == []:\n",
    "        more_articles = False\n",
    "    else:\n",
    "        offset = offset + 5000\n",
    "        lis = p.get(since=oldest_date, state=\"archive\", count=5000, sort='oldest', offset=offset)\n",
    "        articles_dict.update(lis[0]['list'])"
   ]
  },
  {
   "cell_type": "code",
   "execution_count": 14,
   "metadata": {},
   "outputs": [],
   "source": [
    "# create dataframe\n",
    "read_articles = pd.DataFrame.from_dict(articles_dict, orient='index')\n",
    "\n",
    "# convert unix time to datetime\n",
    "read_articles['time_added'] = pd.to_datetime(read_articles['time_added'], unit='s')\n",
    "read_articles['time_updated'] = pd.to_datetime(read_articles['time_updated'], unit='s')\n",
    "read_articles['time_favorited'] = pd.to_datetime(read_articles['time_favorited'], unit='s')\n",
    "read_articles['time_read'] = pd.to_datetime(read_articles['time_read'], unit='s')"
   ]
  },
  {
   "cell_type": "code",
   "execution_count": 15,
   "metadata": {},
   "outputs": [],
   "source": [
    "# read_articles.columns\n",
    "# read_articles.info()"
   ]
  },
  {
   "cell_type": "code",
   "execution_count": 16,
   "metadata": {},
   "outputs": [
    {
     "data": {
      "text/plain": [
       "6080"
      ]
     },
     "execution_count": 16,
     "metadata": {},
     "output_type": "execute_result"
    }
   ],
   "source": [
    "# total read\n",
    "len(articles_dict)"
   ]
  },
  {
   "cell_type": "code",
   "execution_count": 17,
   "metadata": {},
   "outputs": [],
   "source": [
    "# save to csv\n",
    "read_articles.to_csv(\"data/pocket_read_articles.csv\")"
   ]
  }
 ],
 "metadata": {
  "kernelspec": {
   "display_name": "Python 3",
   "language": "python",
   "name": "python3"
  },
  "language_info": {
   "codemirror_mode": {
    "name": "ipython",
    "version": 3
   },
   "file_extension": ".py",
   "mimetype": "text/x-python",
   "name": "python",
   "nbconvert_exporter": "python",
   "pygments_lexer": "ipython3",
   "version": "3.6.2"
  }
 },
 "nbformat": 4,
 "nbformat_minor": 2
}
