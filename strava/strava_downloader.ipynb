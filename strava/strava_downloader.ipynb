{
 "cells": [
  {
   "cell_type": "markdown",
   "metadata": {},
   "source": [
    "# Strava Activities Downloader"
   ]
  },
  {
   "cell_type": "markdown",
   "metadata": {},
   "source": [
    "Download all of your Strava Activites and Export to CSV"
   ]
  },
  {
   "cell_type": "markdown",
   "metadata": {},
   "source": [
    "-----"
   ]
  },
  {
   "cell_type": "markdown",
   "metadata": {},
   "source": [
    "## References: \n",
    "\n",
    "* https://developers.strava.com/docs/\n",
    "* Alternative Library: https://github.com/hozn/stravalib/"
   ]
  },
  {
   "cell_type": "markdown",
   "metadata": {},
   "source": [
    "------"
   ]
  },
  {
   "cell_type": "markdown",
   "metadata": {},
   "source": [
    "## Dependencies and Libraries"
   ]
  },
  {
   "cell_type": "code",
   "execution_count": 1,
   "metadata": {
    "collapsed": true
   },
   "outputs": [],
   "source": [
    "import requests\n",
    "import time\n",
    "import datetime\n",
    "from datetime import date\n",
    "import collections\n",
    "import json"
   ]
  },
  {
   "cell_type": "code",
   "execution_count": 2,
   "metadata": {
    "collapsed": true
   },
   "outputs": [],
   "source": [
    "import numpy as np, string, re, pytz\n",
    "import pandas as pd\n",
    "\n",
    "import matplotlib.pyplot as plt\n",
    "from datetime import datetime\n",
    "%matplotlib inline"
   ]
  },
  {
   "cell_type": "markdown",
   "metadata": {},
   "source": [
    "------"
   ]
  },
  {
   "cell_type": "markdown",
   "metadata": {},
   "source": [
    "## Authorization / Credentials"
   ]
  },
  {
   "cell_type": "code",
   "execution_count": 3,
   "metadata": {
    "collapsed": true
   },
   "outputs": [],
   "source": [
    "import json\n",
    "\n",
    "with open(\"credentials.json\", \"r\") as file:\n",
    "    credentials = json.load(file)\n",
    "    strava_cr = credentials['strava']\n",
    "    ACCESS_TOKEN = strava_cr['ACCESS_TOKEN']"
   ]
  },
  {
   "cell_type": "markdown",
   "metadata": {},
   "source": [
    "-----"
   ]
  },
  {
   "cell_type": "markdown",
   "metadata": {},
   "source": [
    "# Athlete Info\n",
    "\n",
    "SEE: https://developers.strava.com/docs/reference/#api-Athletes"
   ]
  },
  {
   "cell_type": "code",
   "execution_count": 4,
   "metadata": {
    "collapsed": true
   },
   "outputs": [],
   "source": [
    "def get_strava_athlete():\n",
    "    url = 'https://www.strava.com/api/v3/athlete/'\n",
    "    header = {'Authorization': 'Bearer '+ACCESS_TOKEN}\n",
    "    param = {'per_page':200, 'page':1}\n",
    "    dataset = requests.get(url, headers=header, params=param).json()\n",
    "    return dataset"
   ]
  },
  {
   "cell_type": "code",
   "execution_count": 5,
   "metadata": {
    "collapsed": true
   },
   "outputs": [],
   "source": [
    "athlete = get_strava_athlete()"
   ]
  },
  {
   "cell_type": "code",
   "execution_count": 6,
   "metadata": {},
   "outputs": [
    {
     "name": "stdout",
     "output_type": "stream",
     "text": [
      "Hi, Mark (ID: 13740897)\n"
     ]
    }
   ],
   "source": [
    "firstname = athlete.get('firstname')\n",
    "athlete_id = athlete.get('id')\n",
    "print(f\"Hi, {firstname} (ID: {athlete_id})\")"
   ]
  },
  {
   "cell_type": "markdown",
   "metadata": {},
   "source": [
    "----"
   ]
  },
  {
   "cell_type": "markdown",
   "metadata": {},
   "source": [
    "# Athlete Stats\n",
    "\n",
    "SEE: https://developers.strava.com/docs/reference/#api-Athletes-getStats"
   ]
  },
  {
   "cell_type": "code",
   "execution_count": 7,
   "metadata": {
    "collapsed": true
   },
   "outputs": [],
   "source": [
    "def get_strava_athlete_stats(athlete_id):\n",
    "    url = 'https://www.strava.com/api/v3/athletes/' + str(athlete_id) + '/stats/'\n",
    "    header = {'Authorization': 'Bearer '+ACCESS_TOKEN}\n",
    "    param = {'per_page':200, 'page':1}\n",
    "    dataset = requests.get(url, headers=header, params=param).json()\n",
    "    return dataset"
   ]
  },
  {
   "cell_type": "code",
   "execution_count": 8,
   "metadata": {
    "collapsed": true
   },
   "outputs": [],
   "source": [
    "athlete_stats_dict = get_strava_athlete_stats(athlete_id)"
   ]
  },
  {
   "cell_type": "code",
   "execution_count": 19,
   "metadata": {},
   "outputs": [],
   "source": [
    "print(athlete_stats_dict)"
   ]
  },
  {
   "cell_type": "markdown",
   "metadata": {},
   "source": [
    "----"
   ]
  },
  {
   "cell_type": "markdown",
   "metadata": {},
   "source": [
    "# Get Basic Activities from Strava\n",
    "\n",
    "Get Basic Activites Summaries from Strava and Export to CSV. \n",
    "\n",
    "SEE: https://developers.strava.com/docs/reference/#api-Activities"
   ]
  },
  {
   "cell_type": "code",
   "execution_count": 10,
   "metadata": {
    "collapsed": true
   },
   "outputs": [],
   "source": [
    "def convert_timestamp(i):\n",
    "    return datetime.strptime(i, \"%Y-%m-%dT%H:%M:%SZ\")\n",
    "\n",
    "def event_timestamp(i):\n",
    "    return convert_timestamp(i['start_date_local'])"
   ]
  },
  {
   "cell_type": "code",
   "execution_count": 11,
   "metadata": {
    "collapsed": true
   },
   "outputs": [],
   "source": [
    "def get_strava_activites():\n",
    "    url = 'https://www.strava.com/api/v3/athlete/activities'\n",
    "    header = {'Authorization': 'Bearer '+ACCESS_TOKEN}\n",
    "    param = {'per_page':200, 'page':1}\n",
    "    dataset = requests.get(url, headers=header, params=param).json()\n",
    "    count = len(dataset)\n",
    "    if count == 200: #if 200 results come back\n",
    "        loop_count = 1 #we've already done one loop\n",
    "        while count == 200: #while it keeps returning 200 results\n",
    "            loop_count = loop_count + 1 #increase loop_count or page number\n",
    "            param = {'per_page':200, 'page':loop_count} #reset params\n",
    "            sub_dataset = requests.get(url, headers=header, params=param).json() #pull new data with sub_dataset name\n",
    "            dataset = dataset + sub_dataset #combine (Json files, not dictionaries thank jesus)\n",
    "            count = len(sub_dataset) #count results to see if we need to loop again\n",
    "    # return {event_timestamp(i): clean_event(i) for i in dataset if wanted_event(i)} #return as normal\n",
    "    return {event_timestamp(i): i for i in dataset}"
   ]
  },
  {
   "cell_type": "code",
   "execution_count": 12,
   "metadata": {},
   "outputs": [
    {
     "name": "stdout",
     "output_type": "stream",
     "text": [
      "Extracted 743 activities from Strava.\n"
     ]
    }
   ],
   "source": [
    "# Get Activties Data from Strava\n",
    "strava_dict = get_strava_activites()\n",
    "print(f\"Extracted {len(strava_dict)} activities from Strava.\")"
   ]
  },
  {
   "cell_type": "code",
   "execution_count": 13,
   "metadata": {
    "collapsed": true
   },
   "outputs": [],
   "source": [
    "# Create DF and Export to CSV\n",
    "strava_activites = pd.DataFrame.from_dict(strava_dict, orient='index')\n",
    "strava_activites.to_csv('data/strava-activities-raw.csv')"
   ]
  },
  {
   "cell_type": "code",
   "execution_count": 14,
   "metadata": {},
   "outputs": [
    {
     "data": {
      "text/plain": [
       "Index(['resource_state', 'athlete', 'name', 'distance', 'moving_time',\n",
       "       'elapsed_time', 'total_elevation_gain', 'type', 'workout_type', 'id',\n",
       "       'external_id', 'upload_id', 'start_date', 'start_date_local',\n",
       "       'timezone', 'utc_offset', 'start_latlng', 'end_latlng', 'location_city',\n",
       "       'location_state', 'location_country', 'start_latitude',\n",
       "       'start_longitude', 'achievement_count', 'kudos_count', 'comment_count',\n",
       "       'athlete_count', 'photo_count', 'map', 'trainer', 'commute', 'manual',\n",
       "       'private', 'flagged', 'gear_id', 'from_accepted_tag', 'average_speed',\n",
       "       'max_speed', 'has_heartrate', 'average_heartrate', 'max_heartrate',\n",
       "       'elev_high', 'elev_low', 'pr_count', 'total_photo_count', 'has_kudoed',\n",
       "       'average_watts', 'kilojoules', 'device_watts', 'average_cadence'],\n",
       "      dtype='object')"
      ]
     },
     "execution_count": 14,
     "metadata": {},
     "output_type": "execute_result"
    }
   ],
   "source": [
    "strava_activites.columns"
   ]
  },
  {
   "cell_type": "markdown",
   "metadata": {},
   "source": [
    "-----"
   ]
  },
  {
   "cell_type": "markdown",
   "metadata": {},
   "source": [
    "# Get Detailed Activity from Strava\n",
    "\n",
    "SEE: https://developers.strava.com/docs/reference/#api-Activities-getActivityById"
   ]
  },
  {
   "cell_type": "code",
   "execution_count": 15,
   "metadata": {
    "collapsed": true
   },
   "outputs": [],
   "source": [
    "test_activity_id = strava_activites.tail(1).iloc[0]['id']"
   ]
  },
  {
   "cell_type": "code",
   "execution_count": 16,
   "metadata": {
    "collapsed": true
   },
   "outputs": [],
   "source": [
    "def get_strava_activity(id):\n",
    "    url = 'https://www.strava.com/api/v3/activities/' + str(id)\n",
    "    header = {'Authorization': 'Bearer '+ACCESS_TOKEN}\n",
    "    param = {'per_page':200, 'page':1}\n",
    "    dataset = requests.get(url, headers=header, params=param).json()\n",
    "    return dataset"
   ]
  },
  {
   "cell_type": "code",
   "execution_count": 17,
   "metadata": {
    "collapsed": true
   },
   "outputs": [],
   "source": [
    "activity = get_strava_activity(1701792001)"
   ]
  },
  {
   "cell_type": "code",
   "execution_count": 18,
   "metadata": {},
   "outputs": [
    {
     "data": {
      "text/plain": [
       "{'achievement_count': 0,\n",
       " 'athlete': {'id': 13740897, 'resource_state': 1},\n",
       " 'athlete_count': 1,\n",
       " 'available_zones': [],\n",
       " 'average_heartrate': 149.2,\n",
       " 'average_speed': 2.648,\n",
       " 'best_efforts': [{'achievements': [],\n",
       "   'activity': {'id': 1701792001, 'resource_state': 1},\n",
       "   'athlete': {'id': 13740897, 'resource_state': 1},\n",
       "   'distance': 400,\n",
       "   'elapsed_time': 128,\n",
       "   'end_index': 177,\n",
       "   'id': 3652211227,\n",
       "   'moving_time': 129,\n",
       "   'name': '400m',\n",
       "   'pr_rank': None,\n",
       "   'resource_state': 2,\n",
       "   'start_date': '2018-07-14T11:11:41Z',\n",
       "   'start_date_local': '2018-07-14T19:11:41Z',\n",
       "   'start_index': 125},\n",
       "  {'achievements': [],\n",
       "   'activity': {'id': 1701792001, 'resource_state': 1},\n",
       "   'athlete': {'id': 13740897, 'resource_state': 1},\n",
       "   'distance': 805,\n",
       "   'elapsed_time': 262,\n",
       "   'end_index': 219,\n",
       "   'id': 3652211230,\n",
       "   'moving_time': 263,\n",
       "   'name': '1/2 mile',\n",
       "   'pr_rank': None,\n",
       "   'resource_state': 2,\n",
       "   'start_date': '2018-07-14T11:11:11Z',\n",
       "   'start_date_local': '2018-07-14T19:11:11Z',\n",
       "   'start_index': 113},\n",
       "  {'achievements': [],\n",
       "   'activity': {'id': 1701792001, 'resource_state': 1},\n",
       "   'athlete': {'id': 13740897, 'resource_state': 1},\n",
       "   'distance': 1000,\n",
       "   'elapsed_time': 327,\n",
       "   'end_index': 245,\n",
       "   'id': 3652211231,\n",
       "   'moving_time': 328,\n",
       "   'name': '1k',\n",
       "   'pr_rank': None,\n",
       "   'resource_state': 2,\n",
       "   'start_date': '2018-07-14T11:11:11Z',\n",
       "   'start_date_local': '2018-07-14T19:11:11Z',\n",
       "   'start_index': 113},\n",
       "  {'achievements': [],\n",
       "   'activity': {'id': 1701792001, 'resource_state': 1},\n",
       "   'athlete': {'id': 13740897, 'resource_state': 1},\n",
       "   'distance': 1609,\n",
       "   'elapsed_time': 542,\n",
       "   'end_index': 336,\n",
       "   'id': 3652211236,\n",
       "   'moving_time': 544,\n",
       "   'name': '1 mile',\n",
       "   'pr_rank': None,\n",
       "   'resource_state': 2,\n",
       "   'start_date': '2018-07-14T11:11:21Z',\n",
       "   'start_date_local': '2018-07-14T19:11:21Z',\n",
       "   'start_index': 117},\n",
       "  {'achievements': [],\n",
       "   'activity': {'id': 1701792001, 'resource_state': 1},\n",
       "   'athlete': {'id': 13740897, 'resource_state': 1},\n",
       "   'distance': 3219,\n",
       "   'elapsed_time': 1141,\n",
       "   'end_index': 562,\n",
       "   'id': 3652211238,\n",
       "   'moving_time': 1142,\n",
       "   'name': '2 mile',\n",
       "   'pr_rank': None,\n",
       "   'resource_state': 2,\n",
       "   'start_date': '2018-07-14T11:10:46Z',\n",
       "   'start_date_local': '2018-07-14T19:10:46Z',\n",
       "   'start_index': 103},\n",
       "  {'achievements': [],\n",
       "   'activity': {'id': 1701792001, 'resource_state': 1},\n",
       "   'athlete': {'id': 13740897, 'resource_state': 1},\n",
       "   'distance': 5000,\n",
       "   'elapsed_time': 1829,\n",
       "   'end_index': 1897,\n",
       "   'id': 3652211241,\n",
       "   'moving_time': 1829,\n",
       "   'name': '5k',\n",
       "   'pr_rank': None,\n",
       "   'resource_state': 2,\n",
       "   'start_date': '2018-07-14T11:55:03Z',\n",
       "   'start_date_local': '2018-07-14T19:55:03Z',\n",
       "   'start_index': 1167},\n",
       "  {'achievements': [],\n",
       "   'activity': {'id': 1701792001, 'resource_state': 1},\n",
       "   'athlete': {'id': 13740897, 'resource_state': 1},\n",
       "   'distance': 10000,\n",
       "   'elapsed_time': 3761,\n",
       "   'end_index': 1506,\n",
       "   'id': 3652211244,\n",
       "   'moving_time': 3757,\n",
       "   'name': '10k',\n",
       "   'pr_rank': None,\n",
       "   'resource_state': 2,\n",
       "   'start_date': '2018-07-14T11:06:37Z',\n",
       "   'start_date_local': '2018-07-14T19:06:37Z',\n",
       "   'start_index': 7},\n",
       "  {'achievements': [],\n",
       "   'activity': {'id': 1701792001, 'resource_state': 1},\n",
       "   'athlete': {'id': 13740897, 'resource_state': 1},\n",
       "   'distance': 15000,\n",
       "   'elapsed_time': 5666,\n",
       "   'end_index': 2260,\n",
       "   'id': 3652211247,\n",
       "   'moving_time': 5662,\n",
       "   'name': '15k',\n",
       "   'pr_rank': None,\n",
       "   'resource_state': 2,\n",
       "   'start_date': '2018-07-14T11:06:18Z',\n",
       "   'start_date_local': '2018-07-14T19:06:18Z',\n",
       "   'start_index': 0}],\n",
       " 'calories': 1500.3,\n",
       " 'comment_count': 0,\n",
       " 'commute': False,\n",
       " 'description': None,\n",
       " 'device_name': 'Apple Watch Series 2',\n",
       " 'distance': 15020.4,\n",
       " 'elapsed_time': 5677,\n",
       " 'elev_high': 773.4,\n",
       " 'elev_low': 681.9,\n",
       " 'embed_token': 'f4a9eb3d965d7164f35474bb52b748d20ca6dfe2',\n",
       " 'end_latlng': [30.91, 103.59],\n",
       " 'external_id': '191AB6A8-08D7-4432-87B2-E52A323570CA',\n",
       " 'flagged': False,\n",
       " 'from_accepted_tag': False,\n",
       " 'gear_id': None,\n",
       " 'has_heartrate': True,\n",
       " 'has_kudoed': False,\n",
       " 'id': 1701792001,\n",
       " 'kudos_count': 0,\n",
       " 'laps': [{'activity': {'id': 1701792001, 'resource_state': 1},\n",
       "   'athlete': {'id': 13740897, 'resource_state': 1},\n",
       "   'average_heartrate': 149.2,\n",
       "   'average_speed': 2.65,\n",
       "   'distance': 15020.4,\n",
       "   'elapsed_time': 5677,\n",
       "   'end_index': 2263,\n",
       "   'id': 5472132613,\n",
       "   'lap_index': 1,\n",
       "   'max_heartrate': 160.0,\n",
       "   'max_speed': 4.5,\n",
       "   'moving_time': 5672,\n",
       "   'name': 'Lap 1',\n",
       "   'pace_zone': 0,\n",
       "   'resource_state': 2,\n",
       "   'split': 1,\n",
       "   'start_date': '2018-07-14T11:06:18Z',\n",
       "   'start_date_local': '2018-07-14T19:06:18Z',\n",
       "   'start_index': 0,\n",
       "   'total_elevation_gain': 233.3}],\n",
       " 'location_city': None,\n",
       " 'location_country': None,\n",
       " 'location_state': None,\n",
       " 'manual': False,\n",
       " 'map': {'id': 'a1701792001',\n",
       "  'polyline': 'uls{DupgwRv@@`AUp@YF?FFBJ?XID_@@q@Py@BWDaABs@AURa@Pk@CMEMAi@@_@La@RCHDp@Jz@?h@E\\\\?ZC^?^Ft@Or@BT@r@E\\\\@^KpAId@INI@m@As@FOAu@IW?o@I[?gBUeAm@[Ac@]{@[c@Yc@Mo@_@g@UUOWEe@OQKUY_@Sq@Yu@Q}@_@OAg@[gAi@s@Uy@c@{Bq@iB]u@Ca@O[A{AW[IsBM}AQ[IsAI}AQg@Ac@GSGo@GWGu@Ey@Y_@I_@MSQYMs@_Ak@m@MWm@_@{@qBOSc@}@QcAUo@OaAo@cBMUSs@Sg@OOmAaCYUm@}@o@q@]g@UMk@q@_@Qe@g@MEe@c@m@_@QSm@_@gA_Am@Ue@[[Om@c@_Aw@gCoAi@_@SSWKQMOGWAY]MI_@G_AWc@SqC{@OEe@AwA_@mAG[GiACuAY_AIk@IqBIOG]CWGWA{@QcBEOIUEaBFc@J[NYHeAn@_@Nk@t@OH[\\\\i@lAMp@Ef@M\\\\ILGRU\\\\s@t@S^CRIP_@d@{@f@ML[RADg@RMJODoARUAUHeAP[?o@L_ABwAr@c@`@Q`@UbAAVCRIlAA`@M|@AV[zAALDTAROj@CRGRA|@YlAe@z@s@t@W\\\\m@`@ORUNONg@fAIl@Kj@UdCIX_@|Bu@lAEH?XCLa@dAe@n@o@t@KTq@h@SVQLWXU`@QPS\\\\e@n@Sf@ORO`@SPCHELCTWZKZy@zAEN?\\\\M`@y@fA}@d@_@L_@Ho@@c@Dm@T_Bt@YRw@Z]Fq@@w@IYB}@IkAAiAMo@CaAQe@Qg@]QGeCqB]UIA@DVNNVd@TbAt@lAx@r@\\\\d@FbAB^FnAB^DTAb@HV?PFbABj@E`@ARGd@_@d@Wf@[^M\\\\Qd@OlBWv@_@d@a@Xo@d@u@|@cCPY^{@\\\\qA|@eBJQ~@{@xAeB\\\\Y|@qADO`@m@d@{Av@iBL_AF{@R_AH{@VmA\\\\}@d@s@vBeBf@o@N[b@sAJo@?o@TiBJ}BReBB[Jg@LmAL]NWNg@FOb@[z@QlAGJGv@K`@Aj@IVAz@Ij@Wn@Sv@e@n@m@LGLOh@_@FUXc@l@mArAmE`@q@\\\\c@XWv@i@RIfA]pASj@Bp@AVGn@L~Fh@xAR|BLxBRfBTjAJ~@NlA^\\\\Rf@Rn@f@d@JLFJHTJLJZHVRjDpBb@JxA|@jAn@t@h@XLbA|@b@VxBvBp@^PPTJLVbA`A|@dAbClDTt@T^Pl@RLDLJz@BD?Xb@lALp@R^Rr@f@v@Vn@d@`AFVd@h@x@h@n@j@PLnBz@|AZb@Dv@LnCP`@?f@H\\\\?vAVP?|ATbBJj@F~@NvAZ^D|@\\\\f@F~@X|Ap@|@d@vBbAbA\\\\RJb@LjAl@LBj@R~C~AzA\\\\|CrAhA^dAJb@@h@H`AATElAM^QJC`@@vAN^A`AFrCIlAB`@BxBp@J?\\\\L^FRFdANHALI@IC_@Ay@@}@Fi@JeBFY@_ABKBgAAg@Fw@@qADa@C[FuBAMCIOKIAsAFOB]NIB_@@m@FUHc@?c@HMAU]KAa@PIJe@EqADIBcA@[J[CMCIK@KF]@YLKRc@CKc@[We@CUABT\\\\F^?VIl@BZDF',\n",
       "  'resource_state': 3,\n",
       "  'summary_polyline': 'uls{DupgwR~DYoO|Ba@tS}Jc@m_@gPma@uFiEeEmGoQsF_Io[eTqg@yGwGbEiFfLwRjG{CjU}FlHwD|PuPpXaOjEwKu@mGaEtGpE`Lp@dOmFjGwNhH}IfEiQtEeFxDaWfPsDxIqO~F}Bj^xC`XfNjMjLrL~XpGhEf`@dFx`@dPzb@tAn@}YkTx@TcCcAcBZjD'},\n",
       " 'max_heartrate': 160.0,\n",
       " 'max_speed': 4.5,\n",
       " 'moving_time': 5672,\n",
       " 'name': 'Evening Run',\n",
       " 'photo_count': 0,\n",
       " 'photos': {'count': 0, 'primary': None},\n",
       " 'pr_count': 0,\n",
       " 'private': False,\n",
       " 'resource_state': 3,\n",
       " 'segment_efforts': [],\n",
       " 'similar_activities': {'average_speed': 2.590507842108332,\n",
       "  'effort_count': 3,\n",
       "  'frequency_milestone': 3,\n",
       "  'max_average_speed': 2.648166431593794,\n",
       "  'mid_average_speed': 2.6033508950655557,\n",
       "  'min_average_speed': 2.5600269632625547,\n",
       "  'pr_rank': 1,\n",
       "  'resource_state': 2,\n",
       "  'trend': {'current_activity_index': 2,\n",
       "   'direction': 1,\n",
       "   'max_speed': 2.648166431593794,\n",
       "   'mid_speed': 2.6033508950655557,\n",
       "   'min_speed': 2.5600269632625547,\n",
       "   'speeds': [2.5641478809738505, 2.562085765074552, 2.5901507054614004]}},\n",
       " 'splits_metric': [{'average_heartrate': 126.16056338028169,\n",
       "   'average_speed': 2.82,\n",
       "   'distance': 1001.3,\n",
       "   'elapsed_time': 360,\n",
       "   'elevation_difference': 9.5,\n",
       "   'moving_time': 355,\n",
       "   'pace_zone': 0,\n",
       "   'split': 1},\n",
       "  {'average_heartrate': 143.76576576576576,\n",
       "   'average_speed': 3.01,\n",
       "   'distance': 1001.7,\n",
       "   'elapsed_time': 333,\n",
       "   'elevation_difference': 1.9,\n",
       "   'moving_time': 333,\n",
       "   'pace_zone': 0,\n",
       "   'split': 2},\n",
       "  {'average_heartrate': 144.34065934065933,\n",
       "   'average_speed': 2.75,\n",
       "   'distance': 1001.1,\n",
       "   'elapsed_time': 364,\n",
       "   'elevation_difference': 0.1,\n",
       "   'moving_time': 364,\n",
       "   'pace_zone': 0,\n",
       "   'split': 3},\n",
       "  {'average_heartrate': 143.53351206434317,\n",
       "   'average_speed': 2.68,\n",
       "   'distance': 999.4,\n",
       "   'elapsed_time': 373,\n",
       "   'elevation_difference': -4.3,\n",
       "   'moving_time': 373,\n",
       "   'pace_zone': 0,\n",
       "   'split': 4},\n",
       "  {'average_heartrate': 145.73849878934624,\n",
       "   'average_speed': 2.42,\n",
       "   'distance': 1001.0,\n",
       "   'elapsed_time': 413,\n",
       "   'elevation_difference': 28.9,\n",
       "   'moving_time': 413,\n",
       "   'pace_zone': 0,\n",
       "   'split': 5},\n",
       "  {'average_heartrate': 156.18203309692672,\n",
       "   'average_speed': 2.36,\n",
       "   'distance': 996.6,\n",
       "   'elapsed_time': 423,\n",
       "   'elevation_difference': 33.2,\n",
       "   'moving_time': 423,\n",
       "   'pace_zone': 0,\n",
       "   'split': 6},\n",
       "  {'average_heartrate': 154.05527638190955,\n",
       "   'average_speed': 2.52,\n",
       "   'distance': 1004.2,\n",
       "   'elapsed_time': 398,\n",
       "   'elevation_difference': 2.7,\n",
       "   'moving_time': 398,\n",
       "   'pace_zone': 0,\n",
       "   'split': 7},\n",
       "  {'average_heartrate': 153.32124352331607,\n",
       "   'average_speed': 2.59,\n",
       "   'distance': 1000.7,\n",
       "   'elapsed_time': 386,\n",
       "   'elevation_difference': 11.6,\n",
       "   'moving_time': 386,\n",
       "   'pace_zone': 0,\n",
       "   'split': 8},\n",
       "  {'average_heartrate': 148.44571428571427,\n",
       "   'average_speed': 2.86,\n",
       "   'distance': 1000.2,\n",
       "   'elapsed_time': 350,\n",
       "   'elevation_difference': -34.6,\n",
       "   'moving_time': 350,\n",
       "   'pace_zone': 0,\n",
       "   'split': 9},\n",
       "  {'average_heartrate': 143.6813186813187,\n",
       "   'average_speed': 2.73,\n",
       "   'distance': 994.6,\n",
       "   'elapsed_time': 364,\n",
       "   'elevation_difference': -34.8,\n",
       "   'moving_time': 364,\n",
       "   'pace_zone': 0,\n",
       "   'split': 10},\n",
       "  {'average_heartrate': 153.89256198347107,\n",
       "   'average_speed': 2.76,\n",
       "   'distance': 1002.8,\n",
       "   'elapsed_time': 363,\n",
       "   'elevation_difference': -3.6,\n",
       "   'moving_time': 363,\n",
       "   'pace_zone': 0,\n",
       "   'split': 11},\n",
       "  {'average_heartrate': 155.5103626943005,\n",
       "   'average_speed': 2.59,\n",
       "   'distance': 999.1,\n",
       "   'elapsed_time': 386,\n",
       "   'elevation_difference': 1.7,\n",
       "   'moving_time': 386,\n",
       "   'pace_zone': 0,\n",
       "   'split': 12},\n",
       "  {'average_heartrate': 156.3684210526316,\n",
       "   'average_speed': 2.63,\n",
       "   'distance': 998.6,\n",
       "   'elapsed_time': 380,\n",
       "   'elevation_difference': 0.0,\n",
       "   'moving_time': 380,\n",
       "   'pace_zone': 0,\n",
       "   'split': 13},\n",
       "  {'average_heartrate': 157.66838046272494,\n",
       "   'average_speed': 2.57,\n",
       "   'distance': 1001.0,\n",
       "   'elapsed_time': 389,\n",
       "   'elevation_difference': -1.7,\n",
       "   'moving_time': 389,\n",
       "   'pace_zone': 0,\n",
       "   'split': 14},\n",
       "  {'average_heartrate': 151.25454545454545,\n",
       "   'average_speed': 2.6,\n",
       "   'distance': 999.2,\n",
       "   'elapsed_time': 385,\n",
       "   'elevation_difference': -10.3,\n",
       "   'moving_time': 385,\n",
       "   'pace_zone': 0,\n",
       "   'split': 15},\n",
       "  {'average_heartrate': 152.0,\n",
       "   'average_speed': 1.89,\n",
       "   'distance': 18.9,\n",
       "   'elapsed_time': 10,\n",
       "   'elevation_difference': 0.0,\n",
       "   'moving_time': 10,\n",
       "   'pace_zone': 0,\n",
       "   'split': 16}],\n",
       " 'splits_standard': [{'average_heartrate': 132.02527075812273,\n",
       "   'average_speed': 2.91,\n",
       "   'distance': 1614.6,\n",
       "   'elapsed_time': 559,\n",
       "   'elevation_difference': 11.3,\n",
       "   'moving_time': 554,\n",
       "   'pace_zone': 0,\n",
       "   'split': 1},\n",
       "  {'average_heartrate': 144.5051724137931,\n",
       "   'average_speed': 2.77,\n",
       "   'distance': 1605.6,\n",
       "   'elapsed_time': 580,\n",
       "   'elevation_difference': 0.9,\n",
       "   'moving_time': 580,\n",
       "   'pace_zone': 0,\n",
       "   'split': 2},\n",
       "  {'average_heartrate': 144.88712241653417,\n",
       "   'average_speed': 2.56,\n",
       "   'distance': 1611.3,\n",
       "   'elapsed_time': 629,\n",
       "   'elevation_difference': 22.8,\n",
       "   'moving_time': 629,\n",
       "   'pace_zone': 0,\n",
       "   'split': 3},\n",
       "  {'average_heartrate': 155.48538011695908,\n",
       "   'average_speed': 2.36,\n",
       "   'distance': 1610.9,\n",
       "   'elapsed_time': 684,\n",
       "   'elevation_difference': 54.3,\n",
       "   'moving_time': 684,\n",
       "   'pace_zone': 0,\n",
       "   'split': 4},\n",
       "  {'average_heartrate': 152.39641109298532,\n",
       "   'average_speed': 2.62,\n",
       "   'distance': 1606.5,\n",
       "   'elapsed_time': 613,\n",
       "   'elevation_difference': -9.6,\n",
       "   'moving_time': 613,\n",
       "   'pace_zone': 0,\n",
       "   'split': 5},\n",
       "  {'average_heartrate': 145.55052264808361,\n",
       "   'average_speed': 2.81,\n",
       "   'distance': 1614.4,\n",
       "   'elapsed_time': 574,\n",
       "   'elevation_difference': -55.9,\n",
       "   'moving_time': 574,\n",
       "   'pace_zone': 0,\n",
       "   'split': 6},\n",
       "  {'average_heartrate': 152.5016891891892,\n",
       "   'average_speed': 2.71,\n",
       "   'distance': 1605.5,\n",
       "   'elapsed_time': 592,\n",
       "   'elevation_difference': -12.6,\n",
       "   'moving_time': 592,\n",
       "   'pace_zone': 0,\n",
       "   'split': 7},\n",
       "  {'average_heartrate': 155.9983686786297,\n",
       "   'average_speed': 2.62,\n",
       "   'distance': 1608.9,\n",
       "   'elapsed_time': 613,\n",
       "   'elevation_difference': 2.7,\n",
       "   'moving_time': 613,\n",
       "   'pace_zone': 0,\n",
       "   'split': 8},\n",
       "  {'average_heartrate': 155.24311183144246,\n",
       "   'average_speed': 2.62,\n",
       "   'distance': 1613.7,\n",
       "   'elapsed_time': 617,\n",
       "   'elevation_difference': -12.7,\n",
       "   'moving_time': 617,\n",
       "   'pace_zone': 0,\n",
       "   'split': 9},\n",
       "  {'average_heartrate': 152.97685185185185,\n",
       "   'average_speed': 2.45,\n",
       "   'distance': 529.0,\n",
       "   'elapsed_time': 216,\n",
       "   'elevation_difference': -0.9,\n",
       "   'moving_time': 216,\n",
       "   'pace_zone': 0,\n",
       "   'split': 10}],\n",
       " 'start_date': '2018-07-14T11:06:18Z',\n",
       " 'start_date_local': '2018-07-14T19:06:18Z',\n",
       " 'start_latitude': 30.91,\n",
       " 'start_latlng': [30.91, 103.59],\n",
       " 'start_longitude': 103.59,\n",
       " 'timezone': '(GMT+08:00) Asia/Shanghai',\n",
       " 'total_elevation_gain': 186.6,\n",
       " 'total_photo_count': 0,\n",
       " 'trainer': False,\n",
       " 'type': 'Run',\n",
       " 'upload_id': 1826512594,\n",
       " 'utc_offset': 28800.0,\n",
       " 'workout_type': 0}"
      ]
     },
     "execution_count": 18,
     "metadata": {},
     "output_type": "execute_result"
    }
   ],
   "source": [
    "# activity"
   ]
  },
  {
   "cell_type": "code",
   "execution_count": null,
   "metadata": {
    "collapsed": true
   },
   "outputs": [],
   "source": []
  }
 ],
 "metadata": {
  "kernelspec": {
   "display_name": "Python 3",
   "language": "python",
   "name": "python3"
  },
  "language_info": {
   "codemirror_mode": {
    "name": "ipython",
    "version": 3
   },
   "file_extension": ".py",
   "mimetype": "text/x-python",
   "name": "python",
   "nbconvert_exporter": "python",
   "pygments_lexer": "ipython3",
   "version": "3.6.2"
  }
 },
 "nbformat": 4,
 "nbformat_minor": 2
}
